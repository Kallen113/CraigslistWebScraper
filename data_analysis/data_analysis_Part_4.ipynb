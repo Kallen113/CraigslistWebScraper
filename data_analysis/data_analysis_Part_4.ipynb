{
 "cells": [
  {
   "cell_type": "code",
   "execution_count": null,
   "metadata": {},
   "outputs": [],
   "source": [
    "## Part 4 of Data Analysis of craigslist SF Bay Area Rental Listings Data:\n",
    "\n",
    "### 1) Query for *all* SF Bay rental listings data\n",
    "\n",
    "### 1a) Examine  why avg prices differ by subregion  & city\n",
    "\n",
    "### For example: Let's examine differences in the distribution of rental listings by property type (ie, apartment vs single-family home vs townhouses, etc.), as compared by subregion & city, respectively\n",
    "\n",
    "### 2) Then, perform a new query to select *only* sf bay cities that have populations within the top 33% of average population levels. Since we have panel data, we will take the average over \n",
    "\n",
    "### 2a) Do panel regression analysis to predict and analyze rental listings data."
   ]
  },
  {
   "cell_type": "code",
   "execution_count": null,
   "metadata": {},
   "outputs": [],
   "source": [
    "# 1) query for SF Bay Area rental listings"
   ]
  },
  {
   "cell_type": "code",
   "execution_count": null,
   "metadata": {},
   "outputs": [],
   "source": [
    "# 1a) \n",
    "\n",
    "# at subregion level, plot distributions of rental listings by property type\n",
    "\n",
    "\n",
    "# get a list of each property type \n",
    "property_types = [ 'apt',\t'in_law_apt',\t'condo',\ttownhouse\tcottage_or_cabin\tsingle_fam\tduplex\tflat\tland\n",
    "\n",
    "# distribution plot\n",
    "def distribution_plot(df, hue_col):\n",
    "    return sns.distplot(df, hue= hue_col)\n",
    "\n",
    "\n",
    "distribution_plot(df, 'property_types')"
   ]
  },
  {
   "cell_type": "code",
   "execution_count": null,
   "metadata": {},
   "outputs": [],
   "source": [
    "# 2) perform a new query to select *only* sf bay cities that have populations within the top 33% of average population levels.\n",
    "\n",
    "\n",
    "# specify query to select only top 33% of cities by population\n",
    "\n",
    "# NB: need to get AVG() of population *by* city\n",
    "query_top_one_third_pop_cities =  \"\"\" SELECT * FROM rental,\n",
    "ROUND(\n",
    "    PERCENT_RANK()\n",
    "    OVER(\n",
    "        PARTITION BY month, year, city  \n",
    "        ORDER BY population -- calculate rank in percent of pop by city on monthly + yearly level\n",
    "        )\n",
    "    ,2) AS percentile_rank\n",
    "FROM rental;\n",
    "\n",
    "WHERE percentile_rank > 33 -- filter data to top 33 percent of cities by pop\n",
    "\"\"\"\n",
    "\n",
    "# \"\"\"SELECT * FROM rental FETCH FIRST 33 PERCENT ROWS ONLY;\"\"\"  #\n",
    "\n"
   ]
  },
  {
   "cell_type": "code",
   "execution_count": null,
   "metadata": {},
   "outputs": [],
   "source": []
  },
  {
   "cell_type": "code",
   "execution_count": null,
   "metadata": {},
   "outputs": [],
   "source": []
  },
  {
   "cell_type": "code",
   "execution_count": null,
   "metadata": {},
   "outputs": [],
   "source": []
  },
  {
   "cell_type": "code",
   "execution_count": null,
   "metadata": {},
   "outputs": [],
   "source": []
  },
  {
   "cell_type": "code",
   "execution_count": null,
   "metadata": {},
   "outputs": [],
   "source": []
  }
 ],
 "metadata": {
  "language_info": {
   "name": "python"
  },
  "orig_nbformat": 4
 },
 "nbformat": 4,
 "nbformat_minor": 2
}
