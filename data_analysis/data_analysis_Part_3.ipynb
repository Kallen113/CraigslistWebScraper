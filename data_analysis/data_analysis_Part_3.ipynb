{
 "cells": [
  {
   "cell_type": "markdown",
   "metadata": {},
   "source": [
    "## Part 3 of Data Analysis of craigslist SF Bay Area Rental Listings Data:\n",
    "\n",
    "### Examine price per square feet by subregion so we can compare subregion rental prices using this sort standardized measure, a sort of KPI. For example, SF rentals might be smaller on average than Peninsula listings, which would indicate a bigger gap in rental prices than if we merely compared average prices. \n",
    "\n",
    "### 2nd, let's re-do panel regressions after adding an additional filtering/transformation process to the data. First, a) remove sqft extreme outliers; b) remove rental price outliers after identifying them via IQR. 2nd, we will apply this additional filter: namely, remove any SF Bay Area cities that have fewer than 60 listings over the sample period of October 2021-March 10, 2022.\n",
    "\n"
   ]
  },
  {
   "cell_type": "code",
   "execution_count": 2,
   "metadata": {},
   "outputs": [],
   "source": [
    "# imports:\n",
    "# file processing\n",
    "import os\n",
    "import glob\n",
    "\n",
    "# data analysis libraries & SQL libraries\n",
    "import numpy as np\n",
    "import pandas as pd\n",
    "# SQL ODBC for API connection between Python & SQL Server\n",
    "import pyodbc\n",
    "import json\n",
    "\n",
    "\n",
    "# data visualization:\n",
    "import matplotlib.pyplot as plt\n",
    "import seaborn as sns\n",
    "\n"
   ]
  },
  {
   "cell_type": "code",
   "execution_count": 3,
   "metadata": {},
   "outputs": [
    {
     "name": "stdout",
     "output_type": "stream",
     "text": [
      "Name of connected database:\n",
      "craigslist\n",
      "<class 'pandas.core.frame.DataFrame'>\n",
      "RangeIndex: 17956 entries, 0 to 17955\n",
      "Data columns (total 47 columns):\n",
      " #   Column                   Non-Null Count  Dtype         \n",
      "---  ------                   --------------  -----         \n",
      " 0   listing_id               17956 non-null  int64         \n",
      " 1   sqft                     17956 non-null  int64         \n",
      " 2   city                     17956 non-null  object        \n",
      " 3   price                    17956 non-null  int64         \n",
      " 4   bedrooms                 17956 non-null  int64         \n",
      " 5   bathrooms                17956 non-null  float64       \n",
      " 6   attr_vars                17956 non-null  object        \n",
      " 7   date_of_webcrawler       17956 non-null  datetime64[ns]\n",
      " 8   kitchen                  17956 non-null  int64         \n",
      " 9   date_posted              17956 non-null  datetime64[ns]\n",
      " 10  region                   17956 non-null  object        \n",
      " 11  sub_region               17956 non-null  object        \n",
      " 12  cats_OK                  17956 non-null  int64         \n",
      " 13  dogs_OK                  17956 non-null  int64         \n",
      " 14  wheelchair_accessible    17956 non-null  int64         \n",
      " 15  laundry_in_bldg          17956 non-null  int64         \n",
      " 16  no_laundry               17956 non-null  int64         \n",
      " 17  washer_and_dryer         17956 non-null  int64         \n",
      " 18  washer_and_dryer_hookup  17956 non-null  int64         \n",
      " 19  laundry_on_site          17956 non-null  int64         \n",
      " 20  full_kitchen             17956 non-null  int64         \n",
      " 21  dishwasher               17956 non-null  int64         \n",
      " 22  refrigerator             17956 non-null  int64         \n",
      " 23  oven                     17956 non-null  int64         \n",
      " 24  flooring_carpet          17956 non-null  int64         \n",
      " 25  flooring_wood            17956 non-null  int64         \n",
      " 26  flooring_tile            17956 non-null  int64         \n",
      " 27  flooring_hardwood        17956 non-null  int64         \n",
      " 28  flooring_other           17956 non-null  int64         \n",
      " 29  apt                      17956 non-null  int64         \n",
      " 30  in_law_apt               17956 non-null  int64         \n",
      " 31  condo                    17956 non-null  int64         \n",
      " 32  townhouse                17956 non-null  int64         \n",
      " 33  cottage_or_cabin         17956 non-null  int64         \n",
      " 34  single_fam               17956 non-null  int64         \n",
      " 35  duplex                   17956 non-null  int64         \n",
      " 36  flat                     17956 non-null  int64         \n",
      " 37  land                     17956 non-null  int64         \n",
      " 38  is_furnished             17956 non-null  int64         \n",
      " 39  attached_garage          17956 non-null  int64         \n",
      " 40  detached_garage          17956 non-null  int64         \n",
      " 41  carport                  17956 non-null  int64         \n",
      " 42  off_street_parking       17956 non-null  int64         \n",
      " 43  no_parking               17956 non-null  int64         \n",
      " 44  EV_charging              17956 non-null  int64         \n",
      " 45  air_condition            17956 non-null  int64         \n",
      " 46  no_smoking               17956 non-null  int64         \n",
      "dtypes: datetime64[ns](2), float64(1), int64(40), object(4)\n",
      "memory usage: 6.2+ MB\n"
     ]
    }
   ],
   "source": [
    "# import data from rental table\n",
    "class SQL_Database():\n",
    "    def __init__(self, sql_config_path):\n",
    "\n",
    "        with open(sql_config_path, 'r') as fh:\n",
    "            config = json.load(fh)\n",
    "\n",
    "        self.driver = config['driver']\n",
    "        self.server = config['server']\n",
    "        self.database = config['database']\n",
    "        self.username = config['username']\n",
    "        self.password = config['password']\n",
    "        print(f\"Name of connected database:\\n{self.database}\")\n",
    "\n",
    "\n",
    "    def import_SQL_to_df(self, sql_query):\n",
    "        \"\"\"Import dataset by using SQL query and Pandas' read_sql() method\"\"\"\n",
    "        conn = pyodbc.connect(\n",
    "            f'DRIVER={self.driver};'\n",
    "            f'SERVER={self.server};'\n",
    "            f'DATABASE={self.database};'\n",
    "            f'UID={self.username};'\n",
    "            f'PWD={self.password};'\n",
    "            'Trusted_Connection=yes;'\n",
    "        )\n",
    "\n",
    "        # establish connection to SQL Server database, by passing in the database name, etc., using a with statement so it will automatically close the connection & cursor once the with statement has completed execution:\n",
    "        # initialize cursor so we can execute SQL code\n",
    "        cursor = conn.cursor() \n",
    "\n",
    "        # query to select all records where price > $100, since such a price is essentially impossible and likely a typo from the original scraped rental listing\n",
    "        # specify SQL query\n",
    "        sql = sql_query \n",
    "\n",
    "        # export SQL query results to Pandas' DataFrame\n",
    "        df = pd.read_sql(sql,conn)  # export results of SQL query to Pandas' DataFrame\n",
    "\n",
    "        cursor.close()\n",
    "        conn.close()\n",
    "        return df\n",
    "\n",
    "\n",
    "## import data with no sqft nu+lls and price >$1, via SQL query to Pandas' df\n",
    "# specify path to json file containing SQL configuration/username data\n",
    "sql_config_path = \"D:\\\\Coding and Code projects\\\\Python\\\\craigslist_data_proj\\\\CraigslistWebScraper\\\\SQL_config\\\\config.json\" \n",
    "\n",
    "SQL_db = SQL_Database(sql_config_path)  # NB: be sure to pass in path to the json SQL configuration file so we can load in the needed username, password, and configuration data to be able to access the SQL database\n",
    "\n",
    "# specify query for data selection\n",
    "query = \"\"\"SELECT * FROM rental WHERE price > 100;\"\"\"\n",
    "# import data to DataFrame via SQL query and Pandas' read_sql() method\n",
    "df = SQL_db.import_SQL_to_df(query)\n",
    "df.info() # sanity check"
   ]
  },
  {
   "cell_type": "markdown",
   "metadata": {},
   "source": [
    "### Data cleaning:\n",
    "\n",
    "\n",
    "### Remove records with very high and low sqft outliers that are likely incorrect due to data entry errors or simply too extreme to readily include in the statistical analysis and visualizations:\n",
    "\n",
    "### Let's assume the exteme values of sqft that are not reasonable are a) sqft > 10k, or b) sqft <90:"
   ]
  },
  {
   "cell_type": "code",
   "execution_count": 4,
   "metadata": {},
   "outputs": [
    {
     "name": "stdout",
     "output_type": "stream",
     "text": [
      "Having cleaned the data, the new min and max sqft values are: 90 & 10000\n"
     ]
    }
   ],
   "source": [
    "# remove listings that are very likely posted with incorrect number of bedrooms\n",
    "def delete_listings_with_suspicious_sqft_vals(df):\n",
    "    \"\"\"Remove listings that have suspiciously or even iompossibly high or low sqft values.\n",
    "    Namely: a) sqft > 10k or b) sqft < 90 \"\"\"\n",
    "    # remove listings with suspicious sqft vals:  \n",
    "    return df.loc[~((df.sqft>10000) | (df.sqft < 90)) ]  # remove any rows with sqft > 10k or sqft <90\n",
    "\n",
    "# filter data based on sqft:\n",
    "df = delete_listings_with_suspicious_sqft_vals(df)\n",
    "\n",
    "# sanity check\n",
    "print(f'Having cleaned the data, the new min and max sqft values are: {df.sqft.min()} & {df.sqft.max()}')  "
   ]
  },
  {
   "cell_type": "markdown",
   "metadata": {},
   "source": [
    "### Data cleaning--cont'd:\n",
    "\n",
    "### Remove bedroom listings that likely have suspiciosly low rental prices, given the number of bedrooms. For example, some supposed 5-6 bedrooms listings are denoted as being apartments and have rental prices well below $3,500. This is dubious and likely due to data entry erorrs. Thus, let's remove these listings from the dataset:"
   ]
  },
  {
   "cell_type": "code",
   "execution_count": 5,
   "metadata": {},
   "outputs": [
    {
     "data": {
      "text/plain": [
       "1    7259\n",
       "2    4176\n",
       "0    1262\n",
       "3     354\n",
       "4      40\n",
       "5       9\n",
       "Name: bedrooms, dtype: int64"
      ]
     },
     "execution_count": 5,
     "metadata": {},
     "output_type": "execute_result"
    }
   ],
   "source": [
    "# remove listings that are very likely posted with incorrect number of bedrooms\n",
    "def delete_listings_with_incorrect_bedroom_and_price_vals(df):\n",
    "    \"\"\"Remove apartment property type that have suspiciously low rental prices and an absurdly high number of bedrooms: namely--6 or more bedrooms.\"\"\"\n",
    "    # remove listings that are of apt type, have 6+ bedrooms, and have rental price < $3,500  \n",
    "    return df.loc[~((df.bedrooms>5) & (df.price < 3500))]\n",
    "\n",
    "#filter data\n",
    "df = delete_listings_with_incorrect_bedroom_and_price_vals(df)\n",
    "# sanity check\n",
    "df.bedrooms.value_counts()  # NB: there should be fewer listings with > 5 bedrooms  "
   ]
  },
  {
   "cell_type": "markdown",
   "metadata": {},
   "source": [
    "### Ensure that each set of indicator variables that are supposed to be mutually exclusive are in fact mutually exclusive (ie, sum of each set of indicator variable per row or record listing must equal a total of 1 at most):"
   ]
  },
  {
   "cell_type": "code",
   "execution_count": 7,
   "metadata": {},
   "outputs": [
    {
     "name": "stdout",
     "output_type": "stream",
     "text": [
      "The following rows (ie, rental listings) will need to be removed since they violate the assumption of the indicator variable columns being mutually exclusive:\n",
      "      listing_id  sqft          city  price  bedrooms  bathrooms  \\\n",
      "62    7388669952  9500      Petaluma   2175         2        1.0   \n",
      "562   7397023232  9900    San Rafael   1995         1        1.0   \n",
      "567   7397180416  7200    Santa Rosa   1850         1        1.0   \n",
      "661   7398716416  8500        Novato   2865         2        2.0   \n",
      "692   7398986240  4400    San Rafael   1950         0        1.0   \n",
      "698   7399021568  6600    Santa Rosa   2046         1        1.0   \n",
      "791   7399582208  7520    Santa Rosa   2132         1        1.0   \n",
      "809   7399651328  6800      Petaluma   2380         1        1.0   \n",
      "854   7399968256  8350        Novato   2415         2        1.0   \n",
      "924   7400109056  9500    Santa Rosa   2441         2        1.0   \n",
      "931   7400120832  9540    San Rafael   3195         2        1.0   \n",
      "1640  7405201920  5250       Fremont   2210         1        1.0   \n",
      "3296  7416249344  6480    Santa Cruz   2275         1        1.0   \n",
      "3546  7417853952  7430  Walnut Creek   3450         1        1.0   \n",
      "4405  7421750272  9620       Concord   2710         2        2.0   \n",
      "5051  7423765504  7900       Concord   2666         1        1.0   \n",
      "6121  7427359232  8000     Palo Alto   2400         2        1.0   \n",
      "\n",
      "                                              attr_vars date_of_webcrawler  \\\n",
      "62    broker fee details: $100.00\\ncats are OK - pur...         2021-10-28   \n",
      "562   cats are OK - purrr\\ndogs are OK - wooof\\nfloo...         2021-10-28   \n",
      "567   air conditioning\\ncats are OK - purrr\\ndogs ar...         2021-10-28   \n",
      "661   air conditioning\\napplication fee details: 52....         2021-10-28   \n",
      "692   cats are OK - purrr\\ndogs are OK - wooof\\nfloo...         2021-10-28   \n",
      "698   air conditioning\\napplication fee details: 45....         2021-10-28   \n",
      "791   air conditioning\\ncats are OK - purrr\\ndogs ar...         2021-10-28   \n",
      "809   application fee details: 52.46\\ncats are OK - ...         2021-10-28   \n",
      "854   flooring: carpet\\napartment\\nlaundry on site\\n...         2021-10-28   \n",
      "924   air conditioning\\ncats are OK - purrr\\ndogs ar...         2021-10-28   \n",
      "931   cats are OK - purrr\\ndogs are OK - wooof\\nfloo...         2021-10-28   \n",
      "1640  air conditioning\\ncats are OK - purrr\\ndogs ar...         2021-11-08   \n",
      "3296  application fee details: $29 + tax (applicatio...         2021-12-04   \n",
      "3546  air conditioning\\ncats are OK - purrr\\ndogs ar...         2021-12-08   \n",
      "4405  air conditioning\\napplication fee details: $50...         2021-12-17   \n",
      "5051  air conditioning\\ncats are OK - purrr\\ndogs ar...         2021-12-25   \n",
      "6121  application fee details: Application fee by la...         2022-01-27   \n",
      "\n",
      "      kitchen         date_posted  ... is_furnished attached_garage  \\\n",
      "62          0 2021-10-02 12:36:00  ...            0               0   \n",
      "562         1 2021-10-20 21:51:00  ...            0               0   \n",
      "567         1 2021-10-21 09:16:00  ...            0               0   \n",
      "661         1 2021-10-24 16:56:00  ...            0               0   \n",
      "692         1 2021-10-25 10:24:00  ...            0               0   \n",
      "698         0 2021-10-25 11:21:00  ...            0               0   \n",
      "791         1 2021-10-26 13:45:00  ...            0               0   \n",
      "809         1 2021-10-26 16:19:00  ...            0               0   \n",
      "854         0 2021-10-27 11:26:00  ...            0               0   \n",
      "924         1 2021-10-27 16:17:00  ...            0               0   \n",
      "931         0 2021-10-27 16:49:00  ...            0               0   \n",
      "1640        0 2021-11-08 09:54:00  ...            0               0   \n",
      "3296        0 2021-12-04 00:24:00  ...            0               0   \n",
      "3546        0 2021-12-07 14:46:00  ...            0               0   \n",
      "4405        1 2021-12-16 17:34:00  ...            0               0   \n",
      "5051        1 2021-12-21 18:50:00  ...            0               0   \n",
      "6121        0 2022-01-01 09:56:00  ...            0               0   \n",
      "\n",
      "      detached_garage  carport  off_street_parking  no_parking  EV_charging  \\\n",
      "62                  0        0                   1           0            0   \n",
      "562                 0        0                   1           0            0   \n",
      "567                 0        1                   0           0            0   \n",
      "661                 0        0                   0           1            0   \n",
      "692                 0        0                   1           0            0   \n",
      "698                 0        1                   0           0            0   \n",
      "791                 0        1                   0           0            0   \n",
      "809                 0        0                   0           1            0   \n",
      "854                 0        1                   0           0            0   \n",
      "924                 0        1                   0           0            0   \n",
      "931                 0        0                   1           0            0   \n",
      "1640                0        0                   0           0            0   \n",
      "3296                0        1                   0           0            0   \n",
      "3546                0        1                   0           0            0   \n",
      "4405                0        1                   0           0            0   \n",
      "5051                1        0                   0           0            0   \n",
      "6121                0        1                   0           0            0   \n",
      "\n",
      "      air_condition  no_smoking  housing_type_row_sum  \n",
      "62                0           1                     2  \n",
      "562               0           0                     2  \n",
      "567               1           1                     2  \n",
      "661               1           1                     2  \n",
      "692               0           1                     2  \n",
      "698               1           1                     2  \n",
      "791               1           1                     2  \n",
      "809               0           1                     2  \n",
      "854               0           1                     2  \n",
      "924               1           1                     2  \n",
      "931               0           1                     2  \n",
      "1640              1           0                     2  \n",
      "3296              0           1                     2  \n",
      "3546              1           1                     2  \n",
      "4405              1           1                     2  \n",
      "5051              1           1                     2  \n",
      "6121              0           1                     2  \n",
      "\n",
      "[17 rows x 47 columns]\n"
     ]
    }
   ],
   "source": [
    "# identify whether any sets of indicator variables are perfectly collinear, anmd remove any indicator variabels that should be mutually exclusive, but are not--ie, sum >=1 for the set of indicator variables for a given rental listing (ie, row)\n",
    "def identify_perfect_collinearity(df, indicator_var_group_col_names:list, sum_of_indicator_groups_colname):\n",
    "    \"\"\"Using a list of all columns within a group of idicator variables, take the .sum() along the rows (ie, axis=1) identify if any rows have a 1 in *more than 1* of the cols by seeing whether the .sum() of the indicator cols along the rows (ie, axis=1) is greater than 1. \n",
    "    If this is the case, then the given group of indicator vars is *not* pefectly collinear (even though they theoretically should be)!\"\"\"\n",
    "    # compute sum of given group of indicator var cols along rows (ie, axis=1), and add this sum as new col:\n",
    "    df[sum_of_indicator_groups_colname] = df[indicator_var_group_col_names].sum(axis=1)  # take sum of group of indicator var cols \n",
    "\n",
    "    # see whether any rows (ie, rental listings) have a sum >1 among the group of indicator cols. If so, then *remove* these given rows (rental listings).\n",
    "    row_filter = df[df[sum_of_indicator_groups_colname] > 1]  # specify filter criteria\n",
    "    # sanity check\n",
    "    print(f\"The following rows (ie, rental listings) will need to be removed since they violate the assumption of the indicator variable columns being mutually exclusive:\\n{row_filter}\")\n",
    "    # remove these problematic rows from dataset, by applying the negation of the filter (ie, with sum <= 1):\n",
    "    df = df[df[sum_of_indicator_groups_colname] <= 1]\n",
    "    # remove sum_of_indicator_groups_colname since it's no longer needed\n",
    "    df = df.drop(columns=[sum_of_indicator_groups_colname])\n",
    "    return df\n",
    "\n",
    "\n",
    "# property/home indicator var cols group\n",
    "housing_type_indicators = ['apt', 'in_law_apt', 'condo', 'townhouse', 'cottage_or_cabin', 'single_fam', 'duplex', 'flat', 'land']\n",
    "\n",
    "\n",
    "df = identify_perfect_collinearity(df, housing_type_indicators, 'housing_type_row_sum')"
   ]
  },
  {
   "cell_type": "code",
   "execution_count": 8,
   "metadata": {},
   "outputs": [
    {
     "name": "stdout",
     "output_type": "stream",
     "text": [
      "The following rows (ie, rental listings) will need to be removed since they violate the assumption of the indicator variable columns being mutually exclusive:\n",
      "       listing_id  sqft                 city  price  bedrooms  bathrooms  \\\n",
      "37     7386295296  7430            Daly City   1400         0        1.0   \n",
      "38     7387141632  5000         Walnut Creek   1900         1        1.0   \n",
      "67     7389036544  4480              Concord   1600         1        1.0   \n",
      "90     7389910528  1800         Walnut Creek   1400         1        1.0   \n",
      "102    7390080000  6300  South San Francisco   1650         1        1.0   \n",
      "...           ...   ...                  ...    ...       ...        ...   \n",
      "17630  7454707200  5000             San Jose   1825         1        1.0   \n",
      "17647  7454804992  3130             Campbell   1550         1        1.0   \n",
      "17689  7455145472  8000             Campbell   1600         1        1.0   \n",
      "17738  7455324672  4000          Santa Clara   1600         1        1.0   \n",
      "17952  7456284160  3000            Sunnyvale   1500         1        1.0   \n",
      "\n",
      "                                               attr_vars date_of_webcrawler  \\\n",
      "37     cats are OK - purrr\\nflooring: tile\\napartment...         2021-10-12   \n",
      "38     flooring: tile\\nin-law\\nno laundry on site\\nno...         2021-10-29   \n",
      "67     application fee details: $30 including credit ...         2021-10-29   \n",
      "90     flooring: wood\\napartment\\nno laundry on site\\...         2021-10-29   \n",
      "102    flooring: wood\\nin-law\\nno laundry on site\\nof...         2021-10-12   \n",
      "...                                                  ...                ...   \n",
      "17630  flooring: carpet\\napartment\\nno laundry on sit...         2022-03-10   \n",
      "17647  flooring: carpet\\napartment\\nno laundry on sit...         2022-03-10   \n",
      "17689  air conditioning\\napplication fee details: cre...         2022-03-10   \n",
      "17738  air conditioning\\nflooring: wood\\nin-law\\nno l...         2022-03-10   \n",
      "17952  air conditioning\\nflooring: wood\\nfurnished\\ni...         2022-03-10   \n",
      "\n",
      "       kitchen         date_posted  ... is_furnished attached_garage  \\\n",
      "37           1 2021-09-27 11:23:00  ...            0               0   \n",
      "38           0 2021-09-29 08:15:00  ...            0               0   \n",
      "67           1 2021-10-03 11:39:00  ...            0               0   \n",
      "90           1 2021-10-05 09:20:00  ...            0               0   \n",
      "102          0 2021-10-05 14:17:00  ...            0               0   \n",
      "...        ...                 ...  ...          ...             ...   \n",
      "17630        1 2022-03-06 12:25:00  ...            0               0   \n",
      "17647        0 2022-03-06 16:32:00  ...            0               0   \n",
      "17689        0 2022-03-07 12:03:00  ...            0               0   \n",
      "17738        1 2022-03-07 19:10:00  ...            0               0   \n",
      "17952        1 2022-03-09 23:39:00  ...            1               0   \n",
      "\n",
      "       detached_garage  carport  off_street_parking  no_parking  EV_charging  \\\n",
      "37                   0        0                   1           0            0   \n",
      "38                   0        0                   0           0            0   \n",
      "67                   0        0                   1           0            0   \n",
      "90                   0        0                   0           1            0   \n",
      "102                  0        0                   1           0            0   \n",
      "...                ...      ...                 ...         ...          ...   \n",
      "17630                0        1                   0           0            0   \n",
      "17647                0        0                   0           0            0   \n",
      "17689                0        0                   0           0            0   \n",
      "17738                0        0                   0           0            0   \n",
      "17952                0        0                   1           0            0   \n",
      "\n",
      "       air_condition  no_smoking  laundry_ind_sum  \n",
      "37                 0           0                2  \n",
      "38                 0           1                2  \n",
      "67                 0           1                2  \n",
      "90                 0           0                2  \n",
      "102                0           0                2  \n",
      "...              ...         ...              ...  \n",
      "17630              0           1                2  \n",
      "17647              0           1                2  \n",
      "17689              1           1                2  \n",
      "17738              1           1                2  \n",
      "17952              1           1                2  \n",
      "\n",
      "[649 rows x 47 columns]\n"
     ]
    }
   ],
   "source": [
    "# next, apply filter to laundry indicators\n",
    "\n",
    "# specify laundry indicator var names\n",
    "laundry_indicators = ['laundry_in_bldg', 'no_laundry', 'washer_and_dryer', 'washer_and_dryer_hookup', 'laundry_on_site']\n",
    " \n",
    "df = identify_perfect_collinearity(df, laundry_indicators, 'laundry_ind_sum')"
   ]
  },
  {
   "cell_type": "code",
   "execution_count": 10,
   "metadata": {},
   "outputs": [
    {
     "name": "stdout",
     "output_type": "stream",
     "text": [
      "The following rows (ie, rental listings) will need to be removed since they violate the assumption of the indicator variable columns being mutually exclusive:\n",
      "Empty DataFrame\n",
      "Columns: [listing_id, sqft, city, price, bedrooms, bathrooms, attr_vars, date_of_webcrawler, kitchen, date_posted, region, sub_region, cats_OK, dogs_OK, wheelchair_accessible, laundry_in_bldg, no_laundry, washer_and_dryer, washer_and_dryer_hookup, laundry_on_site, full_kitchen, dishwasher, refrigerator, oven, flooring_carpet, flooring_wood, flooring_tile, flooring_other, apt, in_law_apt, condo, townhouse, cottage_or_cabin, single_fam, duplex, flat, land, is_furnished, attached_garage, detached_garage, carport, off_street_parking, no_parking, EV_charging, air_condition, no_smoking, flooring_types]\n",
      "Index: []\n",
      "\n",
      "[0 rows x 47 columns]\n"
     ]
    }
   ],
   "source": [
    "# flooring type indicators \n",
    "flooring_type_indicators = ['flooring_carpet',\t'flooring_wood', 'flooring_tile', 'flooring_hardwood', 'flooring_other']\n",
    "\n",
    "df = identify_perfect_collinearity(df, flooring_type_indicators, 'flooring_types')"
   ]
  },
  {
   "cell_type": "code",
   "execution_count": 11,
   "metadata": {},
   "outputs": [
    {
     "name": "stdout",
     "output_type": "stream",
     "text": [
      "The following rows (ie, rental listings) will need to be removed since they violate the assumption of the indicator variable columns being mutually exclusive:\n",
      "Empty DataFrame\n",
      "Columns: [listing_id, sqft, city, price, bedrooms, bathrooms, attr_vars, date_of_webcrawler, kitchen, date_posted, region, sub_region, cats_OK, dogs_OK, wheelchair_accessible, laundry_in_bldg, no_laundry, washer_and_dryer, washer_and_dryer_hookup, laundry_on_site, full_kitchen, dishwasher, refrigerator, oven, flooring_carpet, flooring_wood, flooring_tile, flooring_other, apt, in_law_apt, condo, townhouse, cottage_or_cabin, single_fam, duplex, flat, land, is_furnished, attached_garage, detached_garage, carport, off_street_parking, no_parking, EV_charging, air_condition, no_smoking, parking_ops]\n",
      "Index: []\n",
      "\n",
      "[0 rows x 47 columns]\n"
     ]
    }
   ],
   "source": [
    "# parking options indicators\n",
    "parking_options_indicators = ['attached_garage','detached_garage', 'carport', 'off_street_parking', 'no_parking']\n",
    "\n",
    "df = identify_perfect_collinearity(df, parking_options_indicators, 'parking_ops')"
   ]
  },
  {
   "cell_type": "markdown",
   "metadata": {},
   "source": [
    "### Remove columns with only 0s:"
   ]
  },
  {
   "cell_type": "code",
   "execution_count": 12,
   "metadata": {},
   "outputs": [],
   "source": [
    "def remove_cols_with_only_0s(df):\n",
    "    \"\"\"Remove any columns that have only 0s, since including them \n",
    "    in a regression model would result in perfect multicollinearity.\"\"\"\n",
    "    df = df.loc[:, (df != 0).any(axis=0)]\n",
    "    return df\n",
    "\n",
    "df = remove_cols_with_only_0s(df)"
   ]
  },
  {
   "cell_type": "code",
   "execution_count": null,
   "metadata": {},
   "outputs": [],
   "source": []
  },
  {
   "cell_type": "markdown",
   "metadata": {},
   "source": []
  },
  {
   "cell_type": "code",
   "execution_count": 13,
   "metadata": {},
   "outputs": [
    {
     "name": "stdout",
     "output_type": "stream",
     "text": [
      "Q1: 2143.25,\n",
      " Q3: 2988.0, \n",
      " IQR: 844.75, \n",
      " min threshold: 876.125, \n",
      " max thres: 4255.125\n",
      "\n",
      "Number of records in the dataset after removing outliers: \n",
      "12032 \n",
      "\n",
      "New min & max values for price wrt training dataset (after removing outliers) is:\n",
      "max:4255\n",
      "& min:880\n"
     ]
    }
   ],
   "source": [
    "## remove outliers\n",
    "\n",
    "# IQR (Interquartile) range approach for outlier detection--remove extreme outliers:\n",
    "\n",
    "# calculate 1st & 3rd quartiles, IQR, and then the min and max thresholds based on IQR, etc\n",
    "def IQR_outlier_detection_and_removal(df, col_with_outliers, iqr_thres=1.5):\n",
    "    \"\"\" \n",
    "    Detect outliers based on IQR. Remove outliers based on being 1.5 times above or below Q3 & Q1, respectively.\n",
    "    Check if input is Series or DataFrame, and apply the function accordingly.  \n",
    "    \"\"\"\n",
    "    import scipy.stats as stats\n",
    "    # check if input data is a Series object: \n",
    "    if isinstance(df, pd.core.series.Series):  # if df is in fact a Pandas' Series\n",
    "        # calculate the 1st & 3rd quartiles:\n",
    "        Q1 =  df.quantile(q=.25)  # 1st quartile\n",
    "        Q3 =  df.quantile(q=.75) # 3rd quartile\n",
    "        IQR = Q3 - Q1    # calculate interquartile range (ie, IQR)\n",
    "        min_thres = Q1 - IQR*iqr_thres # define min threshold --namely: subtract Q1 from IQR times 3 (given iqr_thres parameter)\n",
    "        max_thres = Q3 + IQR*iqr_thres  # define max threshold\n",
    "        print(f\"Q1: {Q1},\\n Q3: {Q3}, \\n IQR: {IQR}, \\n min threshold: {min_thres}, \\n max thres: {max_thres}\\n\") # print Q1, Q2, IQR, and thresholds \n",
    "        data_sans_outliers =  df[(df > min_thres) & (df < max_thres)] # remove outliers--ie, above the max threshold OR below the min threshold\n",
    "        print(f\"Number of records in the dataset after removing outliers: \\n{data_sans_outliers.shape[0]} \\n\")\n",
    "\n",
    "    else:  # if input is a DataFrame\n",
    "        # calculate the 1st & 3rd quartiles:\n",
    "        Q1 =  df[col_with_outliers].quantile(q=.25)  #calculate 1st quartile\n",
    "        Q3 =  df[col_with_outliers].quantile(q=.75) #calculate 3rd quartile\n",
    "        IQR = Q3 - Q1    # calculate interquartile range (ie, IQR)\n",
    "        min_thres = Q1 - IQR*iqr_thres # define min threshold --namely: subtract Q1 from IQR times 3 (given iqr_thres parameter)\n",
    "        max_thres = Q3 + IQR*iqr_thres  # define max threshold\n",
    "        print(f\"Q1: {Q1},\\n Q3: {Q3}, \\n IQR: {IQR}, \\n min threshold: {min_thres}, \\n max thres: {max_thres}\\n\") # print Q1, Q2, IQR, and thresholds \n",
    "        data_sans_outliers =  df[(df[col_with_outliers] > min_thres) & (df[col_with_outliers] < max_thres)] # remove outliers--ie, above the max threshold OR below the min threshold\n",
    "        print(f\"Number of records in the dataset after removing outliers: \\n{data_sans_outliers.shape[0]} \\n\")\n",
    "    \n",
    "    return data_sans_outliers\n",
    "\n",
    "#remove outliers via function:\n",
    "df = IQR_outlier_detection_and_removal(df, 'price')\n",
    "\n",
    "\n",
    "# sanity check\n",
    "def check_for_new_min_and_max_after_outlier_removal(df, col_with_outliers):\n",
    "    if isinstance(df, pd.core.series.Series):  # if df is in fact a Pandas' Series\n",
    "            print(f\"New min & max values for price wrt training dataset (after removing outliers) is:\\nmax:{df.max()}\\n& min:{df.min()}\")\n",
    "    else:\n",
    "        print(f\"New min & max values for price wrt training dataset (after removing outliers) is:\\nmax:{df[col_with_outliers].max()}\\n& min:{df[col_with_outliers].min()}\")\n",
    "        \n",
    "check_for_new_min_and_max_after_outlier_removal(df, 'price')"
   ]
  },
  {
   "cell_type": "markdown",
   "metadata": {},
   "source": [
    "### Calculate price per square foot as a standardized measure of comparing rental price\""
   ]
  },
  {
   "cell_type": "code",
   "execution_count": 22,
   "metadata": {},
   "outputs": [
    {
     "data": {
      "text/plain": [
       "2    0.546154\n",
       "4    0.266768\n",
       "5    0.347368\n",
       "6    0.633397\n",
       "7    0.387500\n",
       "Name: price_per_sqft, dtype: float64"
      ]
     },
     "execution_count": 22,
     "metadata": {},
     "output_type": "execute_result"
    }
   ],
   "source": [
    "## Develop a standardized measure (a KPI if you will) in which we can compare cities and subregions by rental prices, but account for differences in rental home/property size:\n",
    "\n",
    "### Ie: calculate price per sq feet\n",
    "df['price_per_sqft'] = df.price/df.sqft\n",
    "#sanity check\n",
    "df['price_per_sqft'].head()"
   ]
  },
  {
   "cell_type": "code",
   "execution_count": 32,
   "metadata": {},
   "outputs": [
    {
     "data": {
      "text/plain": [
       "11.61111111111111"
      ]
     },
     "execution_count": 32,
     "metadata": {},
     "output_type": "execute_result"
    }
   ],
   "source": [
    "df['price_per_sqft'].max()"
   ]
  },
  {
   "cell_type": "markdown",
   "metadata": {},
   "source": [
    "### Compare subregions by price_per_sqft--use a barchart of avg price per sqft, with hue of subregion"
   ]
  },
  {
   "cell_type": "code",
   "execution_count": null,
   "metadata": {},
   "outputs": [],
   "source": [
    "# avg price per sqft by subregion\n",
    "\n",
    "avg_sqft_price"
   ]
  },
  {
   "cell_type": "markdown",
   "metadata": {},
   "source": [
    "### Compare subregions by price_per_sqft--use a boxplot with hue of subregion"
   ]
  },
  {
   "cell_type": "code",
   "execution_count": 19,
   "metadata": {},
   "outputs": [
    {
     "data": {
      "text/plain": [
       "<AxesSubplot:xlabel='bedrooms', ylabel='price_per_sqft'>"
      ]
     },
     "execution_count": 19,
     "metadata": {},
     "output_type": "execute_result"
    },
    {
     "data": {
      "image/png": "[encoded data removed]",
      "text/plain": [
       "<Figure size 864x576 with 1 Axes>"
      ]
     },
     "metadata": {
      "needs_background": "light"
     },
     "output_type": "display_data"
    }
   ],
   "source": [
    "def boxplot_with_y_var_and_hue(df, x_axis_var:str, y_axis_var:str, hue_option:str, custom_palette:dict):\n",
    "    if hue_option is not None:        \n",
    "        plt.figure(figsize=(12,8))\n",
    "        return sns.boxplot(data=df, x=x_axis_var, y= y_axis_var, hue=hue_option, palette= custom_palette)\n",
    "    else:  # ie, if we do *not* want to use a hue\n",
    "        plt.figure(figsize=(12,8))\n",
    "        return sns.boxplot(data=df, x=x_axis_var, y= y_axis_var)\n",
    "\n",
    "\n",
    "#  boxplot to visualize distribution of price_per_sqft by subregion\n",
    "\n",
    "# create a dictionary defining a customized palette of colors to use for each subregion:\n",
    "subregion_palette = {\"nby\": \"b\", \"eby\": \"yellow\", \"pen\":\"g\", \"sfc\":\"red\", \"sby\":\"indigo\", \"scz\":\"violet\"}\n",
    "\n",
    "hue_op_subregion = \"sub_region\"\n",
    "\n",
    "# boxplot\n",
    "boxplot_with_y_var_and_hue(df, \"bedrooms\", \"price_per_sqft\", hue_op_subregion, subregion_palette)"
   ]
  },
  {
   "cell_type": "code",
   "execution_count": null,
   "metadata": {},
   "outputs": [],
   "source": []
  },
  {
   "cell_type": "code",
   "execution_count": null,
   "metadata": {},
   "outputs": [],
   "source": []
  },
  {
   "cell_type": "markdown",
   "metadata": {},
   "source": [
    "### The boxplot suggests...\n",
    "\n",
    "### Next, examine price per sqft by number of bedrooms & subregion"
   ]
  },
  {
   "cell_type": "code",
   "execution_count": null,
   "metadata": {},
   "outputs": [],
   "source": [
    "#price per sqft by number of bedrooms & subregion\n",
    "boxplot_with_y_var_and_hue(df, \"bedrooms\", \"price_per_sqft\", hue_op_subregion, subregion_palette)"
   ]
  },
  {
   "cell_type": "code",
   "execution_count": null,
   "metadata": {},
   "outputs": [],
   "source": []
  },
  {
   "cell_type": "markdown",
   "metadata": {},
   "source": [
    "### Data cleaning--cont'd:\n",
    "\n",
    "### As a result, let's remove outliers based on IQR (interquartile range), let's use 1.5 times IQR as our rule for removing outliers:"
   ]
  },
  {
   "cell_type": "code",
   "execution_count": null,
   "metadata": {},
   "outputs": [],
   "source": []
  },
  {
   "cell_type": "code",
   "execution_count": null,
   "metadata": {},
   "outputs": [],
   "source": []
  },
  {
   "cell_type": "code",
   "execution_count": null,
   "metadata": {},
   "outputs": [],
   "source": []
  },
  {
   "cell_type": "code",
   "execution_count": null,
   "metadata": {},
   "outputs": [],
   "source": []
  }
 ],
 "metadata": {
  "interpreter": {
   "hash": "9245c747e8241d920f220897f12edbe786b61c4594b5fa55595ea3a9c3131f03"
  },
  "kernelspec": {
   "display_name": "Python 3.7.1 ('craigslist_venv': venv)",
   "language": "python",
   "name": "python3"
  },
  "language_info": {
   "codemirror_mode": {
    "name": "ipython",
    "version": 3
   },
   "file_extension": ".py",
   "mimetype": "text/x-python",
   "name": "python",
   "nbconvert_exporter": "python",
   "pygments_lexer": "ipython3",
   "version": "3.7.1"
  },
  "orig_nbformat": 4
 },
 "nbformat": 4,
 "nbformat_minor": 2
}
