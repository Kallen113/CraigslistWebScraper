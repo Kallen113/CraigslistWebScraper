{
 "cells": [
  {
   "cell_type": "markdown",
   "metadata": {},
   "source": [
    "## This notebook comprises a data analysis of rental listings data, in which we try to estimate rental prices at the city level for SF Bay Area cities. \n",
    "\n",
    "### NB: This notebook is essentially a demo of the data_analysis.py script, and to run this script or notebook, we assume we have performed the 1st 2 phases of this webcrawler project: ie, we have already done the following: 1.) Used the webcrawler at least once; & 2.) We have cleaned and wrangled the scraped data, and we have used the CSV (to Pandas' DataFrame) to SQL data pipeline so that we have the data stored into a SQL Server table. This way, we can quikly query (relatively) cleaned data from the SQL Server table.\n",
    "\n",
    "### The steps of this data analysis phase of the project are as follows: \n",
    "\n",
    "### A.) We start by importing the data from the SQL rental table, but ensure that price > $1. B.) We then ensure the variables are of the correct data type, and we will remove any columns that are irrelevant to an empirical analysis of rental prices. C.) We then perform some data exploration, such as examining the distribution of several key variables, such as rental price (the outcome variable), number of bedrooms, and square feet. D.) We wrangle, normalize, and prepare the data by using multiple (k-fold) cross validation to split the overall dataset into several segments, each of which will be used to train several different regression models. E.) Finally, we implement The notebook is essentially a demo of the data_analysis.py script:various regression models, including comparing the predictive accuracy of the models. Using the most accurate models, we will make predictions of city-level rental prices.  "
   ]
  },
  {
   "cell_type": "code",
   "execution_count": 1,
   "metadata": {},
   "outputs": [],
   "source": [
    "# imports:\n",
    "# file processing\n",
    "import os\n",
    "import glob\n",
    "\n",
    "# data analysis libraries & SQL libraries\n",
    "import numpy as np\n",
    "import pandas as pd\n",
    "# SQL ODBC for API connection between Python & SQL Server\n",
    "import pyodbc\n",
    "import sqlalchemy as sa\n",
    "\n",
    "# data visualization:\n",
    "import matplotlib.pyplot as plt\n",
    "import seaborn as sns\n",
    "\n",
    "import json\n",
    "\n",
    "# statistical and ML modeling and hypothesis testing libraries\n",
    "from sklearn.model_selection import KFold   # k-fold cross validation\n",
    "from sklearn.model_selection import train_test_split  # split datasets into training & test datasets\n",
    "from sklearn import linear_model  # OLS \n",
    "from sklearn import ensemble  # ensemble module contains the GradientBoostingRegressor class, which is used to estimate Gradient-boosted regression models\n",
    "\n",
    "from sklearn.metrics import mean_squared_error  # calculate MSE to estimate accuracy of regression models \n"
   ]
  },
  {
   "cell_type": "markdown",
   "metadata": {},
   "source": [
    "## A.) Import data from SQL table, but ensure square feet data is available (ie, is not null) and price > $1: "
   ]
  },
  {
   "cell_type": "code",
   "execution_count": 104,
   "metadata": {},
   "outputs": [
    {
     "name": "stdout",
     "output_type": "stream",
     "text": [
      "Name of connected database:\n",
      "craigslist\n",
      "<class 'pandas.core.frame.DataFrame'>\n",
      "RangeIndex: 15142 entries, 0 to 15141\n",
      "Data columns (total 47 columns):\n",
      " #   Column                   Non-Null Count  Dtype         \n",
      "---  ------                   --------------  -----         \n",
      " 0   listing_id               15142 non-null  int64         \n",
      " 1   sqft                     15142 non-null  int64         \n",
      " 2   city                     15142 non-null  object        \n",
      " 3   price                    15142 non-null  int64         \n",
      " 4   bedrooms                 15142 non-null  int64         \n",
      " 5   bathrooms                15142 non-null  float64       \n",
      " 6   attr_vars                15142 non-null  object        \n",
      " 7   date_of_webcrawler       15142 non-null  datetime64[ns]\n",
      " 8   kitchen                  15142 non-null  int64         \n",
      " 9   date_posted              15142 non-null  datetime64[ns]\n",
      " 10  region                   15142 non-null  object        \n",
      " 11  sub_region               15142 non-null  object        \n",
      " 12  cats_OK                  15142 non-null  int64         \n",
      " 13  dogs_OK                  15142 non-null  int64         \n",
      " 14  wheelchair_accessible    15142 non-null  int64         \n",
      " 15  laundry_in_bldg          15142 non-null  int64         \n",
      " 16  no_laundry               15142 non-null  int64         \n",
      " 17  washer_and_dryer         15142 non-null  int64         \n",
      " 18  washer_and_dryer_hookup  15142 non-null  int64         \n",
      " 19  laundry_on_site          15142 non-null  int64         \n",
      " 20  full_kitchen             15142 non-null  int64         \n",
      " 21  dishwasher               15142 non-null  int64         \n",
      " 22  refrigerator             15142 non-null  int64         \n",
      " 23  oven                     15142 non-null  int64         \n",
      " 24  flooring_carpet          15142 non-null  int64         \n",
      " 25  flooring_wood            15142 non-null  int64         \n",
      " 26  flooring_tile            15142 non-null  int64         \n",
      " 27  flooring_hardwood        15142 non-null  int64         \n",
      " 28  flooring_other           15142 non-null  int64         \n",
      " 29  apt                      15142 non-null  int64         \n",
      " 30  in_law_apt               15142 non-null  int64         \n",
      " 31  condo                    15142 non-null  int64         \n",
      " 32  townhouse                15142 non-null  int64         \n",
      " 33  cottage_or_cabin         15142 non-null  int64         \n",
      " 34  single_fam               15142 non-null  int64         \n",
      " 35  duplex                   15142 non-null  int64         \n",
      " 36  flat                     15142 non-null  int64         \n",
      " 37  land                     15142 non-null  int64         \n",
      " 38  is_furnished             15142 non-null  int64         \n",
      " 39  attached_garage          15142 non-null  int64         \n",
      " 40  detached_garage          15142 non-null  int64         \n",
      " 41  carport                  15142 non-null  int64         \n",
      " 42  off_street_parking       15142 non-null  int64         \n",
      " 43  no_parking               15142 non-null  int64         \n",
      " 44  EV_charging              15142 non-null  int64         \n",
      " 45  air_condition            15142 non-null  int64         \n",
      " 46  no_smoking               15142 non-null  int64         \n",
      "dtypes: datetime64[ns](2), float64(1), int64(40), object(4)\n",
      "memory usage: 5.2+ MB\n"
     ]
    }
   ],
   "source": [
    "# import data from rental table\n",
    "class SQL_Database():\n",
    "    def __init__(self, sql_config_path):\n",
    "\n",
    "        with open(sql_config_path, 'r') as fh:\n",
    "            config = json.load(fh)\n",
    "\n",
    "        self.driver = config['driver']\n",
    "        self.server = config['server']\n",
    "        self.database = config['database']\n",
    "        self.username = config['username']\n",
    "        self.password = config['password']\n",
    "        print(f\"Name of connected database:\\n{self.database}\")\n",
    "\n",
    "\n",
    "    def import_SQL_to_df(self, sql_query):\n",
    "        \"\"\"Import dataset by using SQL query and Pandas' read_sql() method\"\"\"\n",
    "        conn = pyodbc.connect(\n",
    "            f'DRIVER={self.driver};'\n",
    "            f'SERVER={self.server};'\n",
    "            f'DATABASE={self.database};'\n",
    "            f'UID={self.username};'\n",
    "            f'PWD={self.password};'\n",
    "            'Trusted_Connection=yes;'\n",
    "        )\n",
    "\n",
    "        # establish connection to SQL Server database, by passing in the database name, etc., using a with statement so it will automatically close the connection & cursor once the with statement has completed execution:\n",
    "        # initialize cursor so we can execute SQL code\n",
    "        cursor = conn.cursor() \n",
    "\n",
    "        # query to select all records in which a.) sqft data exists (ie, NOT NULL) and b.) where price > $1, since such a price is essentially impossible and likely a typo from the original scraped rental listing\n",
    "        # specify SQL query\n",
    "        sql = sql_query \n",
    "\n",
    "        # export SQL query results to Pandas' DataFrame\n",
    "        df = pd.read_sql(sql,conn)  # export results of SQL query to Pandas' DataFrame\n",
    "\n",
    "        cursor.close()\n",
    "        conn.close()\n",
    "        return df\n",
    "\n",
    "\n",
    "## import data with no sqft nu+lls and price >$1, via SQL query to Pandas' df\n",
    "# specify path to json file containing SQL configuration/username data\n",
    "sql_config_path = \"D:\\\\Coding and Code projects\\\\Python\\\\craigslist_data_proj\\\\CraigslistWebScraper\\\\SQL_config\\\\config.json\" \n",
    "\n",
    "SQL_db = SQL_Database(sql_config_path)  # NB: be sure to pass in path to the json SQL configuration file so we can load in the needed username, password, and configuration data to be able to access the SQL database\n",
    "\n",
    "# specify query for data selection\n",
    "query = \"\"\"SELECT * FROM rental WHERE price > 100 AND region = 'sfbay';\"\"\"\n",
    "# import data to DataFrame via SQL query and Pandas' read_sql() method\n",
    "df = SQL_db.import_SQL_to_df(query)\n",
    "df.info() # sanity check"
   ]
  },
  {
   "cell_type": "markdown",
   "metadata": {},
   "source": [
    "## B.) Ensure each column is of the correct data type, and add datetime cols such as a week indicator for week-over-week time fixed effects:"
   ]
  },
  {
   "cell_type": "code",
   "execution_count": 4,
   "metadata": {},
   "outputs": [
    {
     "name": "stdout",
     "output_type": "stream",
     "text": [
      "Data types of each column from queried SQL rental table:\n",
      "listing_id                          int64\n",
      "sqft                                int64\n",
      "city                               object\n",
      "price                               int64\n",
      "bedrooms                            int64\n",
      "bathrooms                         float64\n",
      "attr_vars                          object\n",
      "date_of_webcrawler         datetime64[ns]\n",
      "kitchen                             int64\n",
      "date_posted                datetime64[ns]\n",
      "region                             object\n",
      "sub_region                         object\n",
      "cats_OK                             int64\n",
      "dogs_OK                             int64\n",
      "wheelchair_accessible               int64\n",
      "laundry_in_bldg                     int64\n",
      "no_laundry                          int64\n",
      "washer_and_dryer                    int64\n",
      "washer_and_dryer_hookup             int64\n",
      "laundry_on_site                     int64\n",
      "full_kitchen                        int64\n",
      "dishwasher                          int64\n",
      "refrigerator                        int64\n",
      "oven                                int64\n",
      "flooring_carpet                     int64\n",
      "flooring_wood                       int64\n",
      "flooring_tile                       int64\n",
      "flooring_hardwood                   int64\n",
      "flooring_other                      int64\n",
      "apt                                 int64\n",
      "in_law_apt                          int64\n",
      "condo                               int64\n",
      "townhouse                           int64\n",
      "cottage_or_cabin                    int64\n",
      "single_fam                          int64\n",
      "duplex                              int64\n",
      "flat                                int64\n",
      "land                                int64\n",
      "is_furnished                        int64\n",
      "attached_garage                     int64\n",
      "detached_garage                     int64\n",
      "carport                             int64\n",
      "off_street_parking                  int64\n",
      "no_parking                          int64\n",
      "EV_charging                         int64\n",
      "air_condition                       int64\n",
      "no_smoking                          int64\n",
      "dtype: object\n"
     ]
    }
   ],
   "source": [
    "## Data cleaning and feature engineering--ensure columns are of correct data type:\n",
    "print(f\"Data types of each column from queried SQL rental table:\\n{df.dtypes}\")"
   ]
  },
  {
   "cell_type": "markdown",
   "metadata": {},
   "source": [
    "## B2) Next, let's add some additional columns to be used for time series and time fixed effects:\n",
    "\n",
    "### a) Namely: add a day of week col to specify the names of weekdays for each given rental listing's date_posted\n",
    "\n",
    "### b) Also, create a week over week indicator--ie, to specify the week\n",
    "\n",
    "### c) Similarly, a month indicator\n",
    "\n",
    "### d) Finally, a year indicator"
   ]
  },
  {
   "cell_type": "code",
   "execution_count": 144,
   "metadata": {},
   "outputs": [
    {
     "name": "stderr",
     "output_type": "stream",
     "text": [
      "d:\\Coding and Code projects\\Python\\craigslist_data_proj\\CraigslistWebScraper\\craigslist_venv\\lib\\site-packages\\ipykernel_launcher.py:8: FutureWarning: Series.dt.weekofyear and Series.dt.week have been deprecated.  Please use Series.dt.isocalendar().week instead.\n",
      "  \n"
     ]
    },
    {
     "data": {
      "text/html": [
       "<div>\n",
       "<style scoped>\n",
       "    .dataframe tbody tr th:only-of-type {\n",
       "        vertical-align: middle;\n",
       "    }\n",
       "\n",
       "    .dataframe tbody tr th {\n",
       "        vertical-align: top;\n",
       "    }\n",
       "\n",
       "    .dataframe thead th {\n",
       "        text-align: right;\n",
       "    }\n",
       "</style>\n",
       "<table border=\"1\" class=\"dataframe\">\n",
       "  <thead>\n",
       "    <tr style=\"text-align: right;\">\n",
       "      <th></th>\n",
       "      <th>day_of_week</th>\n",
       "      <th>week</th>\n",
       "      <th>month</th>\n",
       "      <th>year</th>\n",
       "      <th>date_posted</th>\n",
       "    </tr>\n",
       "  </thead>\n",
       "  <tbody>\n",
       "    <tr>\n",
       "      <th>975</th>\n",
       "      <td>Wednesday</td>\n",
       "      <td>44</td>\n",
       "      <td>11</td>\n",
       "      <td>2021</td>\n",
       "      <td>2021-11-03 17:15:00</td>\n",
       "    </tr>\n",
       "    <tr>\n",
       "      <th>1135</th>\n",
       "      <td>Thursday</td>\n",
       "      <td>43</td>\n",
       "      <td>10</td>\n",
       "      <td>2021</td>\n",
       "      <td>2021-10-28 18:26:00</td>\n",
       "    </tr>\n",
       "    <tr>\n",
       "      <th>1136</th>\n",
       "      <td>Thursday</td>\n",
       "      <td>43</td>\n",
       "      <td>10</td>\n",
       "      <td>2021</td>\n",
       "      <td>2021-10-28 18:37:00</td>\n",
       "    </tr>\n",
       "    <tr>\n",
       "      <th>1137</th>\n",
       "      <td>Thursday</td>\n",
       "      <td>43</td>\n",
       "      <td>10</td>\n",
       "      <td>2021</td>\n",
       "      <td>2021-10-28 18:54:00</td>\n",
       "    </tr>\n",
       "    <tr>\n",
       "      <th>1138</th>\n",
       "      <td>Thursday</td>\n",
       "      <td>43</td>\n",
       "      <td>10</td>\n",
       "      <td>2021</td>\n",
       "      <td>2021-10-28 18:56:00</td>\n",
       "    </tr>\n",
       "    <tr>\n",
       "      <th>...</th>\n",
       "      <td>...</td>\n",
       "      <td>...</td>\n",
       "      <td>...</td>\n",
       "      <td>...</td>\n",
       "      <td>...</td>\n",
       "    </tr>\n",
       "    <tr>\n",
       "      <th>15137</th>\n",
       "      <td>Sunday</td>\n",
       "      <td>7</td>\n",
       "      <td>2</td>\n",
       "      <td>2022</td>\n",
       "      <td>2022-02-20 14:09:00</td>\n",
       "    </tr>\n",
       "    <tr>\n",
       "      <th>15138</th>\n",
       "      <td>Sunday</td>\n",
       "      <td>7</td>\n",
       "      <td>2</td>\n",
       "      <td>2022</td>\n",
       "      <td>2022-02-20 16:44:00</td>\n",
       "    </tr>\n",
       "    <tr>\n",
       "      <th>15139</th>\n",
       "      <td>Monday</td>\n",
       "      <td>8</td>\n",
       "      <td>2</td>\n",
       "      <td>2022</td>\n",
       "      <td>2022-02-21 07:27:00</td>\n",
       "    </tr>\n",
       "    <tr>\n",
       "      <th>15140</th>\n",
       "      <td>Monday</td>\n",
       "      <td>8</td>\n",
       "      <td>2</td>\n",
       "      <td>2022</td>\n",
       "      <td>2022-02-21 14:39:00</td>\n",
       "    </tr>\n",
       "    <tr>\n",
       "      <th>15141</th>\n",
       "      <td>Monday</td>\n",
       "      <td>8</td>\n",
       "      <td>2</td>\n",
       "      <td>2022</td>\n",
       "      <td>2022-02-21 14:44:00</td>\n",
       "    </tr>\n",
       "  </tbody>\n",
       "</table>\n",
       "<p>13990 rows × 5 columns</p>\n",
       "</div>"
      ],
      "text/plain": [
       "      day_of_week  week  month  year         date_posted\n",
       "975     Wednesday    44     11  2021 2021-11-03 17:15:00\n",
       "1135     Thursday    43     10  2021 2021-10-28 18:26:00\n",
       "1136     Thursday    43     10  2021 2021-10-28 18:37:00\n",
       "1137     Thursday    43     10  2021 2021-10-28 18:54:00\n",
       "1138     Thursday    43     10  2021 2021-10-28 18:56:00\n",
       "...           ...   ...    ...   ...                 ...\n",
       "15137      Sunday     7      2  2022 2022-02-20 14:09:00\n",
       "15138      Sunday     7      2  2022 2022-02-20 16:44:00\n",
       "15139      Monday     8      2  2022 2022-02-21 07:27:00\n",
       "15140      Monday     8      2  2022 2022-02-21 14:39:00\n",
       "15141      Monday     8      2  2022 2022-02-21 14:44:00\n",
       "\n",
       "[13990 rows x 5 columns]"
      ]
     },
     "execution_count": 144,
     "metadata": {},
     "output_type": "execute_result"
    }
   ],
   "source": [
    "def create_weekday_name_col(df, datetime_col):\n",
    "    return df[datetime_col].dt.day_name()\n",
    "\n",
    "# a) day of week (ie, Sunday, Monday, etc.)\n",
    "df['day_of_week'] = create_weekday_name_col(df, 'date_posted')\n",
    "\n",
    "def create_week_datetime_col(df, datetime_col):\n",
    "    return df[datetime_col].dt.week\n",
    "\n",
    "\n",
    "# b) week over week indicator\n",
    "df['week'] = create_week_datetime_col(df, 'date_posted')\n",
    "\n",
    "def create_month_datetime_col(df, datetime_col):\n",
    "    return df[datetime_col].dt.month\n",
    "\n",
    "\n",
    "df['month'] = create_month_datetime_col(df, 'date_posted')\n",
    "\n",
    "\n",
    "def create_year_datetime_col(df, datetime_col):\n",
    "    return df[datetime_col].dt.year\n",
    "\n",
    "df['year'] = create_year_datetime_col(df, 'date_posted')\n",
    "\n",
    "\n",
    "df[['day_of_week', 'week', 'month' , 'year', 'date_posted']] # sanity check"
   ]
  },
  {
   "cell_type": "code",
   "execution_count": 5,
   "metadata": {},
   "outputs": [
    {
     "name": "stderr",
     "output_type": "stream",
     "text": [
      "d:\\Coding and Code projects\\Python\\craigslist_data_proj\\CraigslistWebScraper\\craigslist_venv\\lib\\site-packages\\ipykernel_launcher.py:1: FutureWarning: Series.dt.weekofyear and Series.dt.week have been deprecated.  Please use Series.dt.isocalendar().week instead.\n",
      "  \"\"\"Entry point for launching an IPython kernel.\n"
     ]
    },
    {
     "data": {
      "text/plain": [
       "(0        36\n",
       " 1        36\n",
       " 2        36\n",
       " 3        36\n",
       " 4        36\n",
       "          ..\n",
       " 15137     7\n",
       " 15138     7\n",
       " 15139     8\n",
       " 15140     8\n",
       " 15141     8\n",
       " Name: date_posted, Length: 15142, dtype: int64,\n",
       " 0        2021\n",
       " 1        2021\n",
       " 2        2021\n",
       " 3        2021\n",
       " 4        2021\n",
       "          ... \n",
       " 15137    2022\n",
       " 15138    2022\n",
       " 15139    2022\n",
       " 15140    2022\n",
       " 15141    2022\n",
       " Name: date_posted, Length: 15142, dtype: int64)"
      ]
     },
     "execution_count": 5,
     "metadata": {},
     "output_type": "execute_result"
    }
   ],
   "source": [
    "df['date_posted'].dt.week, df['date_posted'].dt.year"
   ]
  },
  {
   "cell_type": "markdown",
   "metadata": {},
   "source": [
    "## B3) NB: The full panel dataset is imbalanced with respect to sub_regions--ie, not all sub_regions have data going back as far as others.\n",
    "\n",
    "### Thus, we need to identify what were the *first* rental listing dates per sub_region. \n",
    "\n",
    "### Let's do a SQL query to determine these MIN dates:"
   ]
  },
  {
   "cell_type": "code",
   "execution_count": 106,
   "metadata": {},
   "outputs": [
    {
     "name": "stdout",
     "output_type": "stream",
     "text": [
      "Name of connected database:\n",
      "craigslist\n"
     ]
    },
    {
     "data": {
      "text/html": [
       "<div>\n",
       "<style scoped>\n",
       "    .dataframe tbody tr th:only-of-type {\n",
       "        vertical-align: middle;\n",
       "    }\n",
       "\n",
       "    .dataframe tbody tr th {\n",
       "        vertical-align: top;\n",
       "    }\n",
       "\n",
       "    .dataframe thead th {\n",
       "        text-align: right;\n",
       "    }\n",
       "</style>\n",
       "<table border=\"1\" class=\"dataframe\">\n",
       "  <thead>\n",
       "    <tr style=\"text-align: right;\">\n",
       "      <th></th>\n",
       "      <th>sub_region</th>\n",
       "      <th>first_rental_listing_date</th>\n",
       "    </tr>\n",
       "  </thead>\n",
       "  <tbody>\n",
       "    <tr>\n",
       "      <th>0</th>\n",
       "      <td>sfc</td>\n",
       "      <td>2021-10-28 18:00:00</td>\n",
       "    </tr>\n",
       "    <tr>\n",
       "      <th>1</th>\n",
       "      <td>scz</td>\n",
       "      <td>2021-10-12 14:38:00</td>\n",
       "    </tr>\n",
       "    <tr>\n",
       "      <th>2</th>\n",
       "      <td>sby</td>\n",
       "      <td>2021-10-09 17:36:00</td>\n",
       "    </tr>\n",
       "    <tr>\n",
       "      <th>3</th>\n",
       "      <td>eby</td>\n",
       "      <td>2021-09-29 08:15:00</td>\n",
       "    </tr>\n",
       "    <tr>\n",
       "      <th>4</th>\n",
       "      <td>nby</td>\n",
       "      <td>2021-09-25 21:28:00</td>\n",
       "    </tr>\n",
       "    <tr>\n",
       "      <th>5</th>\n",
       "      <td>pen</td>\n",
       "      <td>2021-09-06 21:54:00</td>\n",
       "    </tr>\n",
       "  </tbody>\n",
       "</table>\n",
       "</div>"
      ],
      "text/plain": [
       "  sub_region first_rental_listing_date\n",
       "0        sfc       2021-10-28 18:00:00\n",
       "1        scz       2021-10-12 14:38:00\n",
       "2        sby       2021-10-09 17:36:00\n",
       "3        eby       2021-09-29 08:15:00\n",
       "4        nby       2021-09-25 21:28:00\n",
       "5        pen       2021-09-06 21:54:00"
      ]
     },
     "execution_count": 106,
     "metadata": {},
     "output_type": "execute_result"
    }
   ],
   "source": [
    "# specify path to json file containing SQL configuration/username data\n",
    "sql_config_path = \"D:\\\\Coding and Code projects\\\\Python\\\\craigslist_data_proj\\\\CraigslistWebScraper\\\\SQL_config\\\\config.json\" \n",
    "\n",
    "SQL_db = SQL_Database(sql_config_path)  # NB: be sure to pass in path to the json SQL configuration file so we can load in the needed username, password, and configuration data to be able to access the SQL database\n",
    "\n",
    "# determine the first date of rental listings per sub_region, and order by DESC to show the most recent such date. Select only SF Bay data:\n",
    "sql_query = \"\"\"SELECT sub_region, MIN(date_posted) AS first_rental_listing_date FROM rental WHERE region = 'sfbay' GROUP BY sub_region ORDER BY MIN(date_posted) DESC;\"\"\"\n",
    "\n",
    "\n",
    "# import data to DataFrame via SQL query and Pandas' read_sql() method\n",
    "min_date_per_subregion = SQL_db.import_SQL_to_df(sql_query)\n",
    "min_date_per_subregion"
   ]
  },
  {
   "cell_type": "code",
   "execution_count": 11,
   "metadata": {},
   "outputs": [
    {
     "data": {
      "text/plain": [
       "Timestamp('2021-10-28 18:00:00')"
      ]
     },
     "execution_count": 11,
     "metadata": {},
     "output_type": "execute_result"
    }
   ],
   "source": [
    "min_date_per_subregion.first_rental_listing_date.head(1)[0]"
   ]
  },
  {
   "cell_type": "markdown",
   "metadata": {},
   "source": [
    "## B3 b) Next, let's filter the dataset to date > the most recent MIN() date found by sub_region (ie, filter df dataset by the *last* min date per sub_region)"
   ]
  },
  {
   "cell_type": "code",
   "execution_count": 107,
   "metadata": {},
   "outputs": [
    {
     "data": {
      "text/plain": [
       "1135   2021-10-28 18:26:00\n",
       "1136   2021-10-28 18:37:00\n",
       "1137   2021-10-28 18:54:00\n",
       "1138   2021-10-28 18:56:00\n",
       "1139   2021-10-28 19:11:00\n",
       "Name: date_posted, dtype: datetime64[ns]"
      ]
     },
     "execution_count": 107,
     "metadata": {},
     "output_type": "execute_result"
    }
   ],
   "source": [
    "# filter dataset by *last* min date per sub_region\n",
    "def filter_data_by_min_subregion_date(df, min_subregion_query_results):\n",
    "    # parse the most recent MIN() date by sub_region--ie, given query has been ordered by DESC order, get the first element of the first_rental_listing_date col \n",
    "    most_recent_MIN_subregion_date = min_subregion_query_results.first_rental_listing_date.head(1)[0]   # get the most recent of the oldest dates per subregion  \n",
    "    return df.loc[df.date_posted > most_recent_MIN_subregion_date]\n",
    "\n",
    "# apply the datetime filter\n",
    "df = filter_data_by_min_subregion_date(df, min_date_per_subregion)\n",
    "\n",
    "# sanity check on the oldest date after applying the filter\n",
    "df.sort_values(by=['date_posted'])['date_posted'].head()"
   ]
  },
  {
   "cell_type": "markdown",
   "metadata": {},
   "source": [
    "## C.) Data exploration and visualizations\n",
    "\n",
    "\n",
    "### Let's start by examining the distributions of several key variables such as rental price, # of bedrooms, # of bathrooms, and sqft:\n",
    "\n",
    "\n",
    "\n"
   ]
  },
  {
   "cell_type": "code",
   "execution_count": 11,
   "metadata": {},
   "outputs": [
    {
     "data": {
      "image/png": "[encoded data removed]",
      "text/plain": [
       "<Figure size 432x288 with 1 Axes>"
      ]
     },
     "metadata": {},
     "output_type": "display_data"
    }
   ],
   "source": [
    "## boxplots of important variables\n",
    "def boxplot(df, col, hue_option_col):\n",
    "    \"\"\"Implement boxplot of given col from given dataset (df)\"\"\"\n",
    "    sns.set_theme(style=\"darkgrid\")\n",
    "    ax = sns.boxplot(x=df[col], hue=hue_option_col)\n",
    "    \n",
    "\n",
    "## distribution of price (overall dataset) boxplot\n",
    "boxplot(df, 'price', None) # distribution of price overall\n"
   ]
  },
  {
   "cell_type": "markdown",
   "metadata": {},
   "source": [
    "### At first glance, notice that the distribution of price is highly positively skewed, with the upper quartile of rental prices having values that exceed the median value of price (roughly $2,500) very substantially.\n",
    "\n",
    "### Next, let's examine the data at a somewhat finer granmularity: examine a boxplot of price, but differentiate the price distributions by the number of bedrooms:"
   ]
  },
  {
   "cell_type": "code",
   "execution_count": 6,
   "metadata": {},
   "outputs": [
    {
     "data": {
      "image/png": "[encoded data removed]",
      "text/plain": [
       "<Figure size 432x288 with 1 Axes>"
      ]
     },
     "metadata": {},
     "output_type": "display_data"
    }
   ],
   "source": [
    "\n",
    "## distribution of price by number of bedrooms boxplot\n",
    "boxplot(df, 'price', df['bedrooms']) # distribution of price by number of bedrooms"
   ]
  },
  {
   "cell_type": "code",
   "execution_count": 7,
   "metadata": {},
   "outputs": [
    {
     "data": {
      "image/png": "[encoded data removed]",
      "text/plain": [
       "<Figure size 432x288 with 1 Axes>"
      ]
     },
     "metadata": {},
     "output_type": "display_data"
    }
   ],
   "source": [
    "## distribution of number of bedrooms boxplot\n",
    "boxplot(df, 'bedrooms', None) # distribution of  number of bedrooms"
   ]
  },
  {
   "cell_type": "code",
   "execution_count": 8,
   "metadata": {},
   "outputs": [
    {
     "data": {
      "image/png": "[encoded data removed]",
      "text/plain": [
       "<Figure size 432x288 with 1 Axes>"
      ]
     },
     "metadata": {},
     "output_type": "display_data"
    }
   ],
   "source": [
    "## distribution of number of bathrooms boxplot\n",
    "boxplot(df, 'bathrooms', None) # distribution of  number of bathrooms"
   ]
  },
  {
   "cell_type": "markdown",
   "metadata": {},
   "source": [
    "### Examine distribution of data by whether a rental is furnished:"
   ]
  },
  {
   "cell_type": "code",
   "execution_count": 25,
   "metadata": {},
   "outputs": [
    {
     "data": {
      "text/plain": [
       "0    10271\n",
       "1      633\n",
       "Name: is_furnished, dtype: int64"
      ]
     },
     "execution_count": 25,
     "metadata": {},
     "output_type": "execute_result"
    }
   ],
   "source": [
    "# distribution of data by is furnished: \n",
    "df.is_furnished.value_counts()"
   ]
  },
  {
   "cell_type": "markdown",
   "metadata": {},
   "source": [
    "## Examine distribution of bedrooms and bathrooms (respectively) with respect to price\n",
    "\n",
    "### Create seaborn boxplot function comparing a variable to a y-axis variable, and be able to specify a hue (such as SF Bay subregion) \n",
    "\n",
    "### Distribution of price by # of bedrooms (overall)"
   ]
  },
  {
   "cell_type": "code",
   "execution_count": 14,
   "metadata": {},
   "outputs": [
    {
     "data": {
      "text/plain": [
       "<AxesSubplot:xlabel='bedrooms', ylabel='price'>"
      ]
     },
     "execution_count": 14,
     "metadata": {},
     "output_type": "execute_result"
    },
    {
     "data": {
      "image/png": "[encoded data removed]",
      "text/plain": [
       "<Figure size 864x576 with 1 Axes>"
      ]
     },
     "metadata": {
      "needs_background": "light"
     },
     "output_type": "display_data"
    }
   ],
   "source": [
    "def boxplot_with_y_var_and_hue(df, x_axis_var, y_axis_var, hue_option):\n",
    "    plt.figure(figsize=(12,8))\n",
    "    return sns.boxplot(data=df, x=x_axis_var, y= y_axis_var, hue=hue_option)\n",
    "\n",
    "\n",
    "# prices distribution by # of bedrooms (overall) boxplot\n",
    "boxplot_with_y_var_and_hue(df, \"bedrooms\", \"price\", None)"
   ]
  },
  {
   "cell_type": "markdown",
   "metadata": {},
   "source": [
    "### Boxplot analysis:\n",
    "\n",
    "### Notice that the overall distributions of price tends to increase as the number of bedrooms also increases, but not entirely consistently. \n",
    "\n",
    "### For example, this apparent positive correlation begins to fall apart and oddly beings to show a negative correlation between the number of bedrooms and average perices as the number of bedrooms increases above 5 (namely: 6 or 8). In other words, the positive correlation between the number of bedrooms and the median rental price only holds up to rental listings with up to 5 bedrooms. *However,* it's possible that these listings were posted with an *incorrect* number of bedrooms, which would indicate this supposed negative correlation for 6 & 8 bedrooms  woth respect to rental price is simply spurious correlation due to measurement\n",
    "\n",
    "### A few other notable things to consider is that at a very low number of bedrooms, particularly studios (0 bedrooms) vs 1 bedroom listings and even 2 bedrooms (to a lesser extent), the distribution of prices only increases somewhat, with sharper increases when the number of bedrooms increases from 3 to 4 and especially from 4 to 5. "
   ]
  },
  {
   "cell_type": "markdown",
   "metadata": {},
   "source": [
    "### Distribution of price by # of bedrooms and subregion (hue)"
   ]
  },
  {
   "cell_type": "code",
   "execution_count": 21,
   "metadata": {},
   "outputs": [
    {
     "data": {
      "text/plain": [
       "<AxesSubplot:xlabel='bedrooms', ylabel='price'>"
      ]
     },
     "execution_count": 21,
     "metadata": {},
     "output_type": "execute_result"
    },
    {
     "data": {
      "image/png": "[encoded data removed]",
      "text/plain": [
       "<Figure size 864x576 with 1 Axes>"
      ]
     },
     "metadata": {
      "needs_background": "light"
     },
     "output_type": "display_data"
    }
   ],
   "source": [
    "#  boxplot of # of bedrooms by pruce and sub_region (hue): \n",
    "boxplot_with_y_var_and_hue(df, \"bedrooms\", \"price\", \"sub_region\")"
   ]
  },
  {
   "cell_type": "markdown",
   "metadata": {},
   "source": [
    "## Analysis of plot\n",
    "\n",
    "### Notice that when we take subregion into account, it's obvious there are at notable (and quite possibly statistically signficant) differences in rental prices among each subregion, even when comparing rental listings that have the same number of bedrooms.\n",
    "\n",
    "### For most numbers of bedrooms, East Bay and especially Santa Cruz rental listings tend to be somewhat less expensive than the other Bay Area subregions. On the other side of this spectrum, San Francisco and Peninsula listings tend to be the most expensive rental listings. Also, studios 2 bedroom and especially 1 bedroom rental listings, Peninsula listings are nearly the same on average as that of SF listings. However, for rental listings with a large number of bedrooms--namely, 5 bedrooms--Peninsula listings actually are the most expensive on average by a large margin (perhaps driven by cities that are known to have many large and especially expensive properties, such as Palo Alto, Atherton, and Woodside).\n",
    "\n",
    "### In addition, the number of rental listings that have either 6 or 8 bedrooms is very small. As mentioned above, it's possible that some (or all) of these listings were posted with an incorrect number of bedrooms. This would explain the negative correlation as being spurious, and thus not contradict basic economic theory. \n",
    "\n",
    "### As a result, let's remove listings (supposedly) with 6 or 8 bedrooms that have highly suspiciously low rental prices (e.g., < $3,500)."
   ]
  },
  {
   "cell_type": "code",
   "execution_count": 79,
   "metadata": {},
   "outputs": [
    {
     "data": {
      "text/plain": [
       "1    5852\n",
       "2    5260\n",
       "3    1457\n",
       "0    1054\n",
       "4     296\n",
       "5      58\n",
       "6       3\n",
       "8       1\n",
       "Name: bedrooms, dtype: int64"
      ]
     },
     "execution_count": 79,
     "metadata": {},
     "output_type": "execute_result"
    }
   ],
   "source": [
    "# remove listings that are very likely posted with incorrect number of bedrooms\n",
    "def delete_listings_with_incorrect_bedroom_and_price_vals(df):\n",
    "    \"\"\"Remove apartment property type that have suspiciously low rental prices and an absurdly high number of bedrooms: namely--6 or more bedrooms.\"\"\"\n",
    "    # remove listings that are of apt type, have 6+ bedrooms, and have rental price < $3,500  \n",
    "    return df.loc[~((df.bedrooms>5) & (df.price < 3500))]\n",
    "\n",
    "#filter data\n",
    "df = delete_listings_with_incorrect_bedroom_and_price_vals(df)\n",
    "# sanity check\n",
    "df.bedrooms.value_counts()  # NB: there should be fewer listings with > 5 bedrooms  "
   ]
  },
  {
   "cell_type": "markdown",
   "metadata": {},
   "source": [
    "\n",
    "### Next, let's examine distribution of price by number of bathrooms:\n",
    "\n",
    "\n"
   ]
  },
  {
   "cell_type": "code",
   "execution_count": 82,
   "metadata": {},
   "outputs": [
    {
     "data": {
      "text/plain": [
       "<AxesSubplot:xlabel='bathrooms', ylabel='price'>"
      ]
     },
     "execution_count": 82,
     "metadata": {},
     "output_type": "execute_result"
    },
    {
     "data": {
      "image/png": "[encoded data removed]",
      "text/plain": [
       "<Figure size 864x576 with 1 Axes>"
      ]
     },
     "metadata": {
      "needs_background": "light"
     },
     "output_type": "display_data"
    }
   ],
   "source": [
    "# bathrooms wrt prices and subregion boxplot\n",
    "boxplot_with_y_var_and_hue(df, \"bathrooms\", \"price\", None)"
   ]
  },
  {
   "cell_type": "code",
   "execution_count": 81,
   "metadata": {},
   "outputs": [
    {
     "data": {
      "text/plain": [
       "<AxesSubplot:xlabel='bathrooms', ylabel='price'>"
      ]
     },
     "execution_count": 81,
     "metadata": {},
     "output_type": "execute_result"
    },
    {
     "data": {
      "image/png": "[encoded data removed]",
      "text/plain": [
       "<Figure size 864x576 with 1 Axes>"
      ]
     },
     "metadata": {
      "needs_background": "light"
     },
     "output_type": "display_data"
    }
   ],
   "source": [
    "# bathrooms wrt prices and subregion boxplot\n",
    "boxplot_with_y_var_and_hue(df, \"bathrooms\", \"price\", \"sub_region\")"
   ]
  },
  {
   "cell_type": "code",
   "execution_count": null,
   "metadata": {},
   "outputs": [],
   "source": [
    "## Data cleaning--cont'd:\n",
    "\n",
    "## Dealing with groups of indicator variables that are *mutually exclusive* to each other:\n",
    "\n",
    "### For the groups of indicator variables that are supposed to be *mutually exclusive* to each other--e.g., the housing type indicators (ie, apt, duplex, etc)--we need to remove records that violate this assumption of being mutually exclusive before running regression models since this would bias the coefficients of each such set of dummy variables!\n",
    "\n",
    "### a) First, we need to identify *each rental listing* (ie, row from df) in which the given listing shows a value of 1 for *more than 1* of the indicator variables from a set of indicator variables that actually are mutually exclusive.\n",
    "\n",
    "### Remove any listings from the dataset in which there's a value of 1 for *more than one* of the indicator variables *within* one of these mutually exclusive indicator variables:\n",
    "\n",
    "### 1) Let's start with the housing/property type indicator variables (ie, apt, single_fam, etc.):"
   ]
  },
  {
   "cell_type": "code",
   "execution_count": 82,
   "metadata": {},
   "outputs": [
    {
     "name": "stdout",
     "output_type": "stream",
     "text": [
      "<class 'pandas.core.frame.DataFrame'>\n",
      "Int64Index: 13440 entries, 975 to 15141\n",
      "Data columns (total 45 columns):\n",
      " #   Column                   Non-Null Count  Dtype         \n",
      "---  ------                   --------------  -----         \n",
      " 0   city                     13440 non-null  object        \n",
      " 1   price                    13440 non-null  int64         \n",
      " 2   bedrooms                 13440 non-null  int64         \n",
      " 3   bathrooms                13440 non-null  float64       \n",
      " 4   kitchen                  13440 non-null  int64         \n",
      " 5   date_posted              13440 non-null  datetime64[ns]\n",
      " 6   region                   13440 non-null  object        \n",
      " 7   sub_region               13440 non-null  object        \n",
      " 8   cats_OK                  13440 non-null  int64         \n",
      " 9   wheelchair_accessible    13440 non-null  int64         \n",
      " 10  laundry_in_bldg          13440 non-null  int64         \n",
      " 11  no_laundry               13440 non-null  int64         \n",
      " 12  washer_and_dryer_hookup  13440 non-null  int64         \n",
      " 13  laundry_on_site          13440 non-null  int64         \n",
      " 14  full_kitchen             13440 non-null  int64         \n",
      " 15  dishwasher               13440 non-null  int64         \n",
      " 16  refrigerator             13440 non-null  int64         \n",
      " 17  oven                     13440 non-null  int64         \n",
      " 18  flooring_carpet          13440 non-null  int64         \n",
      " 19  flooring_wood            13440 non-null  int64         \n",
      " 20  flooring_tile            13440 non-null  int64         \n",
      " 21  flooring_hardwood        13440 non-null  int64         \n",
      " 22  flooring_other           13440 non-null  int64         \n",
      " 23  apt                      13440 non-null  int64         \n",
      " 24  in_law_apt               13440 non-null  int64         \n",
      " 25  condo                    13440 non-null  int64         \n",
      " 26  townhouse                13440 non-null  int64         \n",
      " 27  cottage_or_cabin         13440 non-null  int64         \n",
      " 28  single_fam               13440 non-null  int64         \n",
      " 29  duplex                   13440 non-null  int64         \n",
      " 30  flat                     13440 non-null  int64         \n",
      " 31  land                     13440 non-null  int64         \n",
      " 32  is_furnished             13440 non-null  int64         \n",
      " 33  attached_garage          13440 non-null  int64         \n",
      " 34  detached_garage          13440 non-null  int64         \n",
      " 35  carport                  13440 non-null  int64         \n",
      " 36  off_street_parking       13440 non-null  int64         \n",
      " 37  no_parking               13440 non-null  int64         \n",
      " 38  EV_charging              13440 non-null  int64         \n",
      " 39  air_condition            13440 non-null  int64         \n",
      " 40  no_smoking               13440 non-null  int64         \n",
      " 41  day_of_week              13440 non-null  object        \n",
      " 42  week                     13440 non-null  int64         \n",
      " 43  month                    13440 non-null  int64         \n",
      " 44  year                     13440 non-null  int64         \n",
      "dtypes: datetime64[ns](1), float64(1), int64(39), object(4)\n",
      "memory usage: 4.9+ MB\n"
     ]
    }
   ],
   "source": [
    "df.info()"
   ]
  },
  {
   "cell_type": "code",
   "execution_count": 6,
   "metadata": {},
   "outputs": [
    {
     "name": "stdout",
     "output_type": "stream",
     "text": [
      "The following rows (ie, rental listings) will need to be removed since they violate the assumption of the indicator variable columns being mutually exclusive:\n",
      "      listing_id   sqft          city  price  bedrooms  bathrooms  \\\n",
      "1640  7405201920   5250       Fremont   2210         1        1.0   \n",
      "3296  7416249344   6480    Santa Cruz   2275         1        1.0   \n",
      "3546  7417853952   7430  Walnut Creek   3450         1        1.0   \n",
      "4405  7421750272   9620       Concord   2710         2        2.0   \n",
      "5051  7423765504   7900       Concord   2666         1        1.0   \n",
      "5718  7426369024  10130        Dublin   3150         2        2.0   \n",
      "6121  7427359232   8000     Palo Alto   2400         2        1.0   \n",
      "\n",
      "                                              attr_vars date_of_webcrawler  \\\n",
      "1640  air conditioning\\ncats are OK - purrr\\ndogs ar...         2021-11-08   \n",
      "3296  application fee details: $29 + tax (applicatio...         2021-12-04   \n",
      "3546  air conditioning\\ncats are OK - purrr\\ndogs ar...         2021-12-08   \n",
      "4405  air conditioning\\napplication fee details: $50...         2021-12-17   \n",
      "5051  air conditioning\\ncats are OK - purrr\\ndogs ar...         2021-12-25   \n",
      "5718  EV charging\\nair conditioning\\ncats are OK - p...         2021-12-30   \n",
      "6121  application fee details: Application fee by la...         2022-01-27   \n",
      "\n",
      "      kitchen         date_posted  ... off_street_parking no_parking  \\\n",
      "1640        0 2021-11-08 09:54:00  ...                  0          0   \n",
      "3296        0 2021-12-04 00:24:00  ...                  0          0   \n",
      "3546        0 2021-12-07 14:46:00  ...                  0          0   \n",
      "4405        1 2021-12-16 17:34:00  ...                  0          0   \n",
      "5051        1 2021-12-21 18:50:00  ...                  0          0   \n",
      "5718        1 2021-12-29 12:17:00  ...                  0          0   \n",
      "6121        0 2022-01-01 09:56:00  ...                  0          0   \n",
      "\n",
      "      EV_charging  air_condition  no_smoking  day_of_week  week  month  year  \\\n",
      "1640            0              1           0       Monday    45     11  2021   \n",
      "3296            0              0           1     Saturday    48     12  2021   \n",
      "3546            0              1           1      Tuesday    49     12  2021   \n",
      "4405            0              1           1     Thursday    50     12  2021   \n",
      "5051            0              1           1      Tuesday    51     12  2021   \n",
      "5718            1              1           1    Wednesday    52     12  2021   \n",
      "6121            0              0           1     Saturday    52      1  2022   \n",
      "\n",
      "      housing_type_row_sum  \n",
      "1640                     2  \n",
      "3296                     2  \n",
      "3546                     2  \n",
      "4405                     2  \n",
      "5051                     2  \n",
      "5718                     2  \n",
      "6121                     2  \n",
      "\n",
      "[7 rows x 52 columns]\n"
     ]
    }
   ],
   "source": [
    "# identify whether any sets of indicator variables are perfectly collinear\n",
    "def identify_perfect_collinearity(df, indicator_var_group_col_names:list, sum_of_indicator_groups_colname):\n",
    "    \"\"\"Using a list of all columns within a group of idicator variables, take the .sum() along the rows (ie, axis=1) identify if any rows have a 1 in *more than 1* of the cols by seeing whether the .sum() of the indicator cols along the rows (ie, axis=1) is greater than 1. \n",
    "    If this is the case, then the given group of indicator vars is *not* pefectly collinear (even though they theoretically should be)!\"\"\"\n",
    "    # compute sum of given group of indicator var cols along rows (ie, axis=1), and add this sum as new col:\n",
    "    df[sum_of_indicator_groups_colname] = df[indicator_var_group_col_names].sum(axis=1)  # take sum of group of indicator var cols \n",
    "\n",
    "    # see whether any rows (ie, rental listings) have a sum >1 among the group of indicator cols. If so, then *remove* these given rows (rental listings).\n",
    "    row_filter = df[df[sum_of_indicator_groups_colname] > 1]  # specify filter criteria\n",
    "    # sanity check\n",
    "    print(f\"The following rows (ie, rental listings) will need to be removed since they violate the assumption of the indicator variable columns being mutually exclusive:\\n{row_filter}\")\n",
    "    # remove these problematic rows from dataset, by applying the negation of the filter (ie, with sum <= 1):\n",
    "    df = df[df[sum_of_indicator_groups_colname] <= 1]\n",
    "    # remove sum_of_indicator_groups_colname since it's no longer needed\n",
    "    df = df.drop(columns=[sum_of_indicator_groups_colname])\n",
    "    return df\n",
    "\n",
    "\n",
    "# property/home indicator var cols group\n",
    "housing_type_indicators = ['apt', 'in_law_apt', 'condo', 'townhouse', 'cottage_or_cabin', 'single_fam', 'duplex', 'flat', 'land']\n",
    "\n",
    "\n",
    "df = identify_perfect_collinearity(df, housing_type_indicators, 'housing_type_row_sum')"
   ]
  },
  {
   "cell_type": "markdown",
   "metadata": {},
   "source": [
    "### 2) Next, let's remove records with respect to the laundry indicators:"
   ]
  },
  {
   "cell_type": "code",
   "execution_count": 7,
   "metadata": {},
   "outputs": [
    {
     "name": "stdout",
     "output_type": "stream",
     "text": [
      "The following rows (ie, rental listings) will need to be removed since they violate the assumption of the indicator variable columns being mutually exclusive:\n",
      "       listing_id   sqft         city  price  bedrooms  bathrooms  \\\n",
      "1135   7400607232  11000    Fairfield   2277         3        1.0   \n",
      "1267   7401122816   6000       Albany   1625         1        1.0   \n",
      "1299   7402126336  12000  Mill Valley   5000         2        1.0   \n",
      "1320   7402511872   4000   Occidental   2149         1        1.0   \n",
      "1336   7402765312   5000      Concord   1350         1        1.0   \n",
      "...           ...    ...          ...    ...       ...        ...   \n",
      "15007  7448110080   4200   San Rafael   2000         0        1.0   \n",
      "15093  7448306688   3850        Aptos   2000         0        1.0   \n",
      "15127  7448378880   5000     San Jose   1850         1        1.0   \n",
      "15133  7448508928   4100   San Rafael   2000         0        1.0   \n",
      "15137  7448673792   4000   Santa Rosa   1685         1        1.0   \n",
      "\n",
      "                                               attr_vars date_of_webcrawler  \\\n",
      "1135   flooring: wood\\nhouse\\nno laundry on site\\nno ...         2021-10-29   \n",
      "1267   cats are OK - purrr\\nflooring: tile\\napartment...         2021-11-08   \n",
      "1299   flooring: wood\\nfurnished\\nhouse\\nno laundry o...         2021-11-10   \n",
      "1320   flooring: wood\\napartment\\nno laundry on site\\...         2021-11-10   \n",
      "1336   flooring: wood\\nfurnished\\ntownhouse\\nno laund...         2021-11-08   \n",
      "...                                                  ...                ...   \n",
      "15007  cats are OK - purrr\\nflooring: wood\\ncottage/c...         2022-02-20   \n",
      "15093  flooring: carpet\\nhouse\\nno laundry on site\\nn...         2022-02-21   \n",
      "15127  application fee details: $30\\nflooring: wood\\n...         2022-02-20   \n",
      "15133  flooring: concrete\\nhouse\\nno laundry on site\\...         2022-02-20   \n",
      "15137  application fee details: $45 per person\\ncats ...         2022-02-20   \n",
      "\n",
      "       kitchen         date_posted  ... off_street_parking no_parking  \\\n",
      "1135         1 2021-10-28 18:26:00  ...                  1          0   \n",
      "1267         0 2021-10-30 00:20:00  ...                  0          0   \n",
      "1299         1 2021-11-01 11:38:00  ...                  0          0   \n",
      "1320         1 2021-11-07 21:42:00  ...                  1          0   \n",
      "1336         0 2021-11-02 17:53:00  ...                  1          0   \n",
      "...        ...                 ...  ...                ...        ...   \n",
      "15007        0 2022-02-19 08:24:00  ...                  0          0   \n",
      "15093        1 2022-02-19 14:34:00  ...                  1          0   \n",
      "15127        1 2022-02-19 18:21:00  ...                  1          0   \n",
      "15133        0 2022-02-20 08:03:00  ...                  1          0   \n",
      "15137        0 2022-02-20 14:09:00  ...                  1          0   \n",
      "\n",
      "       EV_charging  air_condition  no_smoking  day_of_week  week  month  year  \\\n",
      "1135             0              0           1     Thursday    43     10  2021   \n",
      "1267             0              0           1     Saturday    43     10  2021   \n",
      "1299             0              0           1       Monday    44     11  2021   \n",
      "1320             0              0           0       Sunday    44     11  2021   \n",
      "1336             0              0           1      Tuesday    44     11  2021   \n",
      "...            ...            ...         ...          ...   ...    ...   ...   \n",
      "15007            0              0           0     Saturday     7      2  2022   \n",
      "15093            0              0           1     Saturday     7      2  2022   \n",
      "15127            0              0           1     Saturday     7      2  2022   \n",
      "15133            0              0           0       Sunday     7      2  2022   \n",
      "15137            0              0           0       Sunday     7      2  2022   \n",
      "\n",
      "       laundry_ind_sum  \n",
      "1135                 2  \n",
      "1267                 2  \n",
      "1299                 2  \n",
      "1320                 2  \n",
      "1336                 2  \n",
      "...                ...  \n",
      "15007                2  \n",
      "15093                2  \n",
      "15127                2  \n",
      "15133                2  \n",
      "15137                2  \n",
      "\n",
      "[543 rows x 52 columns]\n"
     ]
    }
   ],
   "source": [
    "# next, apply filter to laundry indicators\n",
    "\n",
    "# specify laundry indicator var names\n",
    "laundry_indicators = ['laundry_in_bldg', 'no_laundry', 'washer_and_dryer', 'washer_and_dryer_hookup', 'laundry_on_site']\n",
    " \n",
    "\n",
    "df = identify_perfect_collinearity(df, laundry_indicators, 'laundry_ind_sum')"
   ]
  },
  {
   "cell_type": "code",
   "execution_count": null,
   "metadata": {},
   "outputs": [],
   "source": [
    "### 3) Next, let's remove records with respect to flooring type indicators:"
   ]
  },
  {
   "cell_type": "code",
   "execution_count": 8,
   "metadata": {},
   "outputs": [
    {
     "name": "stdout",
     "output_type": "stream",
     "text": [
      "The following rows (ie, rental listings) will need to be removed since they violate the assumption of the indicator variable columns being mutually exclusive:\n",
      "Empty DataFrame\n",
      "Columns: [listing_id, sqft, city, price, bedrooms, bathrooms, attr_vars, date_of_webcrawler, kitchen, date_posted, region, sub_region, cats_OK, dogs_OK, wheelchair_accessible, laundry_in_bldg, no_laundry, washer_and_dryer, washer_and_dryer_hookup, laundry_on_site, full_kitchen, dishwasher, refrigerator, oven, flooring_carpet, flooring_wood, flooring_tile, flooring_hardwood, flooring_other, apt, in_law_apt, condo, townhouse, cottage_or_cabin, single_fam, duplex, flat, land, is_furnished, attached_garage, detached_garage, carport, off_street_parking, no_parking, EV_charging, air_condition, no_smoking, day_of_week, week, month, year, flooring_types]\n",
      "Index: []\n",
      "\n",
      "[0 rows x 52 columns]\n"
     ]
    }
   ],
   "source": [
    "# flooring type indicators \n",
    "flooring_type_indicators = ['flooring_carpet',\t'flooring_wood', 'flooring_tile', 'flooring_hardwood', 'flooring_other']\n",
    "\n",
    "df = identify_perfect_collinearity(df, flooring_type_indicators, 'flooring_types')"
   ]
  },
  {
   "cell_type": "markdown",
   "metadata": {},
   "source": [
    "### 4) Next, let's remove records with respect to the parking option indicators:"
   ]
  },
  {
   "cell_type": "code",
   "execution_count": 9,
   "metadata": {},
   "outputs": [
    {
     "name": "stdout",
     "output_type": "stream",
     "text": [
      "The following rows (ie, rental listings) will need to be removed since they violate the assumption of the indicator variable columns being mutually exclusive:\n",
      "Empty DataFrame\n",
      "Columns: [listing_id, sqft, city, price, bedrooms, bathrooms, attr_vars, date_of_webcrawler, kitchen, date_posted, region, sub_region, cats_OK, dogs_OK, wheelchair_accessible, laundry_in_bldg, no_laundry, washer_and_dryer, washer_and_dryer_hookup, laundry_on_site, full_kitchen, dishwasher, refrigerator, oven, flooring_carpet, flooring_wood, flooring_tile, flooring_hardwood, flooring_other, apt, in_law_apt, condo, townhouse, cottage_or_cabin, single_fam, duplex, flat, land, is_furnished, attached_garage, detached_garage, carport, off_street_parking, no_parking, EV_charging, air_condition, no_smoking, day_of_week, week, month, year, parking_ops]\n",
      "Index: []\n",
      "\n",
      "[0 rows x 52 columns]\n"
     ]
    }
   ],
   "source": [
    "# parking options indicators\n",
    "parking_options_indicators = ['carport', 'off_street_parking', 'no_parking']\n",
    "\n",
    "df = identify_perfect_collinearity(df, parking_options_indicators, 'parking_ops')"
   ]
  },
  {
   "cell_type": "code",
   "execution_count": null,
   "metadata": {},
   "outputs": [],
   "source": []
  },
  {
   "cell_type": "code",
   "execution_count": 125,
   "metadata": {},
   "outputs": [
    {
     "data": {
      "text/html": [
       "<div>\n",
       "<style scoped>\n",
       "    .dataframe tbody tr th:only-of-type {\n",
       "        vertical-align: middle;\n",
       "    }\n",
       "\n",
       "    .dataframe tbody tr th {\n",
       "        vertical-align: top;\n",
       "    }\n",
       "\n",
       "    .dataframe thead th {\n",
       "        text-align: right;\n",
       "    }\n",
       "</style>\n",
       "<table border=\"1\" class=\"dataframe\">\n",
       "  <thead>\n",
       "    <tr style=\"text-align: right;\">\n",
       "      <th></th>\n",
       "      <th>listing_id</th>\n",
       "      <th>sqft</th>\n",
       "      <th>city</th>\n",
       "      <th>price</th>\n",
       "      <th>bedrooms</th>\n",
       "      <th>bathrooms</th>\n",
       "      <th>attr_vars</th>\n",
       "      <th>date_of_webcrawler</th>\n",
       "      <th>kitchen</th>\n",
       "      <th>date_posted</th>\n",
       "      <th>...</th>\n",
       "      <th>carport</th>\n",
       "      <th>off_street_parking</th>\n",
       "      <th>no_parking</th>\n",
       "      <th>EV_charging</th>\n",
       "      <th>air_condition</th>\n",
       "      <th>no_smoking</th>\n",
       "      <th>day_of_week</th>\n",
       "      <th>week</th>\n",
       "      <th>month</th>\n",
       "      <th>year</th>\n",
       "    </tr>\n",
       "  </thead>\n",
       "  <tbody>\n",
       "    <tr>\n",
       "      <th>975</th>\n",
       "      <td>7400340992</td>\n",
       "      <td>9540</td>\n",
       "      <td>San Rafael</td>\n",
       "      <td>1600</td>\n",
       "      <td>2</td>\n",
       "      <td>1.0</td>\n",
       "      <td>cats are OK - purrr\\ndogs are OK - wooof\\nfloo...</td>\n",
       "      <td>2021-11-10</td>\n",
       "      <td>0</td>\n",
       "      <td>2021-11-03 17:15:00</td>\n",
       "      <td>...</td>\n",
       "      <td>0</td>\n",
       "      <td>1</td>\n",
       "      <td>0</td>\n",
       "      <td>0</td>\n",
       "      <td>0</td>\n",
       "      <td>1</td>\n",
       "      <td>Wednesday</td>\n",
       "      <td>44</td>\n",
       "      <td>11</td>\n",
       "      <td>2021</td>\n",
       "    </tr>\n",
       "    <tr>\n",
       "      <th>1135</th>\n",
       "      <td>7400607232</td>\n",
       "      <td>11000</td>\n",
       "      <td>Fairfield</td>\n",
       "      <td>2277</td>\n",
       "      <td>3</td>\n",
       "      <td>1.0</td>\n",
       "      <td>flooring: wood\\nhouse\\nno laundry on site\\nno ...</td>\n",
       "      <td>2021-10-29</td>\n",
       "      <td>1</td>\n",
       "      <td>2021-10-28 18:26:00</td>\n",
       "      <td>...</td>\n",
       "      <td>0</td>\n",
       "      <td>1</td>\n",
       "      <td>0</td>\n",
       "      <td>0</td>\n",
       "      <td>0</td>\n",
       "      <td>1</td>\n",
       "      <td>Thursday</td>\n",
       "      <td>43</td>\n",
       "      <td>10</td>\n",
       "      <td>2021</td>\n",
       "    </tr>\n",
       "    <tr>\n",
       "      <th>1136</th>\n",
       "      <td>7400609792</td>\n",
       "      <td>9260</td>\n",
       "      <td>Fremont</td>\n",
       "      <td>2498</td>\n",
       "      <td>2</td>\n",
       "      <td>2.0</td>\n",
       "      <td>cats are OK - purrr\\ndogs are OK - wooof\\nfloo...</td>\n",
       "      <td>2021-10-29</td>\n",
       "      <td>1</td>\n",
       "      <td>2021-10-28 18:37:00</td>\n",
       "      <td>...</td>\n",
       "      <td>0</td>\n",
       "      <td>0</td>\n",
       "      <td>0</td>\n",
       "      <td>0</td>\n",
       "      <td>0</td>\n",
       "      <td>1</td>\n",
       "      <td>Thursday</td>\n",
       "      <td>43</td>\n",
       "      <td>10</td>\n",
       "      <td>2021</td>\n",
       "    </tr>\n",
       "    <tr>\n",
       "      <th>1137</th>\n",
       "      <td>7400614400</td>\n",
       "      <td>9980</td>\n",
       "      <td>Dublin</td>\n",
       "      <td>2225</td>\n",
       "      <td>2</td>\n",
       "      <td>2.0</td>\n",
       "      <td>open house dates\\nfriday 2021-10-29\\nsaturday ...</td>\n",
       "      <td>2021-10-29</td>\n",
       "      <td>1</td>\n",
       "      <td>2021-10-28 18:54:00</td>\n",
       "      <td>...</td>\n",
       "      <td>0</td>\n",
       "      <td>0</td>\n",
       "      <td>0</td>\n",
       "      <td>0</td>\n",
       "      <td>0</td>\n",
       "      <td>0</td>\n",
       "      <td>Thursday</td>\n",
       "      <td>43</td>\n",
       "      <td>10</td>\n",
       "      <td>2021</td>\n",
       "    </tr>\n",
       "    <tr>\n",
       "      <th>1138</th>\n",
       "      <td>7400614912</td>\n",
       "      <td>9980</td>\n",
       "      <td>Pittsburg</td>\n",
       "      <td>2225</td>\n",
       "      <td>2</td>\n",
       "      <td>2.0</td>\n",
       "      <td>open house dates\\nfriday 2021-10-29\\nsaturday ...</td>\n",
       "      <td>2021-10-29</td>\n",
       "      <td>1</td>\n",
       "      <td>2021-10-28 18:56:00</td>\n",
       "      <td>...</td>\n",
       "      <td>0</td>\n",
       "      <td>0</td>\n",
       "      <td>0</td>\n",
       "      <td>0</td>\n",
       "      <td>0</td>\n",
       "      <td>0</td>\n",
       "      <td>Thursday</td>\n",
       "      <td>43</td>\n",
       "      <td>10</td>\n",
       "      <td>2021</td>\n",
       "    </tr>\n",
       "    <tr>\n",
       "      <th>...</th>\n",
       "      <td>...</td>\n",
       "      <td>...</td>\n",
       "      <td>...</td>\n",
       "      <td>...</td>\n",
       "      <td>...</td>\n",
       "      <td>...</td>\n",
       "      <td>...</td>\n",
       "      <td>...</td>\n",
       "      <td>...</td>\n",
       "      <td>...</td>\n",
       "      <td>...</td>\n",
       "      <td>...</td>\n",
       "      <td>...</td>\n",
       "      <td>...</td>\n",
       "      <td>...</td>\n",
       "      <td>...</td>\n",
       "      <td>...</td>\n",
       "      <td>...</td>\n",
       "      <td>...</td>\n",
       "      <td>...</td>\n",
       "      <td>...</td>\n",
       "    </tr>\n",
       "    <tr>\n",
       "      <th>15137</th>\n",
       "      <td>7448673792</td>\n",
       "      <td>4000</td>\n",
       "      <td>Santa Rosa</td>\n",
       "      <td>1685</td>\n",
       "      <td>1</td>\n",
       "      <td>1.0</td>\n",
       "      <td>application fee details: $45 per person\\ncats ...</td>\n",
       "      <td>2022-02-20</td>\n",
       "      <td>0</td>\n",
       "      <td>2022-02-20 14:09:00</td>\n",
       "      <td>...</td>\n",
       "      <td>0</td>\n",
       "      <td>1</td>\n",
       "      <td>0</td>\n",
       "      <td>0</td>\n",
       "      <td>0</td>\n",
       "      <td>0</td>\n",
       "      <td>Sunday</td>\n",
       "      <td>7</td>\n",
       "      <td>2</td>\n",
       "      <td>2022</td>\n",
       "    </tr>\n",
       "    <tr>\n",
       "      <th>15138</th>\n",
       "      <td>7448727040</td>\n",
       "      <td>3100</td>\n",
       "      <td>Soquel</td>\n",
       "      <td>1850</td>\n",
       "      <td>1</td>\n",
       "      <td>1.0</td>\n",
       "      <td>open house dates\\nthursday 2022-02-24\\nsunday ...</td>\n",
       "      <td>2022-02-21</td>\n",
       "      <td>1</td>\n",
       "      <td>2022-02-20 16:44:00</td>\n",
       "      <td>...</td>\n",
       "      <td>0</td>\n",
       "      <td>0</td>\n",
       "      <td>0</td>\n",
       "      <td>0</td>\n",
       "      <td>0</td>\n",
       "      <td>0</td>\n",
       "      <td>Sunday</td>\n",
       "      <td>7</td>\n",
       "      <td>2</td>\n",
       "      <td>2022</td>\n",
       "    </tr>\n",
       "    <tr>\n",
       "      <th>15139</th>\n",
       "      <td>7448891904</td>\n",
       "      <td>16780</td>\n",
       "      <td>Boulder Creek</td>\n",
       "      <td>4000</td>\n",
       "      <td>3</td>\n",
       "      <td>2.0</td>\n",
       "      <td>flooring: other\\nhouse\\nw/d in unit\\nno smokin...</td>\n",
       "      <td>2022-02-21</td>\n",
       "      <td>1</td>\n",
       "      <td>2022-02-21 07:27:00</td>\n",
       "      <td>...</td>\n",
       "      <td>0</td>\n",
       "      <td>0</td>\n",
       "      <td>0</td>\n",
       "      <td>0</td>\n",
       "      <td>0</td>\n",
       "      <td>1</td>\n",
       "      <td>Monday</td>\n",
       "      <td>8</td>\n",
       "      <td>2</td>\n",
       "      <td>2022</td>\n",
       "    </tr>\n",
       "    <tr>\n",
       "      <th>15140</th>\n",
       "      <td>7449138176</td>\n",
       "      <td>5250</td>\n",
       "      <td>Santa Cruz</td>\n",
       "      <td>1800</td>\n",
       "      <td>1</td>\n",
       "      <td>1.0</td>\n",
       "      <td>cats are OK - purrr\\ndogs are OK - wooof\\nfurn...</td>\n",
       "      <td>2022-02-21</td>\n",
       "      <td>1</td>\n",
       "      <td>2022-02-21 14:39:00</td>\n",
       "      <td>...</td>\n",
       "      <td>0</td>\n",
       "      <td>0</td>\n",
       "      <td>0</td>\n",
       "      <td>0</td>\n",
       "      <td>0</td>\n",
       "      <td>0</td>\n",
       "      <td>Monday</td>\n",
       "      <td>8</td>\n",
       "      <td>2</td>\n",
       "      <td>2022</td>\n",
       "    </tr>\n",
       "    <tr>\n",
       "      <th>15141</th>\n",
       "      <td>7449140224</td>\n",
       "      <td>5900</td>\n",
       "      <td>Santa Cruz</td>\n",
       "      <td>1800</td>\n",
       "      <td>1</td>\n",
       "      <td>1.0</td>\n",
       "      <td>cats are OK - purrr\\ndogs are OK - wooof\\nfurn...</td>\n",
       "      <td>2022-02-21</td>\n",
       "      <td>1</td>\n",
       "      <td>2022-02-21 14:44:00</td>\n",
       "      <td>...</td>\n",
       "      <td>0</td>\n",
       "      <td>0</td>\n",
       "      <td>0</td>\n",
       "      <td>0</td>\n",
       "      <td>0</td>\n",
       "      <td>0</td>\n",
       "      <td>Monday</td>\n",
       "      <td>8</td>\n",
       "      <td>2</td>\n",
       "      <td>2022</td>\n",
       "    </tr>\n",
       "  </tbody>\n",
       "</table>\n",
       "<p>27980 rows × 51 columns</p>\n",
       "</div>"
      ],
      "text/plain": [
       "       listing_id   sqft           city  price  bedrooms  bathrooms  \\\n",
       "975    7400340992   9540     San Rafael   1600         2        1.0   \n",
       "1135   7400607232  11000      Fairfield   2277         3        1.0   \n",
       "1136   7400609792   9260        Fremont   2498         2        2.0   \n",
       "1137   7400614400   9980         Dublin   2225         2        2.0   \n",
       "1138   7400614912   9980      Pittsburg   2225         2        2.0   \n",
       "...           ...    ...            ...    ...       ...        ...   \n",
       "15137  7448673792   4000     Santa Rosa   1685         1        1.0   \n",
       "15138  7448727040   3100         Soquel   1850         1        1.0   \n",
       "15139  7448891904  16780  Boulder Creek   4000         3        2.0   \n",
       "15140  7449138176   5250     Santa Cruz   1800         1        1.0   \n",
       "15141  7449140224   5900     Santa Cruz   1800         1        1.0   \n",
       "\n",
       "                                               attr_vars date_of_webcrawler  \\\n",
       "975    cats are OK - purrr\\ndogs are OK - wooof\\nfloo...         2021-11-10   \n",
       "1135   flooring: wood\\nhouse\\nno laundry on site\\nno ...         2021-10-29   \n",
       "1136   cats are OK - purrr\\ndogs are OK - wooof\\nfloo...         2021-10-29   \n",
       "1137   open house dates\\nfriday 2021-10-29\\nsaturday ...         2021-10-29   \n",
       "1138   open house dates\\nfriday 2021-10-29\\nsaturday ...         2021-10-29   \n",
       "...                                                  ...                ...   \n",
       "15137  application fee details: $45 per person\\ncats ...         2022-02-20   \n",
       "15138  open house dates\\nthursday 2022-02-24\\nsunday ...         2022-02-21   \n",
       "15139  flooring: other\\nhouse\\nw/d in unit\\nno smokin...         2022-02-21   \n",
       "15140  cats are OK - purrr\\ndogs are OK - wooof\\nfurn...         2022-02-21   \n",
       "15141  cats are OK - purrr\\ndogs are OK - wooof\\nfurn...         2022-02-21   \n",
       "\n",
       "       kitchen         date_posted  ... carport off_street_parking  \\\n",
       "975          0 2021-11-03 17:15:00  ...       0                  1   \n",
       "1135         1 2021-10-28 18:26:00  ...       0                  1   \n",
       "1136         1 2021-10-28 18:37:00  ...       0                  0   \n",
       "1137         1 2021-10-28 18:54:00  ...       0                  0   \n",
       "1138         1 2021-10-28 18:56:00  ...       0                  0   \n",
       "...        ...                 ...  ...     ...                ...   \n",
       "15137        0 2022-02-20 14:09:00  ...       0                  1   \n",
       "15138        1 2022-02-20 16:44:00  ...       0                  0   \n",
       "15139        1 2022-02-21 07:27:00  ...       0                  0   \n",
       "15140        1 2022-02-21 14:39:00  ...       0                  0   \n",
       "15141        1 2022-02-21 14:44:00  ...       0                  0   \n",
       "\n",
       "       no_parking  EV_charging  air_condition  no_smoking  day_of_week  week  \\\n",
       "975             0            0              0           1    Wednesday    44   \n",
       "1135            0            0              0           1     Thursday    43   \n",
       "1136            0            0              0           1     Thursday    43   \n",
       "1137            0            0              0           0     Thursday    43   \n",
       "1138            0            0              0           0     Thursday    43   \n",
       "...           ...          ...            ...         ...          ...   ...   \n",
       "15137           0            0              0           0       Sunday     7   \n",
       "15138           0            0              0           0       Sunday     7   \n",
       "15139           0            0              0           1       Monday     8   \n",
       "15140           0            0              0           0       Monday     8   \n",
       "15141           0            0              0           0       Monday     8   \n",
       "\n",
       "       month  year  \n",
       "975       11  2021  \n",
       "1135      10  2021  \n",
       "1136      10  2021  \n",
       "1137      10  2021  \n",
       "1138      10  2021  \n",
       "...      ...   ...  \n",
       "15137      2  2022  \n",
       "15138      2  2022  \n",
       "15139      2  2022  \n",
       "15140      2  2022  \n",
       "15141      2  2022  \n",
       "\n",
       "[27980 rows x 51 columns]"
      ]
     },
     "execution_count": 125,
     "metadata": {},
     "output_type": "execute_result"
    }
   ],
   "source": [
    "df3 = pd.concat([df,df2]).drop_duplicates(keep=False)\n",
    "\n",
    "\n",
    "df3"
   ]
  },
  {
   "cell_type": "code",
   "execution_count": 126,
   "metadata": {},
   "outputs": [
    {
     "data": {
      "text/plain": [
       "Index(['listing_id', 'sqft', 'city', 'price', 'bedrooms', 'bathrooms',\n",
       "       'attr_vars', 'date_of_webcrawler', 'kitchen', 'date_posted', 'region',\n",
       "       'sub_region', 'cats_OK', 'dogs_OK', 'wheelchair_accessible',\n",
       "       'laundry_in_bldg', 'no_laundry', 'washer_and_dryer',\n",
       "       'washer_and_dryer_hookup', 'laundry_on_site', 'full_kitchen',\n",
       "       'dishwasher', 'refrigerator', 'oven', 'flooring_carpet',\n",
       "       'flooring_wood', 'flooring_tile', 'flooring_hardwood', 'flooring_other',\n",
       "       'apt', 'in_law_apt', 'condo', 'townhouse', 'cottage_or_cabin',\n",
       "       'single_fam', 'duplex', 'flat', 'land', 'is_furnished',\n",
       "       'attached_garage', 'detached_garage', 'carport', 'off_street_parking',\n",
       "       'no_parking', 'EV_charging', 'air_condition', 'no_smoking',\n",
       "       'day_of_week', 'week', 'month', 'year'],\n",
       "      dtype='object')"
      ]
     },
     "execution_count": 126,
     "metadata": {},
     "output_type": "execute_result"
    }
   ],
   "source": [
    "df3.columns"
   ]
  },
  {
   "cell_type": "code",
   "execution_count": 131,
   "metadata": {},
   "outputs": [
    {
     "data": {
      "text/plain": [
       "51"
      ]
     },
     "execution_count": 131,
     "metadata": {},
     "output_type": "execute_result"
    }
   ],
   "source": [
    "len(df3.columns)"
   ]
  },
  {
   "cell_type": "code",
   "execution_count": 132,
   "metadata": {},
   "outputs": [
    {
     "data": {
      "text/plain": [
       "51"
      ]
     },
     "execution_count": 132,
     "metadata": {},
     "output_type": "execute_result"
    }
   ],
   "source": [
    "len(df.columns)"
   ]
  },
  {
   "cell_type": "code",
   "execution_count": 120,
   "metadata": {},
   "outputs": [
    {
     "data": {
      "text/plain": [
       "0    13985\n",
       "1        5\n",
       "Name: land, dtype: int64"
      ]
     },
     "execution_count": 120,
     "metadata": {},
     "output_type": "execute_result"
    }
   ],
   "source": [
    "df2.land.value_counts()"
   ]
  },
  {
   "cell_type": "code",
   "execution_count": 94,
   "metadata": {},
   "outputs": [
    {
     "name": "stdout",
     "output_type": "stream",
     "text": [
      "The land col was removed by the remove_cols_with_only_0s() function.\n"
     ]
    }
   ],
   "source": []
  },
  {
   "cell_type": "markdown",
   "metadata": {},
   "source": [
    "## Correlation coefficient matrix--heatmap\n",
    "\n",
    "\n",
    "### Next, let's examine the correlations among the various variables, in particular, what variables are most heavily correlated with the outcome variable--namely, price (ie, rental prices):\n",
    "\n",
    "### To do this, we can compute a correlation coefficient matrix, and then visualize positive vs negative correlations (or little to no correlation) via a heatmap with a diverging color palette: "
   ]
  },
  {
   "cell_type": "code",
   "execution_count": 87,
   "metadata": {},
   "outputs": [
    {
     "name": "stderr",
     "output_type": "stream",
     "text": [
      "d:\\Coding and Code projects\\Python\\craigslist_data_proj\\CraigslistWebScraper\\craigslist_venv\\lib\\site-packages\\ipykernel_launcher.py:18: DeprecationWarning: `np.bool` is a deprecated alias for the builtin `bool`. To silence this warning, use `bool` by itself. Doing this will not modify any behavior and is safe. If you specifically wanted the numpy scalar type, use `np.bool_` here.\n",
      "Deprecated in NumPy 1.20; for more details and guidance: https://numpy.org/devdocs/release/1.20.0-notes.html#deprecations\n"
     ]
    },
    {
     "data": {
      "image/png": "[encoded data removed]",
      "text/plain": [
       "<Figure size 2880x1728 with 2 Axes>"
      ]
     },
     "metadata": {
      "needs_background": "light"
     },
     "output_type": "display_data"
    }
   ],
   "source": [
    "# visualize heatmap of correlation coefficient matrix to analyze correlations between each of the variables within the dataset:\n",
    "# compute correlation coefficient matrix (but be sure to filter out any non-numeric columns such as cities)\n",
    "#show heatmap plot of correlation (sort of a heatmap of a correlation matrix)\n",
    "#calculate the correlations of each variable to price\n",
    "def corr_heatmap(df, outcome_var):\n",
    "    # for purposes of finding correlations with price, create a new Index object and convert to list with all numeric (int64 & float) columns from the  dataframe\n",
    "    # we will exclude all indicator variables (ie, data type of 'uint8') since some have so many groups\n",
    "    numeric_RHS = df.select_dtypes(include=['int64','float64']).columns  #exclude indicator variables\n",
    "    #drop the outcome var from this df since we should only include RHS variables for this\n",
    "    numeric_RHS = numeric_RHS.drop([outcome_var]) \n",
    "    #also, convert numeric_RHS to list:\n",
    "    numeric_RHS_lis  = list(numeric_RHS)\n",
    "    #calculate correlation of each RHS column with respect to the dependent variable\n",
    "    corr = df[[outcome_var] + numeric_RHS_lis].corr()\n",
    "    #Initialize the heatmap plot\n",
    "    f, ax = plt.subplots(figsize=(40,24))\n",
    "    #Create a mask to generate an upper triangular shape\n",
    "    mask = np.zeros_like(corr, dtype=np.bool)\n",
    "    mask[np.triu_indices_from(mask)] = True\n",
    "    #Set up a color map with a diverging palette of 3 colors\n",
    "    cmap= sns.diverging_palette(220,10, as_cmap = True)\n",
    "    #Notice the plot has a triangular shape, and the levels and intensity of positive and negative correlations are shown with 2 diverging colors.\n",
    "    sns.heatmap(corr, mask=mask, cmap=cmap, vmax=.3, center=0, square=True, linewidths=.5, cbar_kws ={\"shrink\": .5})\n",
    "\n",
    "#heatmap of correlation coefficient matrix:\n",
    "corr_heatmap(df, 'price') #NB: For this heatmap, note that a darker red color conveys higher positive correlation, white indicates no correlation, and blue indicates higher negative correlation)\n"
   ]
  },
  {
   "cell_type": "markdown",
   "metadata": {},
   "source": [
    "## Analysis of  correlation coefficient matrix:\n",
    "\n",
    "### Many of the variables do not have any more than a slight positive or negative correlation with rental prices.\n",
    "\n",
    "### Namely, only about 8 of the 40+ variables have more than a slight or moderate positive correlation: both garage indicators (detached or attached); single family property type (single_fam); electric vehicle charger indicator (EV_charging); washer and dryer is included indicator (washer_and_dryer); sqft, and especially the number of bedrooms & bathrooms, respectively.\n",
    "\n",
    "### Even fewer of the variables have a noticeable negative correlation, with only the laundry service available on site indicator (ie, laundry_on_site) showing a moderate negative correlation. Several other variables have slight negative correlations with price: apartment property type (apt); no laundry service (no_laundry) indicator); in law apt property type; and carport indicator.  "
   ]
  },
  {
   "cell_type": "code",
   "execution_count": null,
   "metadata": {},
   "outputs": [],
   "source": []
  },
  {
   "cell_type": "markdown",
   "metadata": {},
   "source": [
    "## Potential multicollinearity problems?\n",
    "\n",
    "### Potentially a more problematic issue suggested by the heatmap plot is the possibility of multicollinearity: ie, correlation between 2 or more of the (potential) independent variables.\n",
    "\n",
    "### For example, sqft is moderately positively correlated with *2* other variables: # of bedrooms & bathrooms, respectively!\n",
    "\n",
    "### In addition, several of the indicator variables have a moderate degree of positive correlation with 2 or more of the other indicator variables, such as between apt (ie, apartment housing type) and wheelchair accessibility as well as allowing of cats (ie, cats_OK) or dogs. \n",
    "\n",
    "### In addition, no_smoking, electric vehcile charging, and air conditioning attributes/amenities all positively correlate (somewhat) with the above wheelchair, cats_OK, and dogs_OK attributes. \n",
    "\n",
    "### However, to be certain as to whether these low to moderate correlations among the RHS variables actually translate to a high degree of multicollinearity, we need to calculate the *VIF* (ie, variance inflation factor). See below for more details:"
   ]
  },
  {
   "cell_type": "markdown",
   "metadata": {},
   "source": [
    "## How should we contend with this fairly widespread multicollinearity?\n",
    "\n",
    "### Since we are concerned with *interpreting* coefficients and examining *determinants* of rental prices--in addition to simply predicting rental prices--multicollinearity could potentially be quite problematic. We would only be wise to ignore multicollinearity if our only concern was to derive accurate predictions.\n",
    "\n",
    "## How do we mitigate multicollinearity?\n",
    "\n",
    "### We should estimate variance inflation factor (VIF), and potentially remove columns that have a sufficiently high VIF, which is sometimes defined as being >= 5. \n",
    "\n",
    "### Let's estimate VIF below, and then remove the worst offenders of multicollinearity:"
   ]
  },
  {
   "cell_type": "code",
   "execution_count": 133,
   "metadata": {},
   "outputs": [
    {
     "name": "stderr",
     "output_type": "stream",
     "text": [
      "d:\\Coding and Code projects\\Python\\craigslist_data_proj\\CraigslistWebScraper\\craigslist_venv\\lib\\site-packages\\statsmodels\\regression\\linear_model.py:1738: RuntimeWarning: divide by zero encountered in double_scalars\n",
      "  return 1 - self.ssr/self.centered_tss\n",
      "d:\\Coding and Code projects\\Python\\craigslist_data_proj\\CraigslistWebScraper\\craigslist_venv\\lib\\site-packages\\statsmodels\\regression\\linear_model.py:1738: RuntimeWarning: invalid value encountered in double_scalars\n",
      "  return 1 - self.ssr/self.centered_tss\n"
     ]
    },
    {
     "name": "stdout",
     "output_type": "stream",
     "text": [
      "VIF--ie, measure of multicollinearity:\n",
      "const                        0.000000\n",
      "listing_id                  12.460338\n",
      "sqft                         1.087885\n",
      "bedrooms                     2.405875\n",
      "bathrooms                    2.239548\n",
      "kitchen                      1.126123\n",
      "cats_OK                      5.083465\n",
      "dogs_OK                      5.199877\n",
      "wheelchair_accessible        1.841604\n",
      "laundry_in_bldg              4.976657\n",
      "no_laundry                   1.328968\n",
      "washer_and_dryer            13.078297\n",
      "washer_and_dryer_hookup      2.365040\n",
      "laundry_on_site              8.637382\n",
      "full_kitchen                 1.037512\n",
      "dishwasher                   1.436893\n",
      "refrigerator                 1.604690\n",
      "oven                         1.360149\n",
      "flooring_carpet              2.360818\n",
      "flooring_wood                3.035893\n",
      "flooring_tile                1.198358\n",
      "flooring_hardwood                 NaN\n",
      "flooring_other               1.992724\n",
      "apt                          6.211991\n",
      "in_law_apt                   1.461934\n",
      "condo                        1.648591\n",
      "townhouse                    1.481903\n",
      "cottage_or_cabin             1.326316\n",
      "single_fam                   2.596750\n",
      "duplex                       1.341533\n",
      "flat                         1.392547\n",
      "land                         1.004232\n",
      "is_furnished                 1.134542\n",
      "attached_garage              2.903270\n",
      "detached_garage              2.963094\n",
      "carport                      3.633125\n",
      "off_street_parking           2.012748\n",
      "no_parking                   1.484817\n",
      "EV_charging                  1.987124\n",
      "air_condition                1.776823\n",
      "no_smoking                   1.639179\n",
      "week                        12.904105\n",
      "month                      325.355766\n",
      "year                       414.135117\n",
      "dtype: float64\n"
     ]
    }
   ],
   "source": [
    "from statsmodels.stats.outliers_influence import variance_inflation_factor\n",
    "from statsmodels.tools.tools import add_constant\n",
    "\n",
    "\n",
    "def estimate_VIF(df, outcome_var):\n",
    "    \"\"\"Estimate VIF of the various covariates with each other\"\"\"\n",
    "    # exclude outcome variable\n",
    "    X = df.drop(columns=[outcome_var])  # exclude outcome variable since we are only interested in the RHS variables (examining correlations among each other)\n",
    "    # select only *numeric* columns since we cannot compute VIF for non-numeric data types (ie, object or categorical, etc.)\n",
    "    X = X.select_dtypes(include=[np.number]) # select only numeric data types\n",
    "    # add constant (since we are estimating an OLS to derive VIF)\n",
    "    X = add_constant(X)\n",
    "    # estimate VIF (for all possible RHS vars):\n",
    "    VIF = pd.Series([variance_inflation_factor(X.values, i) \n",
    "               for i in range(X.shape[1])], \n",
    "              index=X.columns)  # estimate VIF\n",
    "    \n",
    "    return VIF  # return VIF estimate as DataFrame\n",
    "\n",
    "\n",
    "VIF = estimate_VIF(df, 'price')\n",
    "\n",
    "# sanity check \n",
    "print(f'VIF--ie, measure of multicollinearity:\\n{VIF}')"
   ]
  },
  {
   "cell_type": "markdown",
   "metadata": {},
   "source": [
    "## NB: Notice several of the idnicator variables have very high VIF. Both a priori and the heatmap indicate moderate correlation among the bedroom, bathroom, and sqft columns, but it's not necessarily borne out in the VIF calculations. So we will keep each of these 3 columns, but remove them later if needed!!!\n",
    "\n",
    "## Next, let's remove columns with very high VIF--ie, VIF >10:"
   ]
  },
  {
   "cell_type": "code",
   "execution_count": 134,
   "metadata": {},
   "outputs": [
    {
     "name": "stdout",
     "output_type": "stream",
     "text": [
      "The columns with high VIF are:/n['washer_and_dryer', 'week', 'month', 'year']\n",
      "The columns in the dataset are now:/n       listing_id   sqft           city  price  bedrooms  bathrooms  \\\n",
      "975    7400340992   9540     San Rafael   1600         2        1.0   \n",
      "1135   7400607232  11000      Fairfield   2277         3        1.0   \n",
      "1136   7400609792   9260        Fremont   2498         2        2.0   \n",
      "1137   7400614400   9980         Dublin   2225         2        2.0   \n",
      "1138   7400614912   9980      Pittsburg   2225         2        2.0   \n",
      "...           ...    ...            ...    ...       ...        ...   \n",
      "15137  7448673792   4000     Santa Rosa   1685         1        1.0   \n",
      "15138  7448727040   3100         Soquel   1850         1        1.0   \n",
      "15139  7448891904  16780  Boulder Creek   4000         3        2.0   \n",
      "15140  7449138176   5250     Santa Cruz   1800         1        1.0   \n",
      "15141  7449140224   5900     Santa Cruz   1800         1        1.0   \n",
      "\n",
      "                                               attr_vars date_of_webcrawler  \\\n",
      "975    cats are OK - purrr\\ndogs are OK - wooof\\nfloo...         2021-11-10   \n",
      "1135   flooring: wood\\nhouse\\nno laundry on site\\nno ...         2021-10-29   \n",
      "1136   cats are OK - purrr\\ndogs are OK - wooof\\nfloo...         2021-10-29   \n",
      "1137   open house dates\\nfriday 2021-10-29\\nsaturday ...         2021-10-29   \n",
      "1138   open house dates\\nfriday 2021-10-29\\nsaturday ...         2021-10-29   \n",
      "...                                                  ...                ...   \n",
      "15137  application fee details: $45 per person\\ncats ...         2022-02-20   \n",
      "15138  open house dates\\nthursday 2022-02-24\\nsunday ...         2022-02-21   \n",
      "15139  flooring: other\\nhouse\\nw/d in unit\\nno smokin...         2022-02-21   \n",
      "15140  cats are OK - purrr\\ndogs are OK - wooof\\nfurn...         2022-02-21   \n",
      "15141  cats are OK - purrr\\ndogs are OK - wooof\\nfurn...         2022-02-21   \n",
      "\n",
      "       kitchen         date_posted  ... is_furnished attached_garage  \\\n",
      "975          0 2021-11-03 17:15:00  ...            0               0   \n",
      "1135         1 2021-10-28 18:26:00  ...            0               0   \n",
      "1136         1 2021-10-28 18:37:00  ...            0               0   \n",
      "1137         1 2021-10-28 18:54:00  ...            0               0   \n",
      "1138         1 2021-10-28 18:56:00  ...            0               0   \n",
      "...        ...                 ...  ...          ...             ...   \n",
      "15137        0 2022-02-20 14:09:00  ...            0               0   \n",
      "15138        1 2022-02-20 16:44:00  ...            0               0   \n",
      "15139        1 2022-02-21 07:27:00  ...            0               1   \n",
      "15140        1 2022-02-21 14:39:00  ...            1               1   \n",
      "15141        1 2022-02-21 14:44:00  ...            1               1   \n",
      "\n",
      "       detached_garage  carport  off_street_parking  no_parking  EV_charging  \\\n",
      "975                  0        0                   1           0            0   \n",
      "1135                 0        0                   1           0            0   \n",
      "1136                 1        0                   0           0            0   \n",
      "1137                 0        0                   0           0            0   \n",
      "1138                 0        0                   0           0            0   \n",
      "...                ...      ...                 ...         ...          ...   \n",
      "15137                0        0                   1           0            0   \n",
      "15138                0        0                   0           0            0   \n",
      "15139                0        0                   0           0            0   \n",
      "15140                0        0                   0           0            0   \n",
      "15141                0        0                   0           0            0   \n",
      "\n",
      "       air_condition  no_smoking  day_of_week  \n",
      "975                0           1    Wednesday  \n",
      "1135               0           1     Thursday  \n",
      "1136               0           1     Thursday  \n",
      "1137               0           0     Thursday  \n",
      "1138               0           0     Thursday  \n",
      "...              ...         ...          ...  \n",
      "15137              0           0       Sunday  \n",
      "15138              0           0       Sunday  \n",
      "15139              0           1       Monday  \n",
      "15140              0           0       Monday  \n",
      "15141              0           0       Monday  \n",
      "\n",
      "[13990 rows x 47 columns]\n"
     ]
    }
   ],
   "source": [
    "def drop_high_collinear_cols(VIF, df):\n",
    "    \"\"\"Drop columns from main dataset if VIF is very high\"\"\"\n",
    "    # identify cols with VIF >= 10\n",
    "    VIF = VIF.loc[VIF >=10]  # subset VIF results to cols with high VIF\n",
    "\n",
    "    # get a list of the cols with high VIF-- NB!: slice to skip the 1st col since that is merely the *constant* (intercept)!\n",
    "    high_VIF_cols_to_drop = VIF.index[1:].to_list() # slice to skip the 1st col since it's the constant term, not an actual col\n",
    "    print(f'The columns with high VIF are:/n{high_VIF_cols_to_drop}')\n",
    "    # drop the cols with high VIF\n",
    "    df = df.drop(columns=high_VIF_cols_to_drop)\n",
    "\n",
    "    # sanity check\n",
    "    print(f'The columns in the dataset are now:/n{df}')\n",
    "    return df\n",
    "\n",
    "df = drop_high_collinear_cols(VIF, df)\n"
   ]
  },
  {
   "cell_type": "markdown",
   "metadata": {},
   "source": [
    "###  VIF & multicollinearity--cont'd: Next, let's remove several specific columns that we know a priori estimate similar things, meaning that including each of them would be redundant.\n",
    "\n",
    "### For example: dogs_OK & cats_OK (remove one of them since they are likely very correlated with one another). \n",
    "\n",
    "### In addition, sqft is another likely candidate. Its VIF is not very high, but it measures the size of a home, which makes it similar to that of the # of bedrooms or bathrooms data. An alternative is to remove the number of bedrooms or bathrooms, but we should keep at least one of these latter 2 variables. \n",
    "\n",
    "### Caveat: The apt property type indicator will be *removed later* since it will serve as a *reference group* among the property type dummy variables!!\n",
    "\n",
    "### "
   ]
  },
  {
   "cell_type": "code",
   "execution_count": 136,
   "metadata": {},
   "outputs": [
    {
     "name": "stdout",
     "output_type": "stream",
     "text": [
      "True\n"
     ]
    }
   ],
   "source": [
    "def remove_redundant_vars(df, list_of_redundant_cols):\n",
    "    return df.drop(columns=list_of_redundant_cols)\n",
    "\n",
    "\n",
    "# specify a list of redundant cols\n",
    "redundant_cols_lis = [\"dogs_OK\", \"sqft\", \"kitchen\"]\n",
    "\n",
    "df = remove_redundant_vars(df, redundant_cols_lis)\n",
    "\n",
    "# sanity check\n",
    "def test_redundant_cols_not_in_df(df, list_of_redundant_cols):\n",
    "    if redundant_cols_lis not in df.list_of_redundant_cols.to_list():\n",
    "        print(True)\n",
    "    else:\n",
    "        print(False) \n",
    "\n",
    "test_redundant_cols_not_in_df(df, redundant_cols_lis)"
   ]
  },
  {
   "cell_type": "markdown",
   "metadata": {},
   "source": [
    "## Data cleaning--cont'd:\n",
    "\n",
    "### Next, we will remove any of the indicator variable columns in which *all* of the rows for the given column is equal to *only* zeros (ie, all 0s):\n",
    "\n",
    "#### For example--at least after the previous data cleaning steps--land is a very uncommon property/housing type, so it might have only 0s. In addition, flooring_hardwood is a very uncommon floor type for the listings, so it might also have only 0s (especially )."
   ]
  },
  {
   "cell_type": "code",
   "execution_count": 139,
   "metadata": {},
   "outputs": [],
   "source": [
    "def remove_cols_with_only_0s(df):\n",
    "    \"\"\"Remove any columns that have only 0s.\"\"\"\n",
    "    df = df.loc[:, (df != 0).any(axis=0)]\n",
    "    return df\n",
    "\n",
    "\n",
    "df = remove_cols_with_only_0s(df)"
   ]
  },
  {
   "cell_type": "code",
   "execution_count": 164,
   "metadata": {},
   "outputs": [
    {
     "name": "stdout",
     "output_type": "stream",
     "text": [
      "The flooring_hardwood col was removed by the remove_cols_with_only_0s() function.\n",
      "\n",
      "\n",
      "land col value counts:\n",
      "0    13985\n",
      "1        5\n",
      "Name: land, dtype: int64 \n",
      "\n",
      "\n"
     ]
    }
   ],
   "source": [
    "\"\"\" Sanity check--the 'land' col should have at least one 1 value, and not comprise just 0s. \n",
    "Otherwise, the remove_cols_with_only_0s() function should have removed the entire column\"\"\"\n",
    "\n",
    "def test_land_and_hardwood_col_vals(df):\n",
    "    if 'land' and 'flooring_hardwood' in df:\n",
    "        # print value_counts() to verify that there's at least 1 non-zero value \n",
    "        print(f'land col value counts:\\n{df.land.value_counts()} \\n\\n')\n",
    "        print(f'flooring_hardwood col value counts:\\n {df.flooring_hardwood.value_counts()}')\n",
    "    \n",
    "    elif 'land' not in df and 'flooring_hardwood' in df:\n",
    "        print(\"The land col was removed by the remove_cols_with_only_0s() function.\\n\")\n",
    "        print(f'flooring_hardwood col value counts:\\n{df.flooring_hardwood.value_counts()}')\n",
    "\n",
    "    elif 'flooring_hardwood' not in df and 'land' in df:\n",
    "        print(\"The flooring_hardwood col was removed by the remove_cols_with_only_0s() function.\\n\")\n",
    "        print(f'land col value counts:\\n{df.land.value_counts()} \\n\\n')\n",
    "\n",
    "    else:\n",
    "        print(\"The land & flooring_hardwood cols were removed by the remove_cols_with_only_0s() function.\")\n",
    "\n",
    "# apply function to check on values/existence of land col\n",
    "test_land_and_hardwood_col_vals(df)"
   ]
  },
  {
   "cell_type": "markdown",
   "metadata": {},
   "source": [
    "## Let's examine whether the distributions of price, # of bedrooms, etc. differs by Bay Area subregion:\n",
    "\n",
    "### NB!: see following for how to use .melt() and then do a buxplot of separate groups: <https://stackoverflow.com/questions/53109236/boxplot-with-groupby-two-features>"
   ]
  },
  {
   "cell_type": "code",
   "execution_count": 95,
   "metadata": {},
   "outputs": [
    {
     "data": {
      "text/plain": [
       "<AxesSubplot:xlabel='price'>"
      ]
     },
     "execution_count": 95,
     "metadata": {},
     "output_type": "execute_result"
    },
    {
     "data": {
      "image/png": "[encoded data removed]",
      "text/plain": [
       "<Figure size 792x360 with 1 Axes>"
      ]
     },
     "metadata": {},
     "output_type": "display_data"
    }
   ],
   "source": [
    "# boxplot of rental prices by sub_region:\n",
    "def multiple_boxplot_subplot(df, col_to_plot, hue_option):\n",
    "    # use plt.subplots() to allow for multiple boxplots in same figure\n",
    "    fig, ax = plt.subplots(figsize=(11,5))\n",
    "    return sns.boxplot(data=df, x=col_to_plot, hue=hue_option, ax=ax)\n",
    "\n",
    "multiple_boxplot_subplot(df, 'price', 'sub_region')"
   ]
  },
  {
   "cell_type": "markdown",
   "metadata": {},
   "source": [
    "### Data visualizations and data exploration-- Countplots of variables such as # of bedrooms, and include percent of total:\n",
    "\n",
    "\n",
    "### Among the relatively few rental listings that are furnished, how many bedrooms do these rental listings tend to have relative to non-furnished rental listings?:\n",
    "\n",
    "### Countplot of # of bedrooms by whether the rental is furnished:"
   ]
  },
  {
   "cell_type": "markdown",
   "metadata": {},
   "source": [
    "### How does the number of bedrooms relate to the number of bathrooms?\n",
    "\n",
    "### Boxplot of the distribution of the number of bedrooms by the number of bathrooms:"
   ]
  },
  {
   "cell_type": "code",
   "execution_count": 15,
   "metadata": {},
   "outputs": [
    {
     "data": {
      "text/plain": [
       "<AxesSubplot:xlabel='bedrooms', ylabel='bathrooms'>"
      ]
     },
     "execution_count": 15,
     "metadata": {},
     "output_type": "execute_result"
    },
    {
     "data": {
      "image/png": "[encoded data removed]",
      "text/plain": [
       "<Figure size 864x576 with 1 Axes>"
      ]
     },
     "metadata": {
      "needs_background": "light"
     },
     "output_type": "display_data"
    }
   ],
   "source": [
    "# boxplot of number of bedrooms- distribution by # of bathrooms\n",
    "boxplot_with_y_var_and_hue(df, 'bedrooms', 'bathrooms', None)"
   ]
  },
  {
   "cell_type": "markdown",
   "metadata": {},
   "source": [
    "### No listing has less than 1 bathroom, and most studios and 1-bedroom listings have 1 bathroom each. \n",
    "\n",
    "\n",
    "\n",
    "### In general, the number of bathrooms is typically the same or lower than the number of bedrooms, aside from studios, especially for listings with 4 or more bedrooms. \n"
   ]
  },
  {
   "cell_type": "markdown",
   "metadata": {},
   "source": [
    "### Next, let's examine correlations of variables with rental price (ie, the outcome variable)"
   ]
  },
  {
   "cell_type": "code",
   "execution_count": null,
   "metadata": {},
   "outputs": [],
   "source": [
    "# scatterplot of sqft and rental price"
   ]
  },
  {
   "cell_type": "code",
   "execution_count": null,
   "metadata": {},
   "outputs": [],
   "source": [
    "# scatterplot of # of bedrooms and rental price"
   ]
  },
  {
   "cell_type": "markdown",
   "metadata": {},
   "source": [
    "## Next, let's examine the data at the subregion level (ie, sfc vs sby, etc.) and then at the city level\n",
    "\n",
    "### Rental prices & sqft by subregion: "
   ]
  },
  {
   "cell_type": "code",
   "execution_count": 21,
   "metadata": {},
   "outputs": [
    {
     "name": "stdout",
     "output_type": "stream",
     "text": [
      "Comparing rental prices & sqft by subregion:\n",
      "\n",
      "           price                                              \n",
      "           count    max         mean  median          std  min\n",
      "sub_region                                                    \n",
      "eby         3677  11000  2555.202339  2460.0   805.515268  600\n",
      "nby         1230  11500  2667.516260  2500.0  1128.078741  100\n",
      "pen         2358  12000  3282.591179  3158.5  1219.151065  700\n",
      "sby         3241   9950  2884.941685  2728.0   934.667199  590\n",
      "scz          160   6500  2640.356250  2300.0  1119.136490  950\n",
      "sfc         1451  11495  3162.416265  2884.0  1435.375434  100\n"
     ]
    }
   ],
   "source": [
    "### group data by subregion level-- price & sqft summary stats\n",
    "def groupby_multiple_aggs_and_cols(df, groupby_col, agg_col_1, agg_col_2):\n",
    "    df_groupby = df.groupby([groupby_col]).agg(\n",
    "        {agg_col_1: ['count', 'max', 'mean', 'median', 'std', 'min']},\n",
    "        {agg_col_2: ['count', 'max', 'mean', 'median', 'std', 'min']})\n",
    "    return df_groupby\n",
    "\n",
    "\n",
    "# \n",
    "\n",
    "print(f\"Comparing rental prices & sqft by subregion:\\n{groupby_multiple_aggs_and_cols(df, 'sub_region', 'price', 'sqft')}\")\n"
   ]
  },
  {
   "cell_type": "code",
   "execution_count": null,
   "metadata": {},
   "outputs": [],
   "source": []
  },
  {
   "cell_type": "markdown",
   "metadata": {},
   "source": []
  },
  {
   "cell_type": "code",
   "execution_count": null,
   "metadata": {},
   "outputs": [],
   "source": [
    "## visualize and compare avg prices by subregion"
   ]
  },
  {
   "cell_type": "code",
   "execution_count": null,
   "metadata": {},
   "outputs": [],
   "source": []
  },
  {
   "cell_type": "markdown",
   "metadata": {},
   "source": [
    "## Since we have time series/panel data, let's examine the data over time & examine for autocorrelation"
   ]
  },
  {
   "cell_type": "code",
   "execution_count": 8,
   "metadata": {},
   "outputs": [
    {
     "data": {
      "image/png": "[encoded data removed]",
      "text/plain": [
       "<Figure size 432x288 with 1 Axes>"
      ]
     },
     "metadata": {
      "needs_background": "light"
     },
     "output_type": "display_data"
    }
   ],
   "source": [
    "import statsmodels.api as sm\n",
    "\n",
    "def transform_to_time_series(df, time_series_col):\n",
    "    df_ts = df.set_index(time_series_col)\n",
    "    return df_ts\n",
    "\n",
    "df_ts = transform_to_time_series(df, 'date_posted')\n",
    "\n",
    "def auto_corr_plot(df_ts, col):\n",
    "    sm.graphics.tsa.plot_acf(df_ts[col], lags=40)\n",
    "    plt.show()\n",
    "\n",
    "# show  autocorrelation (ACF) plot wrt rental prices over time\n",
    "auto_corr_plot(df_ts, 'price')"
   ]
  },
  {
   "cell_type": "code",
   "execution_count": null,
   "metadata": {},
   "outputs": [],
   "source": []
  },
  {
   "cell_type": "code",
   "execution_count": 14,
   "metadata": {},
   "outputs": [
    {
     "name": "stderr",
     "output_type": "stream",
     "text": [
      "d:\\Coding and Code projects\\Python\\craigslist_data_proj\\CraigslistWebScraper\\craigslist_venv\\lib\\site-packages\\statsmodels\\graphics\\tsaplots.py:353: FutureWarning: The default method 'yw' can produce PACF values outside of the [-1,1] interval. After 0.13, the default will change tounadjusted Yule-Walker ('ywm'). You can use this method now by setting method='ywm'.\n",
      "  FutureWarning,\n"
     ]
    },
    {
     "data": {
      "image/png": "[encoded data removed]",
      "text/plain": [
       "<Figure size 432x288 with 1 Axes>"
      ]
     },
     "metadata": {
      "needs_background": "light"
     },
     "output_type": "display_data"
    }
   ],
   "source": [
    "def partial_auto_corr_plot(df_ts, col):\n",
    "    sm.graphics.tsa.plot_pacf(df_ts[col], lags=40)\n",
    "    plt.show()\n",
    "\n",
    "# show partial autocorrelation plot\n",
    "partial_auto_corr_plot(df_ts, 'price')"
   ]
  },
  {
   "cell_type": "markdown",
   "metadata": {},
   "source": [
    "## Autcorrelation plots:\n",
    "\n",
    "### The ACF and PACF plots do *not* indicate autocorrelation, since none of the lagged error terms have anything other than very low correlations with the non-lagged error.\n",
    "\n",
    "### However, we should test this intuition more rigorously by using a Durbin-Watson statistical hypothesis test *after* we run the OLS regression model(s)!\n",
    "\n",
    "### *NB:* a Durbin-Watson test requires measuring a regression model since the test uses residuals to compute the test statistic.  \n",
    "\n",
    "### Thus, let's start by computing an OLS on rental price, but only use a few independent (RHS) variables to keep the model simple (objective is mainly just to do a D-W test): \n"
   ]
  },
  {
   "cell_type": "code",
   "execution_count": 19,
   "metadata": {},
   "outputs": [
    {
     "name": "stdout",
     "output_type": "stream",
     "text": [
      "                            OLS Regression Results                            \n",
      "==============================================================================\n",
      "Dep. Variable:                  price   R-squared:                       0.275\n",
      "Model:                            OLS   Adj. R-squared:                  0.275\n",
      "Method:                 Least Squares   F-statistic:                     1529.\n",
      "Date:                Wed, 16 Feb 2022   Prob (F-statistic):               0.00\n",
      "Time:                        00:10:47   Log-Likelihood:            -1.0000e+05\n",
      "No. Observations:               12117   AIC:                         2.000e+05\n",
      "Df Residuals:                   12113   BIC:                         2.000e+05\n",
      "Df Model:                           3                                         \n",
      "Covariance Type:            nonrobust                                         \n",
      "==============================================================================\n",
      "                 coef    std err          t      P>|t|      [0.025      0.975]\n",
      "------------------------------------------------------------------------------\n",
      "Intercept   1563.9317     21.793     71.763      0.000    1521.214    1606.649\n",
      "bedrooms     294.6524     12.957     22.741      0.000     269.255     320.050\n",
      "bathrooms    568.2022     20.158     28.187      0.000     528.689     607.715\n",
      "sqft           0.0058      0.001      6.336      0.000       0.004       0.008\n",
      "==============================================================================\n",
      "Omnibus:                     3556.424   Durbin-Watson:                   1.868\n",
      "Prob(Omnibus):                  0.000   Jarque-Bera (JB):            31847.345\n",
      "Skew:                           1.151   Prob(JB):                         0.00\n",
      "Kurtosis:                      10.601   Cond. No.                     4.03e+04\n",
      "==============================================================================\n",
      "\n",
      "Notes:\n",
      "[1] Standard Errors assume that the covariance matrix of the errors is correctly specified.\n",
      "[2] The condition number is large, 4.03e+04. This might indicate that there are\n",
      "strong multicollinearity or other numerical problems.\n"
     ]
    }
   ],
   "source": [
    "from statsmodels.formula.api import ols\n",
    "\n",
    "def implement_linear_OLS(ols_formula_r_syntax, df):\n",
    "    return ols(ols_formula_r_syntax, data=df).fit()\n",
    "\n",
    "ols_formula_for_d_w  = 'price ~ bedrooms + bathrooms + sqft'\n",
    "\n",
    "ols_model =ols(ols_formula_for_d_w,data=df).fit()\n",
    "\n",
    "# sanity check\n",
    "print(ols_model.summary())\n",
    "\n"
   ]
  },
  {
   "cell_type": "markdown",
   "metadata": {},
   "source": [
    "## Next, let's implement a Durbin-Watson test\n",
    "\n",
    "### NB: The decision rule for a Durbin-Watson test is as follows: the null hypothesis states there is no autocorrelation, while the alternative hypothesis asserts there is autocorrelation.\n",
    "\n",
    "###  Reject the null hypothesis of no autocorrelation if the test statistic significantly deviates from a value of 2, especially if it's close to 0 (positive autocorrelation) or 4 (negative autocorrelation), otherwise fail to reject the null hypothesis of no autocorrelation.  \n",
    "\n",
    "### *In more concise terms*, a test statistic of 2 (or even approximately ranging from 1.5 to 2.5) will indicate no autocorrelation.  "
   ]
  },
  {
   "cell_type": "code",
   "execution_count": 25,
   "metadata": {},
   "outputs": [
    {
     "name": "stdout",
     "output_type": "stream",
     "text": [
      "1.8680264577621617\n"
     ]
    }
   ],
   "source": [
    "### Durbin-Watson test:\n",
    "\n",
    "from statsmodels.stats.stattools import durbin_watson\n",
    "# statsmodels.durbin_watson() method\n",
    "\n",
    "def durbin_watson_test(ols_fitted):\n",
    "    return durbin_watson(ols_fitted.resid_pearson)  # use residuals (ie, .res) of a fitted OLS regression\n",
    "\n",
    "\n",
    "dw_price = durbin_watson_test(ols_model)\n",
    "print(dw_price)\n"
   ]
  },
  {
   "cell_type": "markdown",
   "metadata": {},
   "source": [
    "## Results of Durbin-Watson test\n",
    "\n",
    "### The D-W test statistic is 1.87, indicating that there likely is no significant level of autocorrelation. As a result, we need not make any autoregressive or other autocorrelation adjustments when running the complete OLS, panel, or other regression models below. \n",
    "\n",
    "### For additional documentation re: the specifics of a D-W test, see the following statsmodels doc article: <https://www.statsmodels.org/dev/generated/statsmodels.stats.stattools.durbin_watson.html>. "
   ]
  },
  {
   "cell_type": "code",
   "execution_count": null,
   "metadata": {},
   "outputs": [],
   "source": []
  },
  {
   "cell_type": "markdown",
   "metadata": {},
   "source": [
    "## Let's also examine whether median rental prices have fluctuated signficantly over time, and see whether this has also happened across specific (or all) subregions over time:\n",
    "\n",
    "### Lineplot of raw rental prices (ie, using overall dataset): "
   ]
  },
  {
   "cell_type": "code",
   "execution_count": 26,
   "metadata": {},
   "outputs": [
    {
     "data": {
      "text/plain": [
       "<AxesSubplot:xlabel='date_posted', ylabel='price'>"
      ]
     },
     "execution_count": 26,
     "metadata": {},
     "output_type": "execute_result"
    },
    {
     "data": {
      "image/png": "[encoded data removed]",
      "text/plain": [
       "<Figure size 936x504 with 1 Axes>"
      ]
     },
     "metadata": {},
     "output_type": "display_data"
    }
   ],
   "source": [
    "## Rental prices by subregion over time\n",
    "\n",
    "\n",
    "# Lineplot of prices over time (ie, using overall dataset) \n",
    "plt.figure(figsize=(13, 7))\n",
    "\n",
    "sns.lineplot(x='date_posted', y='price', data=df)"
   ]
  },
  {
   "cell_type": "markdown",
   "metadata": {},
   "source": [
    "## There are clear fluctuations in rental prices, but we should examine if there are seasonality patterns that show distinct differences in rental prices by weekday, and also examine if 7-day rolling avgs show more of a clear pattern than the noise very comonn in raw time series:\n",
    "\n",
    "## Calculate median prices, bedrooms, & sqft by weekday name:"
   ]
  },
  {
   "cell_type": "code",
   "execution_count": 54,
   "metadata": {},
   "outputs": [
    {
     "name": "stderr",
     "output_type": "stream",
     "text": [
      "d:\\Coding and Code projects\\Python\\craigslist_data_proj\\CraigslistWebScraper\\craigslist_venv\\lib\\site-packages\\ipykernel_launcher.py:2: FutureWarning: Indexing with multiple keys (implicitly converted to a tuple of keys) will be deprecated, use a list instead.\n",
      "  \n"
     ]
    },
    {
     "data": {
      "text/html": [
       "<div>\n",
       "<style scoped>\n",
       "    .dataframe tbody tr th:only-of-type {\n",
       "        vertical-align: middle;\n",
       "    }\n",
       "\n",
       "    .dataframe tbody tr th {\n",
       "        vertical-align: top;\n",
       "    }\n",
       "\n",
       "    .dataframe thead th {\n",
       "        text-align: right;\n",
       "    }\n",
       "</style>\n",
       "<table border=\"1\" class=\"dataframe\">\n",
       "  <thead>\n",
       "    <tr style=\"text-align: right;\">\n",
       "      <th></th>\n",
       "      <th></th>\n",
       "      <th>price</th>\n",
       "      <th>bedrooms</th>\n",
       "      <th>sqft</th>\n",
       "    </tr>\n",
       "    <tr>\n",
       "      <th>date_posted</th>\n",
       "      <th>sub_region</th>\n",
       "      <th></th>\n",
       "      <th></th>\n",
       "      <th></th>\n",
       "    </tr>\n",
       "  </thead>\n",
       "  <tbody>\n",
       "    <tr>\n",
       "      <th rowspan=\"6\" valign=\"top\">Friday</th>\n",
       "      <th>eby</th>\n",
       "      <td>2500.0</td>\n",
       "      <td>2.0</td>\n",
       "      <td>7500.0</td>\n",
       "    </tr>\n",
       "    <tr>\n",
       "      <th>nby</th>\n",
       "      <td>2575.0</td>\n",
       "      <td>2.0</td>\n",
       "      <td>8500.0</td>\n",
       "    </tr>\n",
       "    <tr>\n",
       "      <th>pen</th>\n",
       "      <td>3000.0</td>\n",
       "      <td>2.0</td>\n",
       "      <td>8760.0</td>\n",
       "    </tr>\n",
       "    <tr>\n",
       "      <th>sby</th>\n",
       "      <td>2650.0</td>\n",
       "      <td>2.0</td>\n",
       "      <td>8500.0</td>\n",
       "    </tr>\n",
       "    <tr>\n",
       "      <th>scz</th>\n",
       "      <td>2695.0</td>\n",
       "      <td>1.0</td>\n",
       "      <td>7200.0</td>\n",
       "    </tr>\n",
       "    <tr>\n",
       "      <th>sfc</th>\n",
       "      <td>2775.0</td>\n",
       "      <td>1.0</td>\n",
       "      <td>5090.0</td>\n",
       "    </tr>\n",
       "    <tr>\n",
       "      <th rowspan=\"6\" valign=\"top\">Monday</th>\n",
       "      <th>eby</th>\n",
       "      <td>2425.0</td>\n",
       "      <td>2.0</td>\n",
       "      <td>6590.0</td>\n",
       "    </tr>\n",
       "    <tr>\n",
       "      <th>nby</th>\n",
       "      <td>2387.0</td>\n",
       "      <td>2.0</td>\n",
       "      <td>8000.0</td>\n",
       "    </tr>\n",
       "    <tr>\n",
       "      <th>pen</th>\n",
       "      <td>3299.0</td>\n",
       "      <td>2.0</td>\n",
       "      <td>9000.0</td>\n",
       "    </tr>\n",
       "    <tr>\n",
       "      <th>sby</th>\n",
       "      <td>2665.0</td>\n",
       "      <td>1.0</td>\n",
       "      <td>8180.0</td>\n",
       "    </tr>\n",
       "    <tr>\n",
       "      <th>scz</th>\n",
       "      <td>2150.0</td>\n",
       "      <td>1.0</td>\n",
       "      <td>7500.0</td>\n",
       "    </tr>\n",
       "    <tr>\n",
       "      <th>sfc</th>\n",
       "      <td>2977.0</td>\n",
       "      <td>1.0</td>\n",
       "      <td>1420.0</td>\n",
       "    </tr>\n",
       "    <tr>\n",
       "      <th rowspan=\"6\" valign=\"top\">Saturday</th>\n",
       "      <th>eby</th>\n",
       "      <td>2400.0</td>\n",
       "      <td>2.0</td>\n",
       "      <td>7000.0</td>\n",
       "    </tr>\n",
       "    <tr>\n",
       "      <th>nby</th>\n",
       "      <td>2182.0</td>\n",
       "      <td>1.0</td>\n",
       "      <td>6880.0</td>\n",
       "    </tr>\n",
       "    <tr>\n",
       "      <th>pen</th>\n",
       "      <td>3160.0</td>\n",
       "      <td>2.0</td>\n",
       "      <td>9150.0</td>\n",
       "    </tr>\n",
       "    <tr>\n",
       "      <th>sby</th>\n",
       "      <td>2796.0</td>\n",
       "      <td>2.0</td>\n",
       "      <td>9215.0</td>\n",
       "    </tr>\n",
       "    <tr>\n",
       "      <th>scz</th>\n",
       "      <td>2550.0</td>\n",
       "      <td>1.0</td>\n",
       "      <td>7790.0</td>\n",
       "    </tr>\n",
       "    <tr>\n",
       "      <th>sfc</th>\n",
       "      <td>2961.5</td>\n",
       "      <td>1.0</td>\n",
       "      <td>2085.0</td>\n",
       "    </tr>\n",
       "    <tr>\n",
       "      <th rowspan=\"6\" valign=\"top\">Sunday</th>\n",
       "      <th>eby</th>\n",
       "      <td>2515.0</td>\n",
       "      <td>2.0</td>\n",
       "      <td>7500.0</td>\n",
       "    </tr>\n",
       "    <tr>\n",
       "      <th>nby</th>\n",
       "      <td>2595.5</td>\n",
       "      <td>2.0</td>\n",
       "      <td>8500.0</td>\n",
       "    </tr>\n",
       "    <tr>\n",
       "      <th>pen</th>\n",
       "      <td>3293.5</td>\n",
       "      <td>2.0</td>\n",
       "      <td>9150.0</td>\n",
       "    </tr>\n",
       "    <tr>\n",
       "      <th>sby</th>\n",
       "      <td>2947.0</td>\n",
       "      <td>2.0</td>\n",
       "      <td>8820.0</td>\n",
       "    </tr>\n",
       "    <tr>\n",
       "      <th>scz</th>\n",
       "      <td>2350.0</td>\n",
       "      <td>2.0</td>\n",
       "      <td>9500.0</td>\n",
       "    </tr>\n",
       "    <tr>\n",
       "      <th>sfc</th>\n",
       "      <td>3200.0</td>\n",
       "      <td>1.0</td>\n",
       "      <td>4160.0</td>\n",
       "    </tr>\n",
       "    <tr>\n",
       "      <th rowspan=\"6\" valign=\"top\">Thursday</th>\n",
       "      <th>eby</th>\n",
       "      <td>2484.0</td>\n",
       "      <td>2.0</td>\n",
       "      <td>7040.0</td>\n",
       "    </tr>\n",
       "    <tr>\n",
       "      <th>nby</th>\n",
       "      <td>2441.0</td>\n",
       "      <td>2.0</td>\n",
       "      <td>8100.0</td>\n",
       "    </tr>\n",
       "    <tr>\n",
       "      <th>pen</th>\n",
       "      <td>3125.0</td>\n",
       "      <td>2.0</td>\n",
       "      <td>8500.0</td>\n",
       "    </tr>\n",
       "    <tr>\n",
       "      <th>sby</th>\n",
       "      <td>2764.0</td>\n",
       "      <td>2.0</td>\n",
       "      <td>8630.0</td>\n",
       "    </tr>\n",
       "    <tr>\n",
       "      <th>scz</th>\n",
       "      <td>1995.0</td>\n",
       "      <td>1.0</td>\n",
       "      <td>4375.0</td>\n",
       "    </tr>\n",
       "    <tr>\n",
       "      <th>sfc</th>\n",
       "      <td>2800.0</td>\n",
       "      <td>1.0</td>\n",
       "      <td>5260.0</td>\n",
       "    </tr>\n",
       "    <tr>\n",
       "      <th rowspan=\"6\" valign=\"top\">Tuesday</th>\n",
       "      <th>eby</th>\n",
       "      <td>2474.5</td>\n",
       "      <td>2.0</td>\n",
       "      <td>6315.0</td>\n",
       "    </tr>\n",
       "    <tr>\n",
       "      <th>nby</th>\n",
       "      <td>2500.0</td>\n",
       "      <td>2.0</td>\n",
       "      <td>8500.0</td>\n",
       "    </tr>\n",
       "    <tr>\n",
       "      <th>pen</th>\n",
       "      <td>2975.0</td>\n",
       "      <td>2.0</td>\n",
       "      <td>8500.0</td>\n",
       "    </tr>\n",
       "    <tr>\n",
       "      <th>sby</th>\n",
       "      <td>2754.5</td>\n",
       "      <td>1.0</td>\n",
       "      <td>8160.0</td>\n",
       "    </tr>\n",
       "    <tr>\n",
       "      <th>scz</th>\n",
       "      <td>2200.0</td>\n",
       "      <td>2.0</td>\n",
       "      <td>8560.0</td>\n",
       "    </tr>\n",
       "    <tr>\n",
       "      <th>sfc</th>\n",
       "      <td>2800.0</td>\n",
       "      <td>1.0</td>\n",
       "      <td>3770.0</td>\n",
       "    </tr>\n",
       "    <tr>\n",
       "      <th rowspan=\"6\" valign=\"top\">Wednesday</th>\n",
       "      <th>eby</th>\n",
       "      <td>2445.0</td>\n",
       "      <td>2.0</td>\n",
       "      <td>7720.0</td>\n",
       "    </tr>\n",
       "    <tr>\n",
       "      <th>nby</th>\n",
       "      <td>2473.0</td>\n",
       "      <td>2.0</td>\n",
       "      <td>7260.0</td>\n",
       "    </tr>\n",
       "    <tr>\n",
       "      <th>pen</th>\n",
       "      <td>3140.0</td>\n",
       "      <td>2.0</td>\n",
       "      <td>9000.0</td>\n",
       "    </tr>\n",
       "    <tr>\n",
       "      <th>sby</th>\n",
       "      <td>2706.0</td>\n",
       "      <td>1.0</td>\n",
       "      <td>8190.0</td>\n",
       "    </tr>\n",
       "    <tr>\n",
       "      <th>scz</th>\n",
       "      <td>2550.0</td>\n",
       "      <td>2.0</td>\n",
       "      <td>10500.0</td>\n",
       "    </tr>\n",
       "    <tr>\n",
       "      <th>sfc</th>\n",
       "      <td>2700.0</td>\n",
       "      <td>1.0</td>\n",
       "      <td>4450.0</td>\n",
       "    </tr>\n",
       "  </tbody>\n",
       "</table>\n",
       "</div>"
      ],
      "text/plain": [
       "                         price  bedrooms     sqft\n",
       "date_posted sub_region                           \n",
       "Friday      eby         2500.0       2.0   7500.0\n",
       "            nby         2575.0       2.0   8500.0\n",
       "            pen         3000.0       2.0   8760.0\n",
       "            sby         2650.0       2.0   8500.0\n",
       "            scz         2695.0       1.0   7200.0\n",
       "            sfc         2775.0       1.0   5090.0\n",
       "Monday      eby         2425.0       2.0   6590.0\n",
       "            nby         2387.0       2.0   8000.0\n",
       "            pen         3299.0       2.0   9000.0\n",
       "            sby         2665.0       1.0   8180.0\n",
       "            scz         2150.0       1.0   7500.0\n",
       "            sfc         2977.0       1.0   1420.0\n",
       "Saturday    eby         2400.0       2.0   7000.0\n",
       "            nby         2182.0       1.0   6880.0\n",
       "            pen         3160.0       2.0   9150.0\n",
       "            sby         2796.0       2.0   9215.0\n",
       "            scz         2550.0       1.0   7790.0\n",
       "            sfc         2961.5       1.0   2085.0\n",
       "Sunday      eby         2515.0       2.0   7500.0\n",
       "            nby         2595.5       2.0   8500.0\n",
       "            pen         3293.5       2.0   9150.0\n",
       "            sby         2947.0       2.0   8820.0\n",
       "            scz         2350.0       2.0   9500.0\n",
       "            sfc         3200.0       1.0   4160.0\n",
       "Thursday    eby         2484.0       2.0   7040.0\n",
       "            nby         2441.0       2.0   8100.0\n",
       "            pen         3125.0       2.0   8500.0\n",
       "            sby         2764.0       2.0   8630.0\n",
       "            scz         1995.0       1.0   4375.0\n",
       "            sfc         2800.0       1.0   5260.0\n",
       "Tuesday     eby         2474.5       2.0   6315.0\n",
       "            nby         2500.0       2.0   8500.0\n",
       "            pen         2975.0       2.0   8500.0\n",
       "            sby         2754.5       1.0   8160.0\n",
       "            scz         2200.0       2.0   8560.0\n",
       "            sfc         2800.0       1.0   3770.0\n",
       "Wednesday   eby         2445.0       2.0   7720.0\n",
       "            nby         2473.0       2.0   7260.0\n",
       "            pen         3140.0       2.0   9000.0\n",
       "            sby         2706.0       1.0   8190.0\n",
       "            scz         2550.0       2.0  10500.0\n",
       "            sfc         2700.0       1.0   4450.0"
      ]
     },
     "execution_count": 54,
     "metadata": {},
     "output_type": "execute_result"
    }
   ],
   "source": [
    "df_subreg_prices_weekday = df.groupby(\n",
    "    [df['date_posted'].dt.day_name(), \"sub_region\"])[\"price\", \"bedrooms\", \"sqft\"].median()\n",
    "\n",
    "df_subreg_prices_weekday\n"
   ]
  },
  {
   "cell_type": "markdown",
   "metadata": {},
   "source": [
    "## Notice we need to re-sort the index so the df_subreg_prices_weekday dataframe is sorted by weekday in terms of Monday, Tuesday, etc., instead of the automatic alpha ordering!!\n",
    "\n",
    "### Sort the data by weekday in the *normal* Monday, Tuesday,..., Sunday order:\n",
    "\n",
    "### NB: We can do this by:\n",
    "\n",
    "### a) Specifying a list defining the *correct* order of weekday names\n",
    "\n",
    "### b.) Using pd.Categorical() to convert the weekday names to categorical,\n",
    "& \n",
    "### c) Use .sort_values() to sort the values of the DataFrame\n",
    "\n",
    "\n",
    "## NB: For reference, see following: <https://stackoverflow.com/questions/53575689/pandas-groupby-how-to-sort-weekdays-in-the-correct-order-when-creating-groupby>"
   ]
  },
  {
   "cell_type": "code",
   "execution_count": 60,
   "metadata": {},
   "outputs": [
    {
     "ename": "AttributeError",
     "evalue": "'DataFrame' object has no attribute 'date_posted'",
     "output_type": "error",
     "traceback": [
      "\u001b[1;31m---------------------------------------------------------------------------\u001b[0m",
      "\u001b[1;31mAttributeError\u001b[0m                            Traceback (most recent call last)",
      "\u001b[1;32mC:\\Users\\KEVINA~1\\AppData\\Local\\Temp/ipykernel_29688/84577490.py\u001b[0m in \u001b[0;36m<module>\u001b[1;34m\u001b[0m\n\u001b[0;32m      3\u001b[0m \u001b[1;33m\u001b[0m\u001b[0m\n\u001b[0;32m      4\u001b[0m \u001b[1;31m# convert weekday names to categorical, using the list values as the categories arg\u001b[0m\u001b[1;33m\u001b[0m\u001b[1;33m\u001b[0m\u001b[1;33m\u001b[0m\u001b[0m\n\u001b[1;32m----> 5\u001b[1;33m \u001b[0mdf_subreg_prices_weekday\u001b[0m\u001b[1;33m.\u001b[0m\u001b[0mdate_posted\u001b[0m \u001b[1;33m=\u001b[0m \u001b[0mpd\u001b[0m\u001b[1;33m.\u001b[0m\u001b[0mCategorical\u001b[0m\u001b[1;33m(\u001b[0m\u001b[0mdf_subreg_prices_weekday\u001b[0m\u001b[1;33m.\u001b[0m\u001b[0mdate_posted\u001b[0m \u001b[1;33m,\u001b[0m\u001b[0mcategories\u001b[0m\u001b[1;33m=\u001b[0m\u001b[0mweekdays\u001b[0m\u001b[1;33m)\u001b[0m\u001b[1;33m\u001b[0m\u001b[1;33m\u001b[0m\u001b[0m\n\u001b[0m\u001b[0;32m      6\u001b[0m \u001b[1;33m\u001b[0m\u001b[0m\n\u001b[0;32m      7\u001b[0m \u001b[1;31m# sort the weekday data by *correct* weekday order\u001b[0m\u001b[1;33m\u001b[0m\u001b[1;33m\u001b[0m\u001b[1;33m\u001b[0m\u001b[0m\n",
      "\u001b[1;32md:\\Coding and Code projects\\Python\\craigslist_data_proj\\CraigslistWebScraper\\craigslist_venv\\lib\\site-packages\\pandas\\core\\generic.py\u001b[0m in \u001b[0;36m__getattr__\u001b[1;34m(self, name)\u001b[0m\n\u001b[0;32m   5485\u001b[0m         ):\n\u001b[0;32m   5486\u001b[0m             \u001b[1;32mreturn\u001b[0m \u001b[0mself\u001b[0m\u001b[1;33m[\u001b[0m\u001b[0mname\u001b[0m\u001b[1;33m]\u001b[0m\u001b[1;33m\u001b[0m\u001b[1;33m\u001b[0m\u001b[0m\n\u001b[1;32m-> 5487\u001b[1;33m         \u001b[1;32mreturn\u001b[0m \u001b[0mobject\u001b[0m\u001b[1;33m.\u001b[0m\u001b[0m__getattribute__\u001b[0m\u001b[1;33m(\u001b[0m\u001b[0mself\u001b[0m\u001b[1;33m,\u001b[0m \u001b[0mname\u001b[0m\u001b[1;33m)\u001b[0m\u001b[1;33m\u001b[0m\u001b[1;33m\u001b[0m\u001b[0m\n\u001b[0m\u001b[0;32m   5488\u001b[0m \u001b[1;33m\u001b[0m\u001b[0m\n\u001b[0;32m   5489\u001b[0m     \u001b[1;32mdef\u001b[0m \u001b[0m__setattr__\u001b[0m\u001b[1;33m(\u001b[0m\u001b[0mself\u001b[0m\u001b[1;33m,\u001b[0m \u001b[0mname\u001b[0m\u001b[1;33m:\u001b[0m \u001b[0mstr\u001b[0m\u001b[1;33m,\u001b[0m \u001b[0mvalue\u001b[0m\u001b[1;33m)\u001b[0m \u001b[1;33m->\u001b[0m \u001b[1;32mNone\u001b[0m\u001b[1;33m:\u001b[0m\u001b[1;33m\u001b[0m\u001b[1;33m\u001b[0m\u001b[0m\n",
      "\u001b[1;31mAttributeError\u001b[0m: 'DataFrame' object has no attribute 'date_posted'"
     ]
    }
   ],
   "source": [
    "# specify a list to define the *correct* order of the weekday names\n",
    "weekdays =  [\"Monday\", \"Tuesday\", \"Wednesday\", \"Thursday\", \"Friday\", \"Saturday\", \"Sunday\"]\n",
    "\n",
    "# convert weekday names to categorical, using the list values as the categories arg\n",
    "df_subreg_prices_weekday.date_posted = pd.Categorical(df_subreg_prices_weekday.date_posted ,categories=weekdays)\n",
    "\n",
    "# sort the weekday data by *correct* weekday order\n",
    "df_subreg_prices_weekday = df_subreg_prices_weekday.sort_values('date_posted')\n"
   ]
  },
  {
   "cell_type": "code",
   "execution_count": 58,
   "metadata": {},
   "outputs": [
    {
     "data": {
      "text/html": [
       "<div>\n",
       "<style scoped>\n",
       "    .dataframe tbody tr th:only-of-type {\n",
       "        vertical-align: middle;\n",
       "    }\n",
       "\n",
       "    .dataframe tbody tr th {\n",
       "        vertical-align: top;\n",
       "    }\n",
       "\n",
       "    .dataframe thead th {\n",
       "        text-align: right;\n",
       "    }\n",
       "</style>\n",
       "<table border=\"1\" class=\"dataframe\">\n",
       "  <thead>\n",
       "    <tr style=\"text-align: right;\">\n",
       "      <th></th>\n",
       "      <th></th>\n",
       "      <th>price</th>\n",
       "      <th>bedrooms</th>\n",
       "      <th>sqft</th>\n",
       "    </tr>\n",
       "    <tr>\n",
       "      <th>date_posted</th>\n",
       "      <th>sub_region</th>\n",
       "      <th></th>\n",
       "      <th></th>\n",
       "      <th></th>\n",
       "    </tr>\n",
       "  </thead>\n",
       "  <tbody>\n",
       "    <tr>\n",
       "      <th rowspan=\"6\" valign=\"top\">Friday</th>\n",
       "      <th>eby</th>\n",
       "      <td>2500.0</td>\n",
       "      <td>2.0</td>\n",
       "      <td>7500.0</td>\n",
       "    </tr>\n",
       "    <tr>\n",
       "      <th>nby</th>\n",
       "      <td>2575.0</td>\n",
       "      <td>2.0</td>\n",
       "      <td>8500.0</td>\n",
       "    </tr>\n",
       "    <tr>\n",
       "      <th>pen</th>\n",
       "      <td>3000.0</td>\n",
       "      <td>2.0</td>\n",
       "      <td>8760.0</td>\n",
       "    </tr>\n",
       "    <tr>\n",
       "      <th>sby</th>\n",
       "      <td>2650.0</td>\n",
       "      <td>2.0</td>\n",
       "      <td>8500.0</td>\n",
       "    </tr>\n",
       "    <tr>\n",
       "      <th>scz</th>\n",
       "      <td>2695.0</td>\n",
       "      <td>1.0</td>\n",
       "      <td>7200.0</td>\n",
       "    </tr>\n",
       "    <tr>\n",
       "      <th>sfc</th>\n",
       "      <td>2775.0</td>\n",
       "      <td>1.0</td>\n",
       "      <td>5090.0</td>\n",
       "    </tr>\n",
       "    <tr>\n",
       "      <th rowspan=\"6\" valign=\"top\">Monday</th>\n",
       "      <th>eby</th>\n",
       "      <td>2425.0</td>\n",
       "      <td>2.0</td>\n",
       "      <td>6590.0</td>\n",
       "    </tr>\n",
       "    <tr>\n",
       "      <th>nby</th>\n",
       "      <td>2387.0</td>\n",
       "      <td>2.0</td>\n",
       "      <td>8000.0</td>\n",
       "    </tr>\n",
       "    <tr>\n",
       "      <th>pen</th>\n",
       "      <td>3299.0</td>\n",
       "      <td>2.0</td>\n",
       "      <td>9000.0</td>\n",
       "    </tr>\n",
       "    <tr>\n",
       "      <th>sby</th>\n",
       "      <td>2665.0</td>\n",
       "      <td>1.0</td>\n",
       "      <td>8180.0</td>\n",
       "    </tr>\n",
       "    <tr>\n",
       "      <th>scz</th>\n",
       "      <td>2150.0</td>\n",
       "      <td>1.0</td>\n",
       "      <td>7500.0</td>\n",
       "    </tr>\n",
       "    <tr>\n",
       "      <th>sfc</th>\n",
       "      <td>2977.0</td>\n",
       "      <td>1.0</td>\n",
       "      <td>1420.0</td>\n",
       "    </tr>\n",
       "    <tr>\n",
       "      <th rowspan=\"6\" valign=\"top\">Saturday</th>\n",
       "      <th>eby</th>\n",
       "      <td>2400.0</td>\n",
       "      <td>2.0</td>\n",
       "      <td>7000.0</td>\n",
       "    </tr>\n",
       "    <tr>\n",
       "      <th>nby</th>\n",
       "      <td>2182.0</td>\n",
       "      <td>1.0</td>\n",
       "      <td>6880.0</td>\n",
       "    </tr>\n",
       "    <tr>\n",
       "      <th>pen</th>\n",
       "      <td>3160.0</td>\n",
       "      <td>2.0</td>\n",
       "      <td>9150.0</td>\n",
       "    </tr>\n",
       "    <tr>\n",
       "      <th>sby</th>\n",
       "      <td>2796.0</td>\n",
       "      <td>2.0</td>\n",
       "      <td>9215.0</td>\n",
       "    </tr>\n",
       "    <tr>\n",
       "      <th>scz</th>\n",
       "      <td>2550.0</td>\n",
       "      <td>1.0</td>\n",
       "      <td>7790.0</td>\n",
       "    </tr>\n",
       "    <tr>\n",
       "      <th>sfc</th>\n",
       "      <td>2961.5</td>\n",
       "      <td>1.0</td>\n",
       "      <td>2085.0</td>\n",
       "    </tr>\n",
       "    <tr>\n",
       "      <th rowspan=\"6\" valign=\"top\">Sunday</th>\n",
       "      <th>eby</th>\n",
       "      <td>2515.0</td>\n",
       "      <td>2.0</td>\n",
       "      <td>7500.0</td>\n",
       "    </tr>\n",
       "    <tr>\n",
       "      <th>nby</th>\n",
       "      <td>2595.5</td>\n",
       "      <td>2.0</td>\n",
       "      <td>8500.0</td>\n",
       "    </tr>\n",
       "    <tr>\n",
       "      <th>pen</th>\n",
       "      <td>3293.5</td>\n",
       "      <td>2.0</td>\n",
       "      <td>9150.0</td>\n",
       "    </tr>\n",
       "    <tr>\n",
       "      <th>sby</th>\n",
       "      <td>2947.0</td>\n",
       "      <td>2.0</td>\n",
       "      <td>8820.0</td>\n",
       "    </tr>\n",
       "    <tr>\n",
       "      <th>scz</th>\n",
       "      <td>2350.0</td>\n",
       "      <td>2.0</td>\n",
       "      <td>9500.0</td>\n",
       "    </tr>\n",
       "    <tr>\n",
       "      <th>sfc</th>\n",
       "      <td>3200.0</td>\n",
       "      <td>1.0</td>\n",
       "      <td>4160.0</td>\n",
       "    </tr>\n",
       "    <tr>\n",
       "      <th rowspan=\"6\" valign=\"top\">Thursday</th>\n",
       "      <th>eby</th>\n",
       "      <td>2484.0</td>\n",
       "      <td>2.0</td>\n",
       "      <td>7040.0</td>\n",
       "    </tr>\n",
       "    <tr>\n",
       "      <th>nby</th>\n",
       "      <td>2441.0</td>\n",
       "      <td>2.0</td>\n",
       "      <td>8100.0</td>\n",
       "    </tr>\n",
       "    <tr>\n",
       "      <th>pen</th>\n",
       "      <td>3125.0</td>\n",
       "      <td>2.0</td>\n",
       "      <td>8500.0</td>\n",
       "    </tr>\n",
       "    <tr>\n",
       "      <th>sby</th>\n",
       "      <td>2764.0</td>\n",
       "      <td>2.0</td>\n",
       "      <td>8630.0</td>\n",
       "    </tr>\n",
       "    <tr>\n",
       "      <th>scz</th>\n",
       "      <td>1995.0</td>\n",
       "      <td>1.0</td>\n",
       "      <td>4375.0</td>\n",
       "    </tr>\n",
       "    <tr>\n",
       "      <th>sfc</th>\n",
       "      <td>2800.0</td>\n",
       "      <td>1.0</td>\n",
       "      <td>5260.0</td>\n",
       "    </tr>\n",
       "    <tr>\n",
       "      <th rowspan=\"6\" valign=\"top\">Tuesday</th>\n",
       "      <th>eby</th>\n",
       "      <td>2474.5</td>\n",
       "      <td>2.0</td>\n",
       "      <td>6315.0</td>\n",
       "    </tr>\n",
       "    <tr>\n",
       "      <th>nby</th>\n",
       "      <td>2500.0</td>\n",
       "      <td>2.0</td>\n",
       "      <td>8500.0</td>\n",
       "    </tr>\n",
       "    <tr>\n",
       "      <th>pen</th>\n",
       "      <td>2975.0</td>\n",
       "      <td>2.0</td>\n",
       "      <td>8500.0</td>\n",
       "    </tr>\n",
       "    <tr>\n",
       "      <th>sby</th>\n",
       "      <td>2754.5</td>\n",
       "      <td>1.0</td>\n",
       "      <td>8160.0</td>\n",
       "    </tr>\n",
       "    <tr>\n",
       "      <th>scz</th>\n",
       "      <td>2200.0</td>\n",
       "      <td>2.0</td>\n",
       "      <td>8560.0</td>\n",
       "    </tr>\n",
       "    <tr>\n",
       "      <th>sfc</th>\n",
       "      <td>2800.0</td>\n",
       "      <td>1.0</td>\n",
       "      <td>3770.0</td>\n",
       "    </tr>\n",
       "    <tr>\n",
       "      <th rowspan=\"6\" valign=\"top\">Wednesday</th>\n",
       "      <th>eby</th>\n",
       "      <td>2445.0</td>\n",
       "      <td>2.0</td>\n",
       "      <td>7720.0</td>\n",
       "    </tr>\n",
       "    <tr>\n",
       "      <th>nby</th>\n",
       "      <td>2473.0</td>\n",
       "      <td>2.0</td>\n",
       "      <td>7260.0</td>\n",
       "    </tr>\n",
       "    <tr>\n",
       "      <th>pen</th>\n",
       "      <td>3140.0</td>\n",
       "      <td>2.0</td>\n",
       "      <td>9000.0</td>\n",
       "    </tr>\n",
       "    <tr>\n",
       "      <th>sby</th>\n",
       "      <td>2706.0</td>\n",
       "      <td>1.0</td>\n",
       "      <td>8190.0</td>\n",
       "    </tr>\n",
       "    <tr>\n",
       "      <th>scz</th>\n",
       "      <td>2550.0</td>\n",
       "      <td>2.0</td>\n",
       "      <td>10500.0</td>\n",
       "    </tr>\n",
       "    <tr>\n",
       "      <th>sfc</th>\n",
       "      <td>2700.0</td>\n",
       "      <td>1.0</td>\n",
       "      <td>4450.0</td>\n",
       "    </tr>\n",
       "  </tbody>\n",
       "</table>\n",
       "</div>"
      ],
      "text/plain": [
       "                         price  bedrooms     sqft\n",
       "date_posted sub_region                           \n",
       "Friday      eby         2500.0       2.0   7500.0\n",
       "            nby         2575.0       2.0   8500.0\n",
       "            pen         3000.0       2.0   8760.0\n",
       "            sby         2650.0       2.0   8500.0\n",
       "            scz         2695.0       1.0   7200.0\n",
       "            sfc         2775.0       1.0   5090.0\n",
       "Monday      eby         2425.0       2.0   6590.0\n",
       "            nby         2387.0       2.0   8000.0\n",
       "            pen         3299.0       2.0   9000.0\n",
       "            sby         2665.0       1.0   8180.0\n",
       "            scz         2150.0       1.0   7500.0\n",
       "            sfc         2977.0       1.0   1420.0\n",
       "Saturday    eby         2400.0       2.0   7000.0\n",
       "            nby         2182.0       1.0   6880.0\n",
       "            pen         3160.0       2.0   9150.0\n",
       "            sby         2796.0       2.0   9215.0\n",
       "            scz         2550.0       1.0   7790.0\n",
       "            sfc         2961.5       1.0   2085.0\n",
       "Sunday      eby         2515.0       2.0   7500.0\n",
       "            nby         2595.5       2.0   8500.0\n",
       "            pen         3293.5       2.0   9150.0\n",
       "            sby         2947.0       2.0   8820.0\n",
       "            scz         2350.0       2.0   9500.0\n",
       "            sfc         3200.0       1.0   4160.0\n",
       "Thursday    eby         2484.0       2.0   7040.0\n",
       "            nby         2441.0       2.0   8100.0\n",
       "            pen         3125.0       2.0   8500.0\n",
       "            sby         2764.0       2.0   8630.0\n",
       "            scz         1995.0       1.0   4375.0\n",
       "            sfc         2800.0       1.0   5260.0\n",
       "Tuesday     eby         2474.5       2.0   6315.0\n",
       "            nby         2500.0       2.0   8500.0\n",
       "            pen         2975.0       2.0   8500.0\n",
       "            sby         2754.5       1.0   8160.0\n",
       "            scz         2200.0       2.0   8560.0\n",
       "            sfc         2800.0       1.0   3770.0\n",
       "Wednesday   eby         2445.0       2.0   7720.0\n",
       "            nby         2473.0       2.0   7260.0\n",
       "            pen         3140.0       2.0   9000.0\n",
       "            sby         2706.0       1.0   8190.0\n",
       "            scz         2550.0       2.0  10500.0\n",
       "            sfc         2700.0       1.0   4450.0"
      ]
     },
     "execution_count": 58,
     "metadata": {},
     "output_type": "execute_result"
    }
   ],
   "source": [
    "df_subreg_prices_weekday.sort_index(axis=0)\n"
   ]
  },
  {
   "cell_type": "markdown",
   "metadata": {},
   "source": [
    "## Lineplot of rental prices by weekday:\n",
    "\n",
    "\n",
    "# NB!: I need to *sort* the df_subreg_prices_weekday dataframe by weekday in terms of Monday, Tuesday, etc., instead of the automatic alpha ordering!!\n",
    "\n",
    "## Here's a possible solution: <https://stackoverflow.com/questions/35193808/re-order-pandas-series-on-weekday>\n",
    "\n",
    "## Also see \n",
    "\n"
   ]
  },
  {
   "cell_type": "code",
   "execution_count": null,
   "metadata": {},
   "outputs": [],
   "source": []
  },
  {
   "cell_type": "code",
   "execution_count": 59,
   "metadata": {},
   "outputs": [
    {
     "data": {
      "text/plain": [
       "<AxesSubplot:title={'center':'Median Rental Prices By Weekday & Subregion'}, xlabel='date_posted', ylabel='price'>"
      ]
     },
     "execution_count": 59,
     "metadata": {},
     "output_type": "execute_result"
    },
    {
     "data": {
      "image/png": "[encoded data removed]",
      "text/plain": [
       "<Figure size 936x504 with 1 Axes>"
      ]
     },
     "metadata": {},
     "output_type": "display_data"
    }
   ],
   "source": [
    "def lineplot_seaborn(figsize_tuple, df, datetime_col, col_y_axis, hue_col_option, plot_title):\n",
    "    plt.figure(figsize=figsize_tuple)  # specify plot's figure size\n",
    "    pl = sns.lineplot(x=datetime_col, y= col_y_axis, data=df, hue=hue_col_option)  \n",
    "    pl.set(title= plot_title) # specify title\n",
    "    return pl\n",
    "\n",
    "lp_title_weekday_median_subreg = \"Median Rental Prices By Weekday & Subregion\"  # specify plot's title\n",
    "\n",
    "lineplot_seaborn((13, 7), df_subreg_prices_weekday, 'date_posted', 'price',  'sub_region', lp_title_weekday_median_subreg)\n"
   ]
  },
  {
   "cell_type": "code",
   "execution_count": null,
   "metadata": {},
   "outputs": [],
   "source": []
  },
  {
   "cell_type": "markdown",
   "metadata": {},
   "source": [
    "## Next, let's compare rental prices on a daily basis by a 7-day rolling avg:\n",
    "\n",
    "## NB!!: Check following for an example: <https://datavizpyr.com/how-to-make-a-time-series-plot-with-rolling-average-in-python/>\n",
    "\n",
    "## Look up plot entitled \"Time Series Plot with 7-day rolling average: Pandas and Seaborn\""
   ]
  },
  {
   "cell_type": "code",
   "execution_count": null,
   "metadata": {},
   "outputs": [],
   "source": []
  },
  {
   "cell_type": "markdown",
   "metadata": {},
   "source": [
    "## Group data by week over week & subregion"
   ]
  },
  {
   "cell_type": "code",
   "execution_count": 83,
   "metadata": {},
   "outputs": [
    {
     "name": "stderr",
     "output_type": "stream",
     "text": [
      "d:\\Coding and Code projects\\Python\\craigslist_data_proj\\CraigslistWebScraper\\craigslist_venv\\lib\\site-packages\\ipykernel_launcher.py:2: FutureWarning: Series.dt.weekofyear and Series.dt.week have been deprecated.  Please use Series.dt.isocalendar().week instead.\n",
      "  \n",
      "d:\\Coding and Code projects\\Python\\craigslist_data_proj\\CraigslistWebScraper\\craigslist_venv\\lib\\site-packages\\ipykernel_launcher.py:2: FutureWarning: Indexing with multiple keys (implicitly converted to a tuple of keys) will be deprecated, use a list instead.\n",
      "  \n"
     ]
    },
    {
     "data": {
      "text/html": [
       "<div>\n",
       "<style scoped>\n",
       "    .dataframe tbody tr th:only-of-type {\n",
       "        vertical-align: middle;\n",
       "    }\n",
       "\n",
       "    .dataframe tbody tr th {\n",
       "        vertical-align: top;\n",
       "    }\n",
       "\n",
       "    .dataframe thead th {\n",
       "        text-align: right;\n",
       "    }\n",
       "</style>\n",
       "<table border=\"1\" class=\"dataframe\">\n",
       "  <thead>\n",
       "    <tr style=\"text-align: right;\">\n",
       "      <th></th>\n",
       "      <th></th>\n",
       "      <th></th>\n",
       "      <th>price</th>\n",
       "      <th>bedrooms</th>\n",
       "      <th>sqft</th>\n",
       "    </tr>\n",
       "    <tr>\n",
       "      <th>date_posted</th>\n",
       "      <th>date_posted</th>\n",
       "      <th>sub_region</th>\n",
       "      <th></th>\n",
       "      <th></th>\n",
       "      <th></th>\n",
       "    </tr>\n",
       "  </thead>\n",
       "  <tbody>\n",
       "    <tr>\n",
       "      <th rowspan=\"5\" valign=\"top\">1</th>\n",
       "      <th rowspan=\"5\" valign=\"top\">2022</th>\n",
       "      <th>eby</th>\n",
       "      <td>2380.0</td>\n",
       "      <td>2.0</td>\n",
       "      <td>1263.0</td>\n",
       "    </tr>\n",
       "    <tr>\n",
       "      <th>nby</th>\n",
       "      <td>2182.0</td>\n",
       "      <td>1.0</td>\n",
       "      <td>7130.0</td>\n",
       "    </tr>\n",
       "    <tr>\n",
       "      <th>pen</th>\n",
       "      <td>3195.0</td>\n",
       "      <td>2.0</td>\n",
       "      <td>9300.0</td>\n",
       "    </tr>\n",
       "    <tr>\n",
       "      <th>sby</th>\n",
       "      <td>2795.0</td>\n",
       "      <td>2.0</td>\n",
       "      <td>8170.0</td>\n",
       "    </tr>\n",
       "    <tr>\n",
       "      <th>scz</th>\n",
       "      <td>2600.0</td>\n",
       "      <td>2.0</td>\n",
       "      <td>8440.0</td>\n",
       "    </tr>\n",
       "    <tr>\n",
       "      <th>...</th>\n",
       "      <th>...</th>\n",
       "      <th>...</th>\n",
       "      <td>...</td>\n",
       "      <td>...</td>\n",
       "      <td>...</td>\n",
       "    </tr>\n",
       "    <tr>\n",
       "      <th rowspan=\"5\" valign=\"top\">52</th>\n",
       "      <th rowspan=\"5\" valign=\"top\">2022</th>\n",
       "      <th>eby</th>\n",
       "      <td>2500.0</td>\n",
       "      <td>2.0</td>\n",
       "      <td>8510.0</td>\n",
       "    </tr>\n",
       "    <tr>\n",
       "      <th>nby</th>\n",
       "      <td>2100.0</td>\n",
       "      <td>1.0</td>\n",
       "      <td>7250.0</td>\n",
       "    </tr>\n",
       "    <tr>\n",
       "      <th>pen</th>\n",
       "      <td>2997.5</td>\n",
       "      <td>1.0</td>\n",
       "      <td>8500.0</td>\n",
       "    </tr>\n",
       "    <tr>\n",
       "      <th>sby</th>\n",
       "      <td>2601.0</td>\n",
       "      <td>1.0</td>\n",
       "      <td>8000.0</td>\n",
       "    </tr>\n",
       "    <tr>\n",
       "      <th>sfc</th>\n",
       "      <td>3222.5</td>\n",
       "      <td>2.0</td>\n",
       "      <td>6320.0</td>\n",
       "    </tr>\n",
       "  </tbody>\n",
       "</table>\n",
       "<p>113 rows × 3 columns</p>\n",
       "</div>"
      ],
      "text/plain": [
       "                                     price  bedrooms    sqft\n",
       "date_posted date_posted sub_region                          \n",
       "1           2022        eby         2380.0       2.0  1263.0\n",
       "                        nby         2182.0       1.0  7130.0\n",
       "                        pen         3195.0       2.0  9300.0\n",
       "                        sby         2795.0       2.0  8170.0\n",
       "                        scz         2600.0       2.0  8440.0\n",
       "...                                    ...       ...     ...\n",
       "52          2022        eby         2500.0       2.0  8510.0\n",
       "                        nby         2100.0       1.0  7250.0\n",
       "                        pen         2997.5       1.0  8500.0\n",
       "                        sby         2601.0       1.0  8000.0\n",
       "                        sfc         3222.5       2.0  6320.0\n",
       "\n",
       "[113 rows x 3 columns]"
      ]
     },
     "execution_count": 83,
     "metadata": {},
     "output_type": "execute_result"
    }
   ],
   "source": [
    "## Get groupby of median for subregion\n",
    "def groupby_single_agg_median(df, col_to_group, col_agg_calc):\n",
    "    return df.groupby(col_to_group)[col_agg_calc].median()\n",
    "\n",
    "\n",
    "# specify cols to agg\n",
    "subregion_and_date = ['sub_region', 'date_posted']\n",
    "\n",
    "# median prices by subregion & date_posted \n",
    "sub_region_median_prices = groupby_single_agg_median(df, subregion_and_date, 'price')\n",
    "\n",
    "df_subreg_prices_weekly = df.groupby(\n",
    "    [df['date_posted'].dt.week, df['date_posted'].dt.year, \"sub_region\"])[\"price\", \"bedrooms\", \"sqft\"].median()\n",
    "        \n",
    "df_subreg_prices_weekly\n",
    "\n",
    "\n"
   ]
  },
  {
   "cell_type": "markdown",
   "metadata": {},
   "source": [
    "## Lineplot of week over week subregion prices:"
   ]
  },
  {
   "cell_type": "code",
   "execution_count": 84,
   "metadata": {},
   "outputs": [
    {
     "data": {
      "text/plain": [
       "<AxesSubplot:title={'center':'Week over Week Median Rental Prices By Subregion'}, xlabel='date_posted', ylabel='price'>"
      ]
     },
     "execution_count": 84,
     "metadata": {},
     "output_type": "execute_result"
    },
    {
     "data": {
      "image/png": "[encoded data removed]",
      "text/plain": [
       "<Figure size 936x504 with 1 Axes>"
      ]
     },
     "metadata": {},
     "output_type": "display_data"
    }
   ],
   "source": [
    "lp_title_weekday_median_subreg = \"Week over Week Median Rental Prices By Subregion\"  # specify plot's title\n",
    "\n",
    "lineplot_seaborn((13, 7), df_subreg_prices_weekly, 'date_posted', 'price',  'sub_region', lp_title_weekday_median_subreg)\n"
   ]
  },
  {
   "cell_type": "code",
   "execution_count": 81,
   "metadata": {},
   "outputs": [
    {
     "name": "stderr",
     "output_type": "stream",
     "text": [
      "d:\\Coding and Code projects\\Python\\craigslist_data_proj\\CraigslistWebScraper\\craigslist_venv\\lib\\site-packages\\ipykernel_launcher.py:2: FutureWarning: Series.dt.weekofyear and Series.dt.week have been deprecated.  Please use Series.dt.isocalendar().week instead.\n",
      "  \n",
      "d:\\Coding and Code projects\\Python\\craigslist_data_proj\\CraigslistWebScraper\\craigslist_venv\\lib\\site-packages\\ipykernel_launcher.py:2: FutureWarning: Indexing with multiple keys (implicitly converted to a tuple of keys) will be deprecated, use a list instead.\n",
      "  \n"
     ]
    },
    {
     "data": {
      "text/plain": [
       "<AxesSubplot:title={'center':'Week over Week Median Rental Prices (overall)'}, xlabel='date_posted', ylabel='price'>"
      ]
     },
     "execution_count": 81,
     "metadata": {},
     "output_type": "execute_result"
    },
    {
     "data": {
      "image/png": "[encoded data removed]",
      "text/plain": [
       "<Figure size 936x504 with 1 Axes>"
      ]
     },
     "metadata": {},
     "output_type": "display_data"
    }
   ],
   "source": [
    "df_prices_weekly = df.groupby(\n",
    "    [df['date_posted'].dt.week, df['date_posted'].dt.month, df['date_posted'].dt.year])[\"price\", \"bedrooms\", \"sqft\"].median()\n",
    "\n",
    "df_prices_weekly\n",
    "\n",
    "lp_title_weekday_median_subreg = \"Week over Week Median Rental Prices (overall)\"  # specify plot's title\n",
    "\n",
    "lineplot_seaborn((13, 7), df_prices_weekly, 'date_posted', 'price', None, lp_title_weekday_median_subreg)\n",
    "\n"
   ]
  },
  {
   "cell_type": "markdown",
   "metadata": {},
   "source": [
    "## The Week over Week lineplot indicates a very gradual increase in overall weekly median rent prices.\n",
    "\n",
    "## Let's next examine month over month data, since this would likely show more pronounced increases in median rental prices."
   ]
  },
  {
   "cell_type": "markdown",
   "metadata": {},
   "source": [
    "## Monthly rental prices:\n",
    "\n",
    "### NB: I need to account for the year as well as month for deriving monthly time series, since dt.month does not itself account for differences in year! "
   ]
  },
  {
   "cell_type": "code",
   "execution_count": null,
   "metadata": {},
   "outputs": [],
   "source": []
  },
  {
   "cell_type": "code",
   "execution_count": 88,
   "metadata": {},
   "outputs": [
    {
     "name": "stderr",
     "output_type": "stream",
     "text": [
      "d:\\Coding and Code projects\\Python\\craigslist_data_proj\\CraigslistWebScraper\\craigslist_venv\\lib\\site-packages\\ipykernel_launcher.py:2: FutureWarning: Indexing with multiple keys (implicitly converted to a tuple of keys) will be deprecated, use a list instead.\n",
      "  \n"
     ]
    },
    {
     "data": {
      "text/plain": [
       "<AxesSubplot:title={'center':'Month over Month Median Rental Prices Overall'}, xlabel='date_posted', ylabel='price'>"
      ]
     },
     "execution_count": 88,
     "metadata": {},
     "output_type": "execute_result"
    },
    {
     "data": {
      "image/png": "[encoded data removed]",
      "text/plain": [
       "<Figure size 936x504 with 1 Axes>"
      ]
     },
     "metadata": {},
     "output_type": "display_data"
    }
   ],
   "source": [
    "df_prices_monthly = df.groupby(\n",
    "    [df['date_posted'].dt.month, df['date_posted'].dt.year])[\"price\", \"bedrooms\", \"sqft\"].median()\n",
    "\n",
    "\n",
    "title_prices_monthly = \"Month over Month Median Rental Prices Overall\"  # specify plot's title\n",
    "\n",
    "lineplot_seaborn((13, 7), df_prices_monthly, 'date_posted', 'price', None, title_prices_monthly)\n",
    "\n"
   ]
  },
  {
   "cell_type": "markdown",
   "metadata": {},
   "source": [
    "## Interpretation: The month over month median rental prices lineplot indicates that--overall--median rental prices have consistently increased month over month between September 2021 and February 2022.\n",
    "\n",
    "## Over this 5 month period, median rental prices have increased cummulatively by ~$125 from  $2,575 to approximately $2,700.\n",
    "\n",
    "## The month over month increases appear to be happening at a very similar rate of growth, with no one month or set of months experiencing any particularly sharp increases in monthly prices.\n",
    "\n",
    "## From a regression & statistical model perspective, this likely indicates autocorrelation issues since there is clearly a positive trend of rental prices (the outcome variable) over time.  \n",
    "\n",
    "## Let's now examine whether monthly rental prices have fluctuated at different levels within the 6 subregions:"
   ]
  },
  {
   "cell_type": "markdown",
   "metadata": {},
   "source": [
    "## Monthly rental prices by subregion:"
   ]
  },
  {
   "cell_type": "code",
   "execution_count": 79,
   "metadata": {},
   "outputs": [
    {
     "name": "stderr",
     "output_type": "stream",
     "text": [
      "d:\\Coding and Code projects\\Python\\craigslist_data_proj\\CraigslistWebScraper\\craigslist_venv\\lib\\site-packages\\ipykernel_launcher.py:2: FutureWarning: Indexing with multiple keys (implicitly converted to a tuple of keys) will be deprecated, use a list instead.\n",
      "  \n"
     ]
    },
    {
     "data": {
      "text/plain": [
       "<AxesSubplot:title={'center':'Month over Month Median Rental Prices By Subregion'}, xlabel='date_posted', ylabel='price'>"
      ]
     },
     "execution_count": 79,
     "metadata": {},
     "output_type": "execute_result"
    },
    {
     "data": {
      "image/png": "[encoded data removed]",
      "text/plain": [
       "<Figure size 936x504 with 1 Axes>"
      ]
     },
     "metadata": {},
     "output_type": "display_data"
    }
   ],
   "source": [
    "df_prices_monthly_subregion = df.groupby(\n",
    "    [df['date_posted'].dt.month, df['date_posted'].dt.year, df['sub_region']])[\"price\", \"bedrooms\", \"sqft\"].median()\n",
    "\n",
    "\n",
    "title_prices_monthly_subregion = \"Month over Month Median Rental Prices By Subregion\"  # specify plot's title\n",
    "\n",
    "lineplot_seaborn((13, 7), df_prices_monthly_subregion, 'date_posted', 'price', 'sub_region', title_prices_monthly_subregion)\n",
    "\n"
   ]
  },
  {
   "cell_type": "markdown",
   "metadata": {},
   "source": [
    "## NB: Interestingly, we see that half of the 6 Bay Area subregions (including Santa Cruz) actually experienced small declines in median rental prices. \n",
    "\n",
    "### These subregions even include 1 heavily populated region of the SF Bay Area. Namely, subregions that saw reductions in rental prices include: Santa Cruz, the North Bay, and the East Bay.\n",
    "\n",
    "### However, the other 3 subregions--namely, the Peninsula, South Bay, and San Francisco--experienced modereately high increases in monthly rental prices, obviously enough to counteract the slight downward trajectory of the other subregions' rental prices over this same period.\n"
   ]
  },
  {
   "cell_type": "markdown",
   "metadata": {},
   "source": [
    "## Next, we should determine whether the time series data has significant autocorrelation issues:  \n",
    "\n",
    "### Calculate and plot autocorrelation function for monthly\n",
    "\n"
   ]
  },
  {
   "cell_type": "code",
   "execution_count": 89,
   "metadata": {},
   "outputs": [],
   "source": [
    "from statsmodels.graphics.tsaplots import plot_pacf"
   ]
  },
  {
   "cell_type": "markdown",
   "metadata": {},
   "source": [
    "### Also see time series forecasting methods in Python/Pandas: <11 Classical Time Series Forecasting Methods in Python (Cheat Sheet) (2018)\n",
    "\n",
    "https://machinelearningmastery.com/time-series-forecasting-methods-in-python-cheat-sheet/\n",
    ">>"
   ]
  },
  {
   "cell_type": "code",
   "execution_count": null,
   "metadata": {},
   "outputs": [],
   "source": []
  },
  {
   "cell_type": "markdown",
   "metadata": {},
   "source": [
    "## Next, let's examine whether the time series is stationary:\n",
    "\n",
    "### NB: If the time series data is not, then we should create lags as needed to achieve stationarity!"
   ]
  },
  {
   "cell_type": "code",
   "execution_count": null,
   "metadata": {},
   "outputs": [],
   "source": []
  },
  {
   "cell_type": "markdown",
   "metadata": {},
   "source": [
    "## Now, let's proceed to regression analysis:\n",
    "\n"
   ]
  },
  {
   "cell_type": "markdown",
   "metadata": {},
   "source": [
    "## Since we have numerous time periods, and we have panel data with linear trend of autocorrelation (epecially since rho > 1/3), we can use a First-Differences approach to mitigate autocorrelation and also most likely mitigate omitted variable bias.  \n",
    "\n",
    "#### One of the other underlying statistical reasons for using first-differences is we have demonstrated that there are signficant levels of autocorrelation (due to a positive trend in rental prices). \n",
    "\n",
    "#### To be more specific, since rho > 1/3, 1st differences can reduce the extent of autocorrelation. See following for a discussion of some of the linear algebra underlying the econometric theory at play here: <http://fmwww.bc.edu/ec-c/S2004/771/ec771.S2004.ps6.key.pdf>\n",
    "\n",
    "#### NB2: However, First-differencing is *not guaranteed* to mitigate autocorrelation. It really only removes effects of a *linear trend* from estimating of autocorrelation.  "
   ]
  },
  {
   "cell_type": "code",
   "execution_count": null,
   "metadata": {},
   "outputs": [],
   "source": []
  },
  {
   "cell_type": "code",
   "execution_count": null,
   "metadata": {},
   "outputs": [],
   "source": []
  },
  {
   "cell_type": "markdown",
   "metadata": {},
   "source": [
    "## Data exploration--cont'd:\n",
    "\n",
    "### Finally, let's examine for whether any of the sets of indicator variables --ie, which have multiple groups such as the laundry and washer+dryer indicators--are perfectly collinear:"
   ]
  },
  {
   "cell_type": "markdown",
   "metadata": {},
   "source": [
    "### Specify reference group column for each group of indicator variables such as the property/home type variables (apt, duplex, etc), which we will need to remove : "
   ]
  },
  {
   "cell_type": "code",
   "execution_count": 27,
   "metadata": {},
   "outputs": [
    {
     "data": {
      "text/plain": [
       "{'flooring_type': 'flooring_carpet',\n",
       " 'housing_type': 'apt',\n",
       " 'laundry_indicators': 'laundry_in_bldg',\n",
       " 'parking_options': 'no_parking'}"
      ]
     },
     "execution_count": 27,
     "metadata": {},
     "output_type": "execute_result"
    }
   ],
   "source": [
    "# \n",
    "def specify_dict_of_reference_groups(**key_val_ref_group_col_names):\n",
    "    return key_val_ref_group_col_names\n",
    "\n",
    "dict_of_ref_group_col_names = specify_dict_of_reference_groups( flooring_type = 'flooring_carpet', housing_type = 'apt', laundry_indicators = 'laundry_in_bldg', parking_options = 'no_parking') \n",
    "\n",
    "# sanity check\n",
    "dict_of_ref_group_col_names"
   ]
  },
  {
   "cell_type": "code",
   "execution_count": null,
   "metadata": {},
   "outputs": [],
   "source": [
    "## group data by city level\n",
    "\n"
   ]
  },
  {
   "cell_type": "code",
   "execution_count": null,
   "metadata": {},
   "outputs": [],
   "source": [
    "## visualize and compare avg prices by city"
   ]
  },
  {
   "cell_type": "code",
   "execution_count": null,
   "metadata": {},
   "outputs": [],
   "source": []
  },
  {
   "cell_type": "code",
   "execution_count": null,
   "metadata": {},
   "outputs": [],
   "source": [
    "### group data by housing type--ie, apt (apartment), single_fam (ie, single family), townhouse, etc.\n",
    "\n"
   ]
  },
  {
   "cell_type": "markdown",
   "metadata": {},
   "source": [
    "## Regression Analysis:\n",
    "\n",
    "### Create city & SF Bay Area sub_region indicator vars\""
   ]
  },
  {
   "cell_type": "markdown",
   "metadata": {},
   "source": [
    "## D.) Prepare the data for regression analysis-- bifurcate the DataFrame into the outcome variable and the covariates (ie, RHS variables), respectively:\n",
    "\n",
    "### 1) Remove any irrelevant columns that we will definitely *not* use for the regression analysis.\n",
    "\n",
    "### 2) Remove reference group for each set of indicator variables that have multiple categories/groups-- \n",
    "### e.g., -- the washer and dryer indicators ('no_laundry', 'washer_and_dryer', etc.); \n",
    "### the flooring indicators (ie, with the 'flooring_' prefix); \n",
    "### the parking indicators; \n",
    "### and the rental home type indicators ('apt', 'duplex', etc.)!! \n",
    "\n",
    "### 3) Remove variables that--either a priori or especially via the coefficient correlation matrix--have a high degree of multicollinearity, especially full_kitchen given we already have kitchen in the dataset.\n",
    "\n",
    "\n",
    "###  3)  Bifurcate dataset into train & test/validation\n"
   ]
  },
  {
   "cell_type": "code",
   "execution_count": 141,
   "metadata": {},
   "outputs": [
    {
     "name": "stdout",
     "output_type": "stream",
     "text": [
      "Index(['city', 'price', 'bedrooms', 'bathrooms', 'date_posted', 'region',\n",
      "       'sub_region', 'cats_OK', 'wheelchair_accessible', 'laundry_in_bldg',\n",
      "       'no_laundry', 'washer_and_dryer_hookup', 'laundry_on_site',\n",
      "       'full_kitchen', 'dishwasher', 'refrigerator', 'oven', 'flooring_carpet',\n",
      "       'flooring_wood', 'flooring_tile', 'flooring_other', 'apt', 'in_law_apt',\n",
      "       'condo', 'townhouse', 'cottage_or_cabin', 'single_fam', 'duplex',\n",
      "       'flat', 'land', 'is_furnished', 'attached_garage', 'detached_garage',\n",
      "       'carport', 'off_street_parking', 'no_parking', 'EV_charging',\n",
      "       'air_condition', 'no_smoking', 'day_of_week'],\n",
      "      dtype='object')\n"
     ]
    }
   ],
   "source": [
    "## 1) Remove cols that we will *not* use for regression analysis:\n",
    "\n",
    "# remove these cols from dataset\n",
    "def remove_non_OLS_cols(df, list_of_non_OLS_cols):\n",
    "    return df.drop(columns=list_of_non_OLS_cols)\n",
    "\n",
    "# specify cols we will *not* use in the ression models:\n",
    "non_OLS_cols = [\"listing_id\", \"attr_vars\", \"date_of_webcrawler\"] \n",
    "\n",
    "\n",
    "df = remove_non_OLS_cols(df, non_OLS_cols)\n",
    "\n",
    "# sanity check\n",
    "print(f\"{df.columns}\")"
   ]
  },
  {
   "cell_type": "code",
   "execution_count": null,
   "metadata": {},
   "outputs": [],
   "source": [
    "# 2.) Remove reference group for each set of indicator variables with multiple groups\n",
    "def remove_reference_group_for_indicator_vars(df, ref_group_dummy):\n",
    "    return df.drop(columns = ref_group_dummy, axis=1)\n",
    "\n",
    "# remove ref group for laundry indicators\n",
    "\n",
    "\n",
    "# remove ref group for flooring indicators\n",
    "\n",
    "# remove ref group for home/property type indicators--e.g., apt, etc.\n",
    "\n",
    "# remove ref group for parking indicators\n"
   ]
  },
  {
   "cell_type": "markdown",
   "metadata": {},
   "source": [
    "## 4) Split overall dataset into training & validation/test data:"
   ]
  },
  {
   "cell_type": "code",
   "execution_count": null,
   "metadata": {},
   "outputs": [],
   "source": [
    "#  4)  bifurcate dataset into train & test data\n",
    "def split_to_train_and_test_data(df):\n",
    "    pass # split into 70% train & 30% validation"
   ]
  },
  {
   "cell_type": "code",
   "execution_count": null,
   "metadata": {},
   "outputs": [],
   "source": []
  },
  {
   "cell_type": "code",
   "execution_count": null,
   "metadata": {},
   "outputs": [],
   "source": []
  },
  {
   "cell_type": "markdown",
   "metadata": {},
   "source": [
    "## E.) Regression analysis!!\n",
    "\n",
    "### NB: The statsmodels smf API allows us to use R-like OLS formula syntax. This provides a feature that automatically parses object/str columns that are categorical-like--such as the 'city' column--to numeric indicator variables, and will also automatically remove one of the groups as a reference group!!\n",
    "\n",
    "### Thus, the smf API is generally preferred over the sm API in any case where one or more of the following constraints are at play: 1.) we do *not* want to use one hot encoding --e.g., if we want to interpret each categorical , and 2.) there are *numerous* groups per category, so for sake of minimizing memory usage smf.ols() is better than sm.OLS() since we can avoid using (say) Pandas' get_dummies() method, which would result in an unrealistically high number of columns."
   ]
  },
  {
   "cell_type": "markdown",
   "metadata": {},
   "source": [
    "## E1) Implement Pooled OLS regression:\n",
    "\n",
    "### E1a) Use a Pooled OLS specification with *just* sub_region indicator variables. We will introduce city-level indicators as well, but in a later specification!!\n",
    "\n",
    "### NB: The linearmodels.panel package contains modules that can implement Pooled OLS, fixed effects, random effects, and other panel models.\n",
    "\n",
    "### See linearmodels' doc: <https://bashtage.github.io/linearmodels/panel/examples/examples.html>"
   ]
  },
  {
   "cell_type": "code",
   "execution_count": 34,
   "metadata": {},
   "outputs": [
    {
     "data": {
      "text/plain": [
       "Index(['city', 'price', 'bedrooms', 'bathrooms', 'kitchen', 'date_posted',\n",
       "       'region', 'sub_region', 'cats_OK', 'wheelchair_accessible',\n",
       "       'laundry_in_bldg', 'no_laundry', 'washer_and_dryer_hookup',\n",
       "       'laundry_on_site', 'full_kitchen', 'dishwasher', 'refrigerator', 'oven',\n",
       "       'flooring_carpet', 'flooring_wood', 'flooring_tile',\n",
       "       'flooring_hardwood', 'flooring_other', 'apt', 'in_law_apt', 'condo',\n",
       "       'townhouse', 'cottage_or_cabin', 'single_fam', 'duplex', 'flat', 'land',\n",
       "       'is_furnished', 'attached_garage', 'detached_garage', 'carport',\n",
       "       'off_street_parking', 'no_parking', 'EV_charging', 'air_condition',\n",
       "       'no_smoking', 'day_of_week', 'week', 'month', 'year'],\n",
       "      dtype='object')"
      ]
     },
     "execution_count": 34,
     "metadata": {},
     "output_type": "execute_result"
    }
   ],
   "source": [
    "df.columns"
   ]
  },
  {
   "cell_type": "markdown",
   "metadata": {},
   "source": [
    "## NB!: When using Pooled OLS for a sub_region and week time effects with the *full set of RHS covariates*, the reg *cannot* be fitted properly since the RHS do *not* have full column rank (prob due to collinearity issues).   \n",
    "\n",
    "### As a result!: I need to run the PanelOLS() multiple times, removing each of the RHS one by one, and try to pinpoint which column or columns are the culprit.\n",
    "\n",
    "### NB2: Keep in mind that a very small set of RHS covariates did work ok--namely: bedrooms, bathrooms, condo, etc. \n",
    "\n",
    "### So if it's too time-consuming to try the collectively exhaustive approach, then just run the PanelOLS with 12 or so covariates. "
   ]
  },
  {
   "cell_type": "code",
   "execution_count": 68,
   "metadata": {},
   "outputs": [
    {
     "data": {
      "text/plain": [
       "{'flooring_type': 'flooring_carpet',\n",
       " 'housing_type': 'apt',\n",
       " 'laundry_indicators': 'laundry_in_bldg',\n",
       " 'parking_options': 'no_parking'}"
      ]
     },
     "execution_count": 68,
     "metadata": {},
     "output_type": "execute_result"
    }
   ],
   "source": [
    "dict_of_ref_group_col_names"
   ]
  },
  {
   "cell_type": "code",
   "execution_count": 173,
   "metadata": {},
   "outputs": [
    {
     "name": "stdout",
     "output_type": "stream",
     "text": [
      "The reference groups for the sets of mutually exclusive indicator variables are:\n",
      "{'flooring_type': 'flooring_carpet', 'housing_type': 'apt', 'laundry_indicators': 'laundry_in_bldg', 'parking_options': 'no_parking'}\n",
      "The number of covariates (ie, RHS) is:\n",
      "30 columns\n",
      "                          PooledOLS Estimation Summary                          \n",
      "================================================================================\n",
      "Dep. Variable:                  price   R-squared:                        0.3617\n",
      "Estimator:                  PooledOLS   R-squared (Between):              0.4273\n",
      "No. Observations:               13990   R-squared (Within):               0.3654\n",
      "Date:                Mon, Feb 28 2022   R-squared (Overall):              0.3617\n",
      "Time:                        03:14:41   Log-likelihood                -1.145e+05\n",
      "Cov. Estimator:             Clustered                                           \n",
      "                                        F-statistic:                      263.61\n",
      "Entities:                         120   P-value                           0.0000\n",
      "Avg Obs:                       116.58   Distribution:                F(30,13959)\n",
      "Min Obs:                       1.0000                                           \n",
      "Max Obs:                       1882.0   F-statistic (robust):             158.41\n",
      "                                        P-value                           0.0000\n",
      "Time periods:                      18   Distribution:                F(30,13959)\n",
      "Avg Obs:                       777.22                                           \n",
      "Min Obs:                       3.0000                                           \n",
      "Max Obs:                       1429.0                                           \n",
      "                                                                                \n",
      "                                    Parameter Estimates                                    \n",
      "===========================================================================================\n",
      "                         Parameter  Std. Err.     T-stat    P-value    Lower CI    Upper CI\n",
      "-------------------------------------------------------------------------------------------\n",
      "const                       1480.8     103.16     14.355     0.0000      1278.6      1683.1\n",
      "bedrooms                    346.40     38.084     9.0956     0.0000      271.75      421.05\n",
      "bathrooms                   453.62     58.163     7.7992     0.0000      339.62      567.63\n",
      "cats_OK                     88.529     41.641     2.1260     0.0335      6.9079      170.15\n",
      "wheelchair_accessible       13.000     67.406     0.1929     0.8471     -119.12      145.12\n",
      "no_laundry                 -197.33     44.113    -4.4733     0.0000     -283.80     -110.86\n",
      "washer_and_dryer_hookup    -318.73     77.818    -4.0958     0.0000     -471.26     -166.19\n",
      "laundry_on_site            -233.43     52.138    -4.4771     0.0000     -335.62     -131.23\n",
      "full_kitchen                120.39     94.267     1.2772     0.2016     -64.382      305.17\n",
      "dishwasher                 -6.2065     36.527    -0.1699     0.8651     -77.804      65.390\n",
      "refrigerator               -21.756     59.303    -0.3669     0.7137     -138.00      94.486\n",
      "oven                        42.350     48.439     0.8743     0.3820     -52.596      137.30\n",
      "flooring_wood               51.660     89.197     0.5792     0.5625     -123.18      226.50\n",
      "flooring_tile              -164.30     120.45    -1.3640     0.1726     -400.40      71.804\n",
      "flooring_other             -106.25     74.185    -1.4322     0.1521     -251.66      39.162\n",
      "in_law_apt                 -136.63     142.91    -0.9561     0.3390     -416.76      143.49\n",
      "condo                       191.28     171.87     1.1130     0.2657     -145.59      528.16\n",
      "townhouse                  -26.273     145.06    -0.1811     0.8563     -310.61      258.06\n",
      "cottage_or_cabin            114.19     92.866     1.2296     0.2189     -67.842      296.22\n",
      "single_fam                  361.60     70.021     5.1641     0.0000      224.35      498.85\n",
      "duplex                      1.6451     129.57     0.0127     0.9899     -252.33      255.62\n",
      "flat                        642.83     186.61     3.4447     0.0006      277.04      1008.6\n",
      "land                       -8.6795     290.64    -0.0299     0.9762     -578.37      561.01\n",
      "is_furnished                117.19     69.608     1.6836     0.0923     -19.251      253.63\n",
      "attached_garage             126.09     63.613     1.9821     0.0475      1.3960      250.78\n",
      "detached_garage             279.71     113.33     2.4681     0.0136      57.568      501.86\n",
      "carport                    -88.732     94.219    -0.9418     0.3463     -273.41      95.951\n",
      "off_street_parking         -8.1779     55.993    -0.1461     0.8839     -117.93      101.58\n",
      "EV_charging                 371.70     100.51     3.6983     0.0002      174.69      568.70\n",
      "air_condition              -129.83     56.887    -2.2822     0.0225     -241.33     -18.320\n",
      "no_smoking                  140.55     46.394     3.0295     0.0025      49.614      231.49\n",
      "===========================================================================================\n"
     ]
    }
   ],
   "source": [
    "# smf statsmodels API for R-like regression formula syntax\n",
    "import statsmodels.formula.api as smf\n",
    "\n",
    "## implement pooled OLS with *just* subregion indicators and week-over-week time effects\n",
    "\n",
    "import statsmodels.api as sm\n",
    "from linearmodels.panel import PooledOLS\n",
    "\n",
    "\n",
    "\n",
    "def fit_Pooled_OLS(df, entity_effects, time_effects, outcome_var, irrelevant_cols_list, dict_of_ref_group_col_names):\n",
    "  ## NB: we need to index the dataset along the entity and time (respectively) that we want for fixed/random effects:\n",
    "  #set index to the entity and time for transforming dataset to a proper panel \n",
    "  df = df.set_index([entity_effects, time_effects]) # set index to transform to panel dataset\n",
    "\n",
    "  # NB!: specify the names of the reference group columns for the sets of mutually exclusive indicator variables--e.g., the housing type indicators (ie, apt, duplex, etc.)\n",
    "  print(f'The reference groups for the sets of mutually exclusive indicator variables are:\\n{ {key:value for key, value in dict_of_ref_group_col_names.items()} }')\n",
    "\n",
    "  # NB2: remove all reference groups for the sets of mutually exclusive indicator variables\n",
    "  # for ease of removing reference group cols, convert the dictionary's values to a list of str elements:\n",
    "  list_of_ref_group_cols = [str(value) for key, value in dict_of_ref_group_col_names.items()] # convert the values (ie, the column names) of the dict to a list of strings\n",
    "  \n",
    "  # a) remove each reference group col from dataset (ie, before running regression)\n",
    "  df = df.drop(columns=list_of_ref_group_cols)\n",
    "\n",
    "  #b) also, remove any irrelevant cols\n",
    "  df = df.drop(columns=irrelevant_cols_list)  # remove irrelevant cols such as 'day_of_week'\n",
    "\n",
    "  # From df dataset, obtain all RHS covariates --remove outcome var:\n",
    "  RHS = df.drop(columns = [outcome_var])  # remove outcome var and entity+time effects cols \n",
    "\n",
    "  # compute total number of all RHS variables (having *removed* the reference groups, entity+time effects, and irrelevant cols)   \n",
    "  num_cols = RHS.shape[1]   # obtain number of  RHS cols\n",
    "  print(f'The number of covariates (ie, RHS) is:\\n{num_cols} columns') # print number of RHS covariates\n",
    "\n",
    "  # Estimate OLS model using R-like OLS formula syntax\n",
    "  # specify a list of covariates/RHS:\n",
    "  # RHS_vars = RHS_vars_sans_categorical.columns.to_list()\n",
    "\n",
    "  # add intercept (aka, constant) to RHS:\n",
    "  RHS = sm.add_constant(RHS)\n",
    "\n",
    "  # instantiate Pooled OLS model-- (NB: we cannot use entity effects or time effects since this is not a fixed, random, or mixed effects model)\n",
    "  mod = PooledOLS(dependent = df[outcome_var], \n",
    "  exog = RHS) \n",
    "  \n",
    "  # fit model with clustered standard errors (to help account for within-cluster correlations):\n",
    "  pooled_res = mod.fit(cov_type='clustered', cluster_entity=True)\n",
    "  # pooled_res = mod.fit()\n",
    "  \n",
    "\n",
    "  # print results\n",
    "  print(pooled_res)\n",
    "  # return fitted Pooled OLS model res:\n",
    "  return pooled_res\n",
    "\n",
    "\n",
    "\n",
    "# fit Pooled OLS with sub_region entity and week (over week) time effects\n",
    "\n",
    "# specify entity and time cols for fixed effects\n",
    "subregion_entity = \"city\"  #entity effect\n",
    "# \n",
    "time_entity_week = \"week\"  # time effect\n",
    "\n",
    "# specify outcome var name\n",
    "outcome_var = \"price\"\n",
    "\n",
    "# specify columns that are irrelevant (ie, not usable) to the regression model\n",
    "irrelevant_cols = ['sub_region', 'date_posted', 'region', 'day_of_week',  'year', 'month']\n",
    "\n",
    "# fit and return Pooled OLS model, with \n",
    "pooled_OLS_fitted = fit_Pooled_OLS(df, subregion_entity, time_entity_week, outcome_var, irrelevant_cols, dict_of_ref_group_col_names)\n"
   ]
  },
  {
   "cell_type": "code",
   "execution_count": 102,
   "metadata": {},
   "outputs": [
    {
     "data": {
      "text/plain": [
       "975     NaN\n",
       "1136    NaN\n",
       "1137    NaN\n",
       "1138    NaN\n",
       "1139    NaN\n",
       "         ..\n",
       "15136   NaN\n",
       "15138   NaN\n",
       "15139   NaN\n",
       "15140   NaN\n",
       "15141   NaN\n",
       "Name: no_parking, Length: 13440, dtype: float64"
      ]
     },
     "execution_count": 102,
     "metadata": {},
     "output_type": "execute_result"
    }
   ],
   "source": [
    "df.no_parking"
   ]
  },
  {
   "cell_type": "code",
   "execution_count": 87,
   "metadata": {},
   "outputs": [
    {
     "name": "stdout",
     "output_type": "stream",
     "text": [
      "Number of covariates (ie, regressor columns):\n",
      " 43.\n",
      "\n",
      "This OLS model specification has the following columns:\n",
      "(Index(['sqft', 'bedrooms', 'bathrooms', 'kitchen', 'region', 'cats_OK',\n",
      "       'dogs_OK', 'wheelchair_accessible', 'laundry_in_bldg', 'no_laundry',\n",
      "       'washer_and_dryer', 'washer_and_dryer_hookup', 'laundry_on_site',\n",
      "       'full_kitchen', 'dishwasher', 'refrigerator', 'oven', 'flooring_carpet',\n",
      "       'flooring_wood', 'flooring_tile', 'flooring_hardwood', 'flooring_other',\n",
      "       'apt', 'in_law_apt', 'condo', 'townhouse', 'cottage_or_cabin',\n",
      "       'single_fam', 'duplex', 'flat', 'land', 'is_furnished',\n",
      "       'attached_garage', 'detached_garage', 'carport', 'off_street_parking',\n",
      "       'no_parking', 'EV_charging', 'air_condition', 'no_smoking', 'weekday'],\n",
      "      dtype='object'), 'city', 'sub_region').\n",
      "\n",
      "\n",
      "The regression model's results are as follows:\n",
      "                            OLS Regression Results                            \n",
      "==============================================================================\n",
      "Dep. Variable:                  price   R-squared:                       0.482\n",
      "Model:                            OLS   Adj. R-squared:                  0.475\n",
      "Method:                 Least Squares   F-statistic:                     420.7\n",
      "Date:                Thu, 17 Feb 2022   Prob (F-statistic):               0.00\n",
      "Time:                        05:00:33   Log-Likelihood:                -97845.\n",
      "No. Observations:               12103   AIC:                         1.960e+05\n",
      "Df Residuals:                   11935   BIC:                         1.973e+05\n",
      "Df Model:                         167                                         \n",
      "Covariance Type:                  HC3                                         \n",
      "=========================================================================================================\n",
      "                                            coef    std err          z      P>|z|      [0.025      0.975]\n",
      "---------------------------------------------------------------------------------------------------------\n",
      "Intercept                              1315.6534     97.462     13.499      0.000    1124.631    1506.676\n",
      "weekday[T.Monday]                        30.6700     26.997      1.136      0.256     -22.244      83.584\n",
      "weekday[T.Saturday]                      19.7056     31.419      0.627      0.531     -41.874      81.285\n",
      "weekday[T.Sunday]                       100.7137     31.189      3.229      0.001      39.585     161.842\n",
      "weekday[T.Thursday]                      56.6655     27.109      2.090      0.037       3.533     109.798\n",
      "weekday[T.Tuesday]                        5.4739     27.896      0.196      0.844     -49.201      60.149\n",
      "weekday[T.Wednesday]                      1.4714     26.182      0.056      0.955     -49.844      52.787\n",
      "C(city)[T.Albany]                       108.6559    103.461      1.050      0.294     -94.125     311.437\n",
      "C(city)[T.Aptos]                       -111.3108   1739.197     -0.064      0.949   -3520.075    3297.453\n",
      "C(city)[T.Atherton]                   -1378.6694    946.888     -1.456      0.145   -3234.537     477.198\n",
      "C(city)[T.Belmont]                      954.5041    207.224      4.606      0.000     548.353    1360.655\n",
      "C(city)[T.Berkeley]                     330.8658     81.503      4.060      0.000     171.123     490.608\n",
      "C(city)[T.Bodega Bay]                   208.1155    271.287      0.767      0.443    -323.597     739.828\n",
      "C(city)[T.Bonny Doon]                   218.9857   1.14e+04      0.019      0.985   -2.21e+04    2.25e+04\n",
      "C(city)[T.Boulder Creek]                422.0043   1755.450      0.240      0.810   -3018.614    3862.623\n",
      "C(city)[T.Brentwood]                   -443.0905    100.285     -4.418      0.000    -639.646    -246.535\n",
      "C(city)[T.Brian]                         74.5039    205.113      0.363      0.716    -327.511     476.519\n",
      "C(city)[T.Brisbane]                     713.1559    237.467      3.003      0.003     247.730    1178.582\n",
      "C(city)[T.Burlingame]                   936.0439    223.017      4.197      0.000     498.939    1373.148\n",
      "C(city)[T.Campbell]                     433.8645    210.662      2.060      0.039      20.975     846.754\n",
      "C(city)[T.Castro Valley]                  0.9538    228.085      0.004      0.997    -446.084     447.992\n",
      "C(city)[T.Cloverdale]                  -548.4611    276.109     -1.986      0.047   -1089.625      -7.297\n",
      "C(city)[T.Concord]                     -129.8378     69.842     -1.859      0.063    -266.725       7.049\n",
      "C(city)[T.Corralitos]                  -536.8324   1774.754     -0.302      0.762   -4015.287    2941.622\n",
      "C(city)[T.Corte Madera]                 828.6593    524.107      1.581      0.114    -198.571    1855.890\n",
      "C(city)[T.Crockett]                    -573.6850    129.310     -4.437      0.000    -827.128    -320.242\n",
      "C(city)[T.Cupertino]                    611.7618    194.956      3.138      0.002     229.655     993.868\n",
      "C(city)[T.Daly City]                    893.1449    204.801      4.361      0.000     491.742    1294.548\n",
      "C(city)[T.Danville]                     201.0851    101.803      1.975      0.048       1.554     400.616\n",
      "C(city)[T.Dublin]                      -131.7554     68.473     -1.924      0.054    -265.959       2.448\n",
      "C(city)[T.East Palo Alto]              1219.6253    244.359      4.991      0.000     740.691    1698.559\n",
      "C(city)[T.El Sobrante]                -1198.9335    324.544     -3.694      0.000   -1835.029    -562.838\n",
      "C(city)[T.Elmwood]                     -134.3430    557.312     -0.241      0.810   -1226.655     957.969\n",
      "C(city)[T.Emeryville]                    37.9336    133.309      0.285      0.776    -223.348     299.215\n",
      "C(city)[T.Fairfax]                      833.8606    376.999      2.212      0.027      94.956    1572.765\n",
      "C(city)[T.Fairfield]                   -284.3617    104.713     -2.716      0.007    -489.596     -79.127\n",
      "C(city)[T.Felton]                      -133.7254   1742.458     -0.077      0.939   -3548.881    3281.430\n",
      "C(city)[T.Foster City]                 1166.6912    195.465      5.969      0.000     783.586    1549.796\n",
      "C(city)[T.Fremont]                     -106.2126     68.156     -1.558      0.119    -239.797      27.372\n",
      "C(city)[T.Fremont Ca]                   231.8565   1.49e+04      0.016      0.988    -2.9e+04    2.95e+04\n",
      "C(city)[T.Gilroy]                      -128.3967    244.022     -0.526      0.599    -606.672     349.878\n",
      "C(city)[T.Greenbrae]                     83.8876    353.135      0.238      0.812    -608.243     776.019\n",
      "C(city)[T.Guerneville]                 -177.3356   9.59e+04     -0.002      0.999   -1.88e+05    1.88e+05\n",
      "C(city)[T.Half Moon Bay]                438.8564    297.453      1.475      0.140    -144.141    1021.854\n",
      "C(city)[T.Hayward]                     -122.6234     67.428     -1.819      0.069    -254.780       9.533\n",
      "C(city)[T.Healdsburg]                   475.3071    352.451      1.349      0.177    -215.485    1166.099\n",
      "C(city)[T.Hercules]                      15.3780     81.264      0.189      0.850    -143.896     174.652\n",
      "C(city)[T.Hillsborough]                5003.4656    486.100     10.293      0.000    4050.726    5956.205\n",
      "C(city)[T.Hollister]                   -163.2346    260.798     -0.626      0.531    -674.389     347.920\n",
      "C(city)[T.Irvington High Area]         -207.5647    290.154     -0.715      0.474    -776.255     361.126\n",
      "C(city)[T.Kelseyville]                 -244.9186    254.840     -0.961      0.337    -744.395     254.558\n",
      "C(city)[T.Kentfield]                    758.9644    699.652      1.085      0.278    -612.328    2130.257\n",
      "C(city)[T.La Honda]                      63.6494   2.45e+04      0.003      0.998   -4.79e+04    4.81e+04\n",
      "C(city)[T.Lafayette]                    267.9623    107.141      2.501      0.012      57.970     477.955\n",
      "C(city)[T.Larkspur]                    1073.4254    296.247      3.623      0.000     492.791    1654.059\n",
      "C(city)[T.Livermore]                    214.0252   4.63e+04      0.005      0.996   -9.05e+04    9.09e+04\n",
      "C(city)[T.Los Altos]                   1772.0987    280.265      6.323      0.000    1222.789    2321.408\n",
      "C(city)[T.Los Gatos]                    820.8425    250.701      3.274      0.001     329.477    1312.208\n",
      "C(city)[T.Mariner's Island]            1492.6381   1.23e+04      0.122      0.903   -2.25e+04    2.55e+04\n",
      "C(city)[T.Martinez]                     243.1574   1.31e+05      0.002      0.999   -2.56e+05    2.56e+05\n",
      "C(city)[T.Menlo Park]                  1075.5451    199.205      5.399      0.000     685.110    1465.980\n",
      "C(city)[T.Middletown]                  -865.8857    514.322     -1.684      0.092   -1873.938     142.167\n",
      "C(city)[T.Mill Valley]                 1205.1661    272.407      4.424      0.000     671.258    1739.074\n",
      "C(city)[T.Millbrae]                     895.9555    318.407      2.814      0.005     271.888    1520.023\n",
      "C(city)[T.Milpitas]                     122.6872    202.725      0.605      0.545    -274.646     520.020\n",
      "C(city)[T.Monte Rio]                    960.9107   7.02e+04      0.014      0.989   -1.37e+05    1.38e+05\n",
      "C(city)[T.Morgan Hill]                  212.1535    205.556      1.032      0.302    -190.728     615.035\n",
      "C(city)[T.Mountain View]                864.6016    190.258      4.544      0.000     491.703    1237.501\n",
      "C(city)[T.Napa]                         864.7440   1.29e+04      0.067      0.947   -2.45e+04    2.62e+04\n",
      "C(city)[T.Newark]                     -1715.1258   1.77e+04     -0.097      0.923   -3.64e+04    3.29e+04\n",
      "C(city)[T.Novato]                       461.4539    241.898      1.908      0.056     -12.658     935.566\n",
      "C(city)[T.Oakland]                      127.6490     65.500      1.949      0.051      -0.728     256.026\n",
      "C(city)[T.Occidental]                  2037.9239    420.358      4.848      0.000    1214.038    2861.810\n",
      "C(city)[T.Oceanview]                    636.1373   2.36e+04      0.027      0.978   -4.56e+04    4.69e+04\n",
      "C(city)[T.Orinda]                      1026.6272   4.88e+04      0.021      0.983   -9.47e+04    9.67e+04\n",
      "C(city)[T.Pacifica]                     656.4681    205.085      3.201      0.001     254.510    1058.427\n",
      "C(city)[T.Palo Alto]                   1275.0861    205.221      6.213      0.000     872.860    1677.312\n",
      "C(city)[T.Park Pacifica Neighborhood]    74.1703   1.14e+05      0.001      0.999   -2.24e+05    2.24e+05\n",
      "C(city)[T.Petaluma]                     667.6892    243.707      2.740      0.006     190.032    1145.346\n",
      "C(city)[T.Pinole]                      -915.5418   4.52e+04     -0.020      0.984   -8.94e+04    8.76e+04\n",
      "C(city)[T.Pittsburg]                   -387.9742     85.488     -4.538      0.000    -555.529    -220.420\n",
      "C(city)[T.Pleasant Hill]                -74.7995    166.866     -0.448      0.654    -401.852     252.253\n",
      "C(city)[T.Pleasanton]                    60.8105    207.090      0.294      0.769    -345.078     466.699\n",
      "C(city)[T.Pleasure Point]              -368.8573   1.08e+04     -0.034      0.973   -2.15e+04    2.08e+04\n",
      "C(city)[T.Point Reyes]                  314.1407    5.4e+05      0.001      1.000   -1.06e+06    1.06e+06\n",
      "C(city)[T.Portola Valley]              1700.8961    236.333      7.197      0.000    1237.692    2164.101\n",
      "C(city)[T.Redwood City]                1044.4492    196.296      5.321      0.000     659.717    1429.182\n",
      "C(city)[T.Richmond]                    -318.7920    109.494     -2.912      0.004    -533.396    -104.188\n",
      "C(city)[T.Rio Nido]                    -124.4389    251.621     -0.495      0.621    -617.607     368.729\n",
      "C(city)[T.Rio Vista]                  -1059.1487    191.418     -5.533      0.000   -1434.321    -683.976\n",
      "C(city)[T.Rohnert Park]                 505.9548    277.639      1.822      0.068     -38.207    1050.117\n",
      "C(city)[T.Russian River]                444.6064    252.965      1.758      0.079     -51.196     940.408\n",
      "C(city)[T.San Anselmo]                 1358.4681    369.308      3.678      0.000     634.638    2082.298\n",
      "C(city)[T.San Bruno]                    833.1417    208.298      4.000      0.000     424.885    1241.398\n",
      "C(city)[T.San Carlos]                   683.6760    238.138      2.871      0.004     216.934    1150.418\n",
      "C(city)[T.San Francisco]               -444.9725    818.801     -0.543      0.587   -2049.794    1159.849\n",
      "C(city)[T.San Jose]                     213.2751    186.954      1.141      0.254    -153.148     579.698\n",
      "C(city)[T.San Leandro]                  -45.3252     73.702     -0.615      0.539    -189.779      99.128\n",
      "C(city)[T.San Mateo]                   1379.0277    196.352      7.023      0.000     994.185    1763.870\n",
      "C(city)[T.San Pablo]                   -273.4579   8.68e+05     -0.000      1.000    -1.7e+06     1.7e+06\n",
      "C(city)[T.San Rafael]                   853.1914    238.813      3.573      0.000     385.126    1321.257\n",
      "C(city)[T.San Ramon]                   -411.9107    234.651     -1.755      0.079    -871.818      47.996\n",
      "C(city)[T.Santa Clara]                  206.5520    188.677      1.095      0.274    -163.248     576.352\n",
      "C(city)[T.Santa Cruz]                   150.4601   1733.516      0.087      0.931   -3247.169    3548.089\n",
      "C(city)[T.Santa Rosa]                   264.6758    234.639      1.128      0.259    -195.208     724.560\n",
      "C(city)[T.Saratoga]                    1071.7279    576.751      1.858      0.063     -58.683    2202.138\n",
      "C(city)[T.Sausalito]                   2489.9196    358.393      6.947      0.000    1787.482    3192.357\n",
      "C(city)[T.Sebastopol]                  1003.6928    388.026      2.587      0.010     243.177    1764.209\n",
      "C(city)[T.Sonoma]                       523.1996    254.351      2.057      0.040      24.680    1021.719\n",
      "C(city)[T.Sonoma Valley]               1649.9428   2.88e+04      0.057      0.954   -5.48e+04    5.81e+04\n",
      "C(city)[T.Soquel]                       355.4609   1739.361      0.204      0.838   -3053.625    3764.547\n",
      "C(city)[T.South San Francisco]          466.5887    224.801      2.076      0.038      25.987     907.190\n",
      "C(city)[T.St. Helena]                   721.8196    659.883      1.094      0.274    -571.528    2015.167\n",
      "C(city)[T.Stockton]                   -1177.4351   8.82e+04     -0.013      0.989   -1.74e+05    1.72e+05\n",
      "C(city)[T.Suisun City]                  -55.2968    438.675     -0.126      0.900    -915.084     804.491\n",
      "C(city)[T.Summerville]                -2861.6068   2.12e+04     -0.135      0.893   -4.45e+04    3.88e+04\n",
      "C(city)[T.Sunnyvale]                    455.8037    188.737      2.415      0.016      85.886     825.721\n",
      "C(city)[T.Tiburon]                     1784.6815   1162.118      1.536      0.125    -493.028    4062.391\n",
      "C(city)[T.Tracy]                      -1502.7457    711.361     -2.112      0.035   -2896.988    -108.504\n",
      "C(city)[T.Vallejo]                     -332.9574     79.498     -4.188      0.000    -488.770    -177.145\n",
      "C(city)[T.Walnut Creek]                  97.3613     77.123      1.262      0.207     -53.798     248.521\n",
      "C(city)[T.Watsonville]                   89.6234   1743.007      0.051      0.959   -3326.607    3505.854\n",
      "C(city)[T.West Marin]                  1131.3554    300.134      3.769      0.000     543.103    1719.607\n",
      "C(city)[T.Westbrae]                    1075.3820    945.075      1.138      0.255    -776.931    2927.695\n",
      "C(city)[T.Windsor]                       84.9848   7.89e+04      0.001      0.999   -1.55e+05    1.55e+05\n",
      "C(city)[T.Woodside]                    1907.8417    305.330      6.248      0.000    1309.406    2506.278\n",
      "C(sub_region)[T.nby]                   -571.2065    224.957     -2.539      0.011   -1012.114    -130.299\n",
      "C(sub_region)[T.pen]                   -482.4074    183.973     -2.622      0.009    -842.987    -121.828\n",
      "C(sub_region)[T.sby]                   -230.0678    180.568     -1.274      0.203    -583.975     123.839\n",
      "C(sub_region)[T.scz]                     85.8087   1732.532      0.050      0.960   -3309.891    3481.508\n",
      "C(sub_region)[T.sfc]                   1265.2080    815.655      1.551      0.121    -333.446    2863.862\n",
      "sqft                                      0.0036      0.023      0.158      0.875      -0.041       0.048\n",
      "bedrooms                                342.6662     44.722      7.662      0.000     255.014     430.319\n",
      "bathrooms                               373.7752     62.232      6.006      0.000     251.803     495.748\n",
      "kitchen                                  26.3559     17.388      1.516      0.130      -7.724      60.436\n",
      "cats_OK                                 -58.6780     37.427     -1.568      0.117    -132.034      14.678\n",
      "dogs_OK                                 136.6507     37.752      3.620      0.000      62.658     210.643\n",
      "wheelchair_accessible                     5.0672     23.618      0.215      0.830     -41.223      51.357\n",
      "laundry_in_bldg                        -190.7848     71.736     -2.660      0.008    -331.385     -50.184\n",
      "no_laundry                             -237.9281     43.416     -5.480      0.000    -323.022    -152.834\n",
      "washer_and_dryer                         56.7273     74.531      0.761      0.447     -89.351     202.805\n",
      "washer_and_dryer_hookup                -199.9691     74.354     -2.689      0.007    -345.701     -54.237\n",
      "laundry_on_site                        -157.8277     68.438     -2.306      0.021    -291.964     -23.692\n",
      "full_kitchen                              8.1388     66.189      0.123      0.902    -121.589     137.866\n",
      "dishwasher                              -79.4790     24.179     -3.287      0.001    -126.869     -32.089\n",
      "refrigerator                             40.0439     29.247      1.369      0.171     -17.280      97.367\n",
      "oven                                     16.8736     30.269      0.557      0.577     -42.452      76.199\n",
      "flooring_carpet                         -13.3582     27.654     -0.483      0.629     -67.560      40.843\n",
      "flooring_wood                            31.2288     26.916      1.160      0.246     -21.525      83.983\n",
      "flooring_tile                          -147.3355     62.495     -2.358      0.018    -269.824     -24.847\n",
      "flooring_hardwood                      5.504e-13   1.19e-10      0.005      0.996   -2.32e-10    2.33e-10\n",
      "flooring_other                          -10.6464     29.492     -0.361      0.718     -68.449      47.156\n",
      "apt                                    -169.0865     83.331     -2.029      0.042    -332.412      -5.761\n",
      "in_law_apt                             -298.1792    109.512     -2.723      0.006    -512.818     -83.540\n",
      "condo                                   -82.2714     90.462     -0.909      0.363    -259.573      95.030\n",
      "townhouse                              -161.4008     74.180     -2.176      0.030    -306.791     -16.011\n",
      "cottage_or_cabin                       -145.3223    125.315     -1.160      0.246    -390.935     100.290\n",
      "single_fam                              348.3425     53.252      6.541      0.000     243.971     452.714\n",
      "duplex                                  -82.7295     89.736     -0.922      0.357    -258.609      93.150\n",
      "flat                                    482.0530     90.683      5.316      0.000     304.318     659.788\n",
      "land                                    248.2754    366.069      0.678      0.498    -469.206     965.757\n",
      "is_furnished                            -43.8666     48.334     -0.908      0.364    -138.600      50.867\n",
      "attached_garage                         241.4444     41.318      5.844      0.000     160.463     322.426\n",
      "detached_garage                         386.0266     44.593      8.657      0.000     298.626     473.428\n",
      "carport                                 125.6959     33.735      3.726      0.000      59.576     191.816\n",
      "off_street_parking                      174.1309     37.750      4.613      0.000     100.142     248.119\n",
      "no_parking                              100.1377     65.963      1.518      0.129     -29.148     229.423\n",
      "EV_charging                             154.6978     29.438      5.255      0.000      97.000     212.396\n",
      "air_condition                           120.5913     23.202      5.197      0.000      75.116     166.067\n",
      "no_smoking                               44.2065     21.526      2.054      0.040       2.016      86.397\n",
      "==============================================================================\n",
      "Omnibus:                     4287.012   Durbin-Watson:                   1.956\n",
      "Prob(Omnibus):                  0.000   Jarque-Bera (JB):            69958.759\n",
      "Skew:                           1.263   Prob(JB):                         0.00\n",
      "Kurtosis:                      14.504   Cond. No.                     2.59e+20\n",
      "==============================================================================\n",
      "\n",
      "Notes:\n",
      "[1] Standard Errors are heteroscedasticity robust (HC3)\n",
      "[2] The smallest eigenvalue is 2.86e-29. This might indicate that there are\n",
      "strong multicollinearity problems or that the design matrix is singular.\n"
     ]
    },
    {
     "name": "stderr",
     "output_type": "stream",
     "text": [
      "d:\\Coding and Code projects\\Python\\craigslist_data_proj\\CraigslistWebScraper\\craigslist_venv\\lib\\site-packages\\statsmodels\\base\\model.py:1873: ValueWarning: covariance of constraints does not have full rank. The number of constraints is 169, but rank is 166\n",
      "  'rank is %d' % (J, J_), ValueWarning)\n"
     ]
    },
    {
     "data": {
      "text/plain": [
       "<statsmodels.regression.linear_model.RegressionResultsWrapper at 0x2bf18930>"
      ]
     },
     "execution_count": 87,
     "metadata": {},
     "output_type": "execute_result"
    }
   ],
   "source": [
    "## implement pooled OLS with *both* sub_region *and* city indicators \n",
    "\n",
    "\n",
    "# ##  run OLS regression, and show output of model via statsmodels library\n",
    "## fit OLS model (*with robust standard errors to deal w/ heteroskedasticity) and print output\n",
    "def fit_OLS_robust_SE(df, outcome_var, irrelevant_cols, categoric_var1, categoric_var2, dict_of_ref_group_col_names):\n",
    "    # NB!: specify the names of the reference group columns for the sets of mutually exclusive indicator variables--e.g., the housing type indicators (ie, apt, duplex, etc.)\n",
    "    print(f'The reference groups for the sets of mutually exclusive indicator variables are:\\n{ {key:value for key, value in dict_of_ref_group_col_names.items()} }')\n",
    "    \n",
    "    # NB2: remove all reference groups for the sets of mutually exclusive indicator variables\n",
    "    # for ease of removing reference group cols, convert the dictionary's values to a list of str elements:\n",
    "    list_of_ref_group_cols = [str(value) for key, value in dict_of_ref_group_col_names.items()] # convert the values (ie, the column names) of the dict to a list of strings\n",
    "    # remove each reference group col from dataset (ie, before running OLS)\n",
    "    df = df.drop(columns=list_of_ref_group_cols)\n",
    "\n",
    "    # compute total number of all RHS variables (having *removed* the reference group cols)   \n",
    "    num_cols = df.drop(columns=[outcome_var, irrelevant_cols]).shape[1]   # obtain number of  RHS cols\n",
    "    # get a list of all RHS covariates *excluding* categorical variables \n",
    "    RHS_vars_sans_categorical = df.drop(columns=[outcome_var, irrelevant_cols, categoric_var1, categoric_var2]) \n",
    "    # NB!: before estimating model, *remove* reference groups for the sets of *mutually exclusive* indicator variables--ie, housing type (e.g., apt), etc.\n",
    "      # iterate over  each value of the ref group dict, and convert to str\n",
    "    RHS_vars_sans_categorical = df.drop(columns=[dict_of_ref_group_col_names]  \n",
    "    print(f\"The reference groups for the sets of mutually exclusive indicator variables are:\\n{dict_of_ref_group_col_names}\")\n",
    "    # Estimate OLS model using R-like OLS formula syntax\n",
    "    OLS_model =  smf.ols(\n",
    "        formula= f'{outcome_var} ~ {\" + \".join(str(el) for el in RHS_vars_sans_categorical)} + C({categoric_var1}) + C({categoric_var2})', \n",
    "        data =df\n",
    "        )   # NB: intercept term is automatically included by this smf.ols statsmodels module (unlike for sm.OLS)\n",
    "    # Fit OLS model using HC3 robust standard errors: \n",
    "    reg_res = OLS_model.fit(cov_type='HC3')   #fit the OLS regression model with hetereoskedastic-robust standard errors (ie, HC3), and thereby derive the parameter estimates\n",
    "    # use cov_type='HC3' to estimate standard errors that are robust to heteroskedastic (ie, non-constant) variance, to estimate more accurate standard errors. \n",
    "    print(f\"Number of covariates (ie, regressor columns):\\n {num_cols}.\\n\\nThis OLS model specification has the following columns:\\n{RHS_vars_sans_categorical.columns, categoric_var1, categoric_var2}.\\n\\n\\nThe regression model's results are as follows:\\n{reg_res.summary()}\")   #  print regression results  \n",
    "    return reg_res  # return fitted model results so we can store it \n",
    "\n",
    "# specify outcome var name\n",
    "outcome_var = \"price\"\n",
    "\n",
    "# specify columns that are irrelevant (ie, not usable) to the OLS model\n",
    "irrelevant_vars = \"date_posted\"\n",
    "\n",
    "# specify categorical variable names\n",
    "\n",
    "categ_var2 = \"sub_region\"\n",
    "\n",
    "fit_OLS_robust_SE(df, outcome_var, irrelevant_vars, categ_var1, categ_var2, dict_of_ref_group_col_names)\n",
    "\n"
   ]
  },
  {
   "cell_type": "code",
   "execution_count": null,
   "metadata": {},
   "outputs": [],
   "source": []
  },
  {
   "cell_type": "code",
   "execution_count": null,
   "metadata": {},
   "outputs": [],
   "source": [
    "OLS_model =  smf.ols(\n",
    "        formula= f'{outcome_var} ~ {\" + \".join(str(el) for el in RHS_vars_sans_categorical)} + C({categoric_var1}) + C({categoric_var2})', \n",
    "        data =df\n",
    "        )   # NB: intercept term is automatically included by this smf.ols statsmodels module (unlike for sm.OLS)\n",
    "    # Fit OLS model using HC3 robust standard errors: \n",
    "    reg_res = OLS_model.fit(cov_type='HC3')"
   ]
  },
  {
   "cell_type": "code",
   "execution_count": 84,
   "metadata": {},
   "outputs": [
    {
     "data": {
      "text/plain": [
       "Index(['sqft', 'city', 'price', 'bedrooms', 'bathrooms', 'kitchen',\n",
       "       'date_posted', 'region', 'sub_region', 'cats_OK', 'dogs_OK',\n",
       "       'wheelchair_accessible', 'laundry_in_bldg', 'no_laundry',\n",
       "       'washer_and_dryer', 'washer_and_dryer_hookup', 'laundry_on_site',\n",
       "       'full_kitchen', 'dishwasher', 'refrigerator', 'oven', 'flooring_carpet',\n",
       "       'flooring_wood', 'flooring_tile', 'flooring_hardwood', 'flooring_other',\n",
       "       'apt', 'in_law_apt', 'condo', 'townhouse', 'cottage_or_cabin',\n",
       "       'single_fam', 'duplex', 'flat', 'land', 'is_furnished',\n",
       "       'attached_garage', 'detached_garage', 'carport', 'off_street_parking',\n",
       "       'no_parking', 'EV_charging', 'air_condition', 'no_smoking', 'weekday'],\n",
       "      dtype='object')"
      ]
     },
     "execution_count": 84,
     "metadata": {},
     "output_type": "execute_result"
    }
   ],
   "source": [
    "df.columns"
   ]
  },
  {
   "cell_type": "code",
   "execution_count": null,
   "metadata": {},
   "outputs": [],
   "source": []
  },
  {
   "cell_type": "markdown",
   "metadata": {},
   "source": [
    "## F.)  Fixed effects models:\n",
    "\n",
    "## F1) Fit a fixed effects model. \n",
    "\n",
    "### Fixed effects model--let's use the same entity & time effects as with the Pooled OLS fitted above, so we can readily compare the Pooled OLS vs fixed effects when we  sub_region & "
   ]
  },
  {
   "cell_type": "code",
   "execution_count": null,
   "metadata": {},
   "outputs": [],
   "source": [
    "## NB: see following for fixed effects model example (but obv change var and dataset names)\n",
    "# Transform `x2` to match model\n",
    "df['x2'] = df['x2'].multiply(df['time'], axis=0)\n",
    "# District fixed effects\n",
    "df['delta'] = pd.Categorical(df['district'])\n",
    "# State-time fixed effects\n",
    "df['eta'] = pd.Categorical(df['state'] + df['year'].astype(str))\n",
    "# Set indexes\n",
    "df.set_index(['district','year'])\n",
    "\n",
    "from linearmodels.panel import PanelOLS\n",
    "m = PanelOLS(dependent=df['y'], exog=df[['constant','x1','x2','delta','eta']])"
   ]
  },
  {
   "cell_type": "code",
   "execution_count": null,
   "metadata": {},
   "outputs": [],
   "source": []
  },
  {
   "cell_type": "code",
   "execution_count": 32,
   "metadata": {},
   "outputs": [
    {
     "ename": "SyntaxError",
     "evalue": "invalid syntax (Temp/ipykernel_27532/735719729.py, line 23)",
     "output_type": "error",
     "traceback": [
      "\u001b[1;36m  File \u001b[1;32m\"C:\\Users\\KEVINA~1\\AppData\\Local\\Temp/ipykernel_27532/735719729.py\"\u001b[1;36m, line \u001b[1;32m23\u001b[0m\n\u001b[1;33m    print(f\"The reference groups for the sets of mutually exclusive indicator variables are:\\n{dict_of_ref_group_col_names}\")\u001b[0m\n\u001b[1;37m        ^\u001b[0m\n\u001b[1;31mSyntaxError\u001b[0m\u001b[1;31m:\u001b[0m invalid syntax\n"
     ]
    }
   ],
   "source": [
    "from linearmodels.panel import PanelOLS\n",
    "\n",
    "def fit_Fixed_Effects(df, entity_effects, time_effects, outcome_var, irrelevant_cols, dict_of_ref_group_col_names):\n",
    "  ## NB: we need to index the dataset along the entity and time (respectively) that we want for fixed/random effects:\n",
    "  #set index to the entity and time for transforming dataset to a proper panel \n",
    "  df.set_index([entity_effects, time_effects]) # set index to transform to panel dataset\n",
    "\n",
    "  # NB!: specify the names of the reference group columns for the sets of mutually exclusive indicator variables--e.g., the housing type indicators (ie, apt, duplex, etc.)\n",
    "  print(f'The reference groups for the sets of mutually exclusive indicator variables are:\\n{ {key:value for key, value in dict_of_ref_group_col_names.items()} }')\n",
    "  \n",
    "  # NB2: remove all reference groups for the sets of mutually exclusive indicator variables\n",
    "  # for ease of removing reference group cols, convert the dictionary's values to a list of str elements:\n",
    "  list_of_ref_group_cols = [str(value) for key, value in dict_of_ref_group_col_names.items()] # convert the values (ie, the column names) of the dict to a list of strings\n",
    "  # remove each reference group col from dataset (ie, before running regression)\n",
    "  df = df.drop(columns=list_of_ref_group_cols)\n",
    "\n",
    "  # compute total number of all RHS variables (having *removed* the reference group cols)   \n",
    "  num_cols = df.drop(columns=[outcome_var, irrelevant_cols]).shape[1]   # obtain number of  RHS cols\n",
    "  # get a list of all RHS covariates *excluding* categorical, irrelevant, and fixed effects cols\n",
    "  RHS_vars_sans_categorical = df.drop(columns=[outcome_var, irrelevant_cols, categoric_var1, 'city']) \n",
    "  # NB!: before estimating model, *remove* reference groups for the sets of *mutually exclusive* indicator variables--ie, housing type (e.g., apt), etc.\n",
    "  RHS_vars_sans_categorical = df.drop(columns=[dict_of_ref_group_col_names]  \n",
    "  print(f\"The reference groups for the sets of mutually exclusive indicator variables are:\\n{dict_of_ref_group_col_names}\")\n",
    "  # Estimate OLS model using R-like OLS formula syntax\n",
    "\n",
    "  # specify a list of covariates/RHS:\n",
    "  RHS_vars = RHS_vars_sans_categorical.to_list()\n",
    "  # add intercept (aka, constant)\n",
    "  RHS_vars = sm.add_constant(data[RHS_vars])\n",
    "  \n",
    "  ## instantiate Fixed Effects model-- NB: use both entity_effects and time_effects\n",
    "  # mod = PanelOLS(data.outcome_var, exog, entity_effects=True, time_effects=True)  # NB: entity_effects & time_effects will estimate the panel model using both entity effects (*sub_region in this case) & time effects (ie, )\n",
    "  \n",
    "  # NB: We can use the .from_formula() method to use an R-like formula syntax that's essentially equivalent to the statsmodels' smf module:\n",
    "  mod = PanelOLS.from_formula('f'{outcome_var} ~ {\" + \".join(str(el) for el in RHS_vars)} + EntityEffects +TimeEffects'', \n",
    "  data=df)\n",
    "\n",
    "  # fit model using clustered SE so we can adjust for intra-cluster correlation \n",
    "  fixed_effects_fitted = mod.fit()\n",
    "  # print results\n",
    "  print(fixed_effects_fitted)\n",
    "  # return fitted fixed effects model results\n",
    "  return fixed_effects_fitted\n",
    "\n",
    "\n",
    "= fit_Fixed_Effects()"
   ]
  },
  {
   "cell_type": "markdown",
   "metadata": {},
   "source": [
    "\n",
    "### Fb) Run a Breush-Pagan L-M test to test fitted (pooled) OLS model w/ city & sub_region dummies re: whether pooled OLS or a fixed effects model --ie, with sub_region fixed effects-- should be used instead.\n",
    "\n",
    "### F1b) NB: Since we have fairly small time periods and data (per entity), we might *only* want to use entity (ie, sub_region) fixed effects, *not* time fixed effects as well. \n",
    "\n",
    "NB: However, we can still use city dummy variables in tandem with sub_region fixed effects\n",
    "\n",
    "### F2) Depending on results of B-P LM test--namely: *if* the test favors fixed effects over Pooled OLS, then *proceed* to step F2) a), below:\n",
    "\n",
    "### F2) a) Run a fixed effects model *without time effects* and 2) a random effects model again *without time effects*.\n",
    "\n",
    "### F2) b) Run a Hausman test using the 2nd specification of the fixed effects --ie, *sans time effects* and the random effects model to use as input for the hypothesis test!\n",
    "\n",
    "### NB: Using a Hausman test, we can determine whether a fixed effects or random effects model should be preferred for analyzing the rental listing panel dataset. HGowever, as described above, we need to abide by the following constraints:\n",
    "\n",
    "#### 1)  The Breush-Pagan LM test indicates homoskedasticity and thus favors fixed effects over Pooled OLs--ie,  The Hausman test assumes homoskedasticity \n",
    "\n",
    "#### 2) In addition, the test we *cannot* use time fixed effects since using them would render the Hausman test results invalid! "
   ]
  },
  {
   "cell_type": "code",
   "execution_count": null,
   "metadata": {},
   "outputs": [],
   "source": [
    "# Breush-Pagan L-m test\n",
    "from statsmodels.compat import lzip\n",
    "import statsmodels.stats.api as sms\n",
    "\n",
    "## NB!: Here's documentation on *how* to perform a B-P LM test in Python!!\n",
    "# <https://www.statology.org/breusch-pagan-test-python/>\n",
    " \n",
    "def Breush_Pagan_LM_test(fitted_pooled_OLS):\n",
    "    \"\"\"Take in fitted pooled OLS model, and perform B-P L-M test to determine independence of fixed effects intercepts--ie, pooled OLS vs fixed effects\"\"\"\n",
    "    pass"
   ]
  },
  {
   "cell_type": "code",
   "execution_count": null,
   "metadata": {},
   "outputs": [],
   "source": []
  },
  {
   "cell_type": "markdown",
   "metadata": {},
   "source": [
    "### F2) a) 1 Run a fixed effects model *without time effects* and 2) a random effects model again *without time effects*.\n",
    "\n",
    "### F2) b) Run a Hausman test using the 2nd specification of the fixed effects --ie, *sans time effects* and the random effects model to use as input for the hypothesis test!"
   ]
  },
  {
   "cell_type": "code",
   "execution_count": null,
   "metadata": {},
   "outputs": [],
   "source": [
    "# Hausman test\n",
    "def Hausman_test():\n",
    "    \"\"\"Hausman test to determine fixed vs random effects model for panel regression.\"\"\"\n",
    "    pass"
   ]
  },
  {
   "cell_type": "code",
   "execution_count": null,
   "metadata": {},
   "outputs": [],
   "source": []
  },
  {
   "cell_type": "markdown",
   "metadata": {},
   "source": [
    "### F3) Run a random effects model"
   ]
  },
  {
   "cell_type": "code",
   "execution_count": null,
   "metadata": {},
   "outputs": [],
   "source": []
  },
  {
   "cell_type": "markdown",
   "metadata": {},
   "source": [
    "### F4) Compare the results of the Pooled OLS, fixed effects, and randome effects models (respectively) side-by-side:"
   ]
  },
  {
   "cell_type": "code",
   "execution_count": null,
   "metadata": {},
   "outputs": [],
   "source": [
    "from linearmodels.panel import compare\n",
    "\n",
    "def compare_fitted_panel_models(pooled_OLS_fitted, fixed_effects_fitted, random_effects_fitted):\n",
    "    print(compare({\"FE\": fixed_effects_fitted, \"RE\": random_effects_fitted, \"Pooled\": pooled_OLS_fitted}))\n",
    "\n"
   ]
  },
  {
   "cell_type": "markdown",
   "metadata": {},
   "source": [
    "### F5) Run a mixed effects model\n",
    "\n",
    "### NB: see statsmodels documentation on mixed effects models: <https://www.statsmodels.org/dev/mixed_linear.html?highlight=fixed%20effects>"
   ]
  },
  {
   "cell_type": "code",
   "execution_count": null,
   "metadata": {},
   "outputs": [],
   "source": [
    "\n",
    "\n",
    "mixed_effects = smf.mixedlm('outcome ~ time * targeted * sex', df, groups = df['patient'])\n"
   ]
  },
  {
   "cell_type": "markdown",
   "metadata": {},
   "source": [
    "## Implement Fixed Effects (*or random effects!!*) regression\n",
    "\n",
    "### NB: The *linearmodels* package provides a set of various panel regression model methods and implementations (among other regression methods)\n",
    "\n",
    "### linearmodels doc: <https://pypi.org/project/linearmodels/>\n",
    "\n",
    "\n",
    "### Also, see full example of fixed effects using linearmodels package: <https://lost-stats.github.io/Model_Estimation/OLS/fixed_effects_in_linear_regression.html>"
   ]
  },
  {
   "cell_type": "code",
   "execution_count": null,
   "metadata": {},
   "outputs": [],
   "source": []
  },
  {
   "cell_type": "code",
   "execution_count": null,
   "metadata": {},
   "outputs": [],
   "source": [
    "# D) - cont'd: normalize the datasets"
   ]
  },
  {
   "cell_type": "code",
   "execution_count": null,
   "metadata": {},
   "outputs": [],
   "source": [
    "# D) - cont'd:   use k-fold cross validation\n",
    "\n"
   ]
  },
  {
   "cell_type": "markdown",
   "metadata": {},
   "source": [
    "## E.) Estimate other regression models such as xgboost regression; then interpret models, determine accuracy of models, and make predictions:"
   ]
  },
  {
   "cell_type": "code",
   "execution_count": null,
   "metadata": {},
   "outputs": [],
   "source": [
    "# \n",
    "def xgboost_regression():\n",
    "    pass"
   ]
  },
  {
   "cell_type": "code",
   "execution_count": null,
   "metadata": {},
   "outputs": [],
   "source": []
  },
  {
   "cell_type": "code",
   "execution_count": null,
   "metadata": {},
   "outputs": [],
   "source": [
    "# Determine accuracy of models by calculating root-mean squared error (ie, RMSE)\n",
    "def calc_RMSE_accuracy(fitted_reg_model, reg_model_predictions):\n",
    "    pass"
   ]
  },
  {
   "cell_type": "code",
   "execution_count": null,
   "metadata": {},
   "outputs": [],
   "source": []
  },
  {
   "cell_type": "code",
   "execution_count": null,
   "metadata": {},
   "outputs": [],
   "source": []
  }
 ],
 "metadata": {
  "interpreter": {
   "hash": "9245c747e8241d920f220897f12edbe786b61c4594b5fa55595ea3a9c3131f03"
  },
  "kernelspec": {
   "display_name": "Python 3.7.1 32-bit ('craigslist_venv': venv)",
   "language": "python",
   "name": "python3"
  },
  "language_info": {
   "codemirror_mode": {
    "name": "ipython",
    "version": 3
   },
   "file_extension": ".py",
   "mimetype": "text/x-python",
   "name": "python",
   "nbconvert_exporter": "python",
   "pygments_lexer": "ipython3",
   "version": "3.7.1"
  },
  "orig_nbformat": 4
 },
 "nbformat": 4,
 "nbformat_minor": 2
}
